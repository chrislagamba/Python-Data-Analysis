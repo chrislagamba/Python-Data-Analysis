{
 "cells": [
  {
   "cell_type": "markdown",
   "id": "2e0d08a6",
   "metadata": {},
   "source": [
    "See the README.md file in the project folder for more details about this project, including the business case and primary question for the analysis. Criteria selection for the GBD Results Tool is also located in the README."
   ]
  },
  {
   "cell_type": "code",
   "execution_count": 2,
   "id": "2e292294",
   "metadata": {},
   "outputs": [],
   "source": [
    "# Load the necessary libraries\n",
    "import pandas as pd\n",
    "import numpy as np\n",
    "import seaborn as sns\n",
    "import plotly.express as px\n",
    "import matplotlib.pyplot as plt\n",
    "from ipywidgets import interact, Dropdown"
   ]
  },
  {
   "cell_type": "code",
   "execution_count": 3,
   "id": "ab324512",
   "metadata": {},
   "outputs": [
    {
     "name": "stdout",
     "output_type": "stream",
     "text": [
      "===== Dataset Info =====\n",
      "\n",
      "<class 'pandas.core.frame.DataFrame'>\n",
      "RangeIndex: 330480 entries, 0 to 330479\n",
      "Data columns (total 16 columns):\n",
      " #   Column         Non-Null Count   Dtype  \n",
      "---  ------         --------------   -----  \n",
      " 0   measure_id     330480 non-null  int64  \n",
      " 1   measure_name   330480 non-null  object \n",
      " 2   location_id    330480 non-null  int64  \n",
      " 3   location_name  330480 non-null  object \n",
      " 4   sex_id         330480 non-null  int64  \n",
      " 5   sex_name       330480 non-null  object \n",
      " 6   age_id         330480 non-null  int64  \n",
      " 7   age_name       330480 non-null  object \n",
      " 8   cause_id       330480 non-null  int64  \n",
      " 9   cause_name     330480 non-null  object \n",
      " 10  metric_id      330480 non-null  int64  \n",
      " 11  metric_name    330480 non-null  object \n",
      " 12  year           330480 non-null  int64  \n",
      " 13  val            330480 non-null  float64\n",
      " 14  upper          330480 non-null  float64\n",
      " 15  lower          330480 non-null  float64\n",
      "dtypes: float64(3), int64(7), object(6)\n",
      "memory usage: 40.3+ MB\n",
      "\n",
      "===== First five rows =====\n"
     ]
    },
    {
     "data": {
      "text/html": [
       "<div>\n",
       "<style scoped>\n",
       "    .dataframe tbody tr th:only-of-type {\n",
       "        vertical-align: middle;\n",
       "    }\n",
       "\n",
       "    .dataframe tbody tr th {\n",
       "        vertical-align: top;\n",
       "    }\n",
       "\n",
       "    .dataframe thead th {\n",
       "        text-align: right;\n",
       "    }\n",
       "</style>\n",
       "<table border=\"1\" class=\"dataframe\">\n",
       "  <thead>\n",
       "    <tr style=\"text-align: right;\">\n",
       "      <th></th>\n",
       "      <th>measure_id</th>\n",
       "      <th>measure_name</th>\n",
       "      <th>location_id</th>\n",
       "      <th>location_name</th>\n",
       "      <th>sex_id</th>\n",
       "      <th>sex_name</th>\n",
       "      <th>age_id</th>\n",
       "      <th>age_name</th>\n",
       "      <th>cause_id</th>\n",
       "      <th>cause_name</th>\n",
       "      <th>metric_id</th>\n",
       "      <th>metric_name</th>\n",
       "      <th>year</th>\n",
       "      <th>val</th>\n",
       "      <th>upper</th>\n",
       "      <th>lower</th>\n",
       "    </tr>\n",
       "  </thead>\n",
       "  <tbody>\n",
       "    <tr>\n",
       "      <th>0</th>\n",
       "      <td>1</td>\n",
       "      <td>Deaths</td>\n",
       "      <td>81</td>\n",
       "      <td>Germany</td>\n",
       "      <td>1</td>\n",
       "      <td>Male</td>\n",
       "      <td>22</td>\n",
       "      <td>All ages</td>\n",
       "      <td>322</td>\n",
       "      <td>Lower respiratory infections</td>\n",
       "      <td>1</td>\n",
       "      <td>Number</td>\n",
       "      <td>2013</td>\n",
       "      <td>10589.331043</td>\n",
       "      <td>11468.867301</td>\n",
       "      <td>9438.654286</td>\n",
       "    </tr>\n",
       "    <tr>\n",
       "      <th>1</th>\n",
       "      <td>1</td>\n",
       "      <td>Deaths</td>\n",
       "      <td>81</td>\n",
       "      <td>Germany</td>\n",
       "      <td>2</td>\n",
       "      <td>Female</td>\n",
       "      <td>22</td>\n",
       "      <td>All ages</td>\n",
       "      <td>322</td>\n",
       "      <td>Lower respiratory infections</td>\n",
       "      <td>1</td>\n",
       "      <td>Number</td>\n",
       "      <td>2013</td>\n",
       "      <td>9320.401070</td>\n",
       "      <td>10434.169420</td>\n",
       "      <td>7542.508086</td>\n",
       "    </tr>\n",
       "    <tr>\n",
       "      <th>2</th>\n",
       "      <td>1</td>\n",
       "      <td>Deaths</td>\n",
       "      <td>81</td>\n",
       "      <td>Germany</td>\n",
       "      <td>3</td>\n",
       "      <td>Both</td>\n",
       "      <td>22</td>\n",
       "      <td>All ages</td>\n",
       "      <td>322</td>\n",
       "      <td>Lower respiratory infections</td>\n",
       "      <td>1</td>\n",
       "      <td>Number</td>\n",
       "      <td>2013</td>\n",
       "      <td>19909.732113</td>\n",
       "      <td>21708.585516</td>\n",
       "      <td>17103.527461</td>\n",
       "    </tr>\n",
       "    <tr>\n",
       "      <th>3</th>\n",
       "      <td>1</td>\n",
       "      <td>Deaths</td>\n",
       "      <td>81</td>\n",
       "      <td>Germany</td>\n",
       "      <td>1</td>\n",
       "      <td>Male</td>\n",
       "      <td>22</td>\n",
       "      <td>All ages</td>\n",
       "      <td>322</td>\n",
       "      <td>Lower respiratory infections</td>\n",
       "      <td>2</td>\n",
       "      <td>Percent</td>\n",
       "      <td>2013</td>\n",
       "      <td>0.024968</td>\n",
       "      <td>0.027020</td>\n",
       "      <td>0.022325</td>\n",
       "    </tr>\n",
       "    <tr>\n",
       "      <th>4</th>\n",
       "      <td>1</td>\n",
       "      <td>Deaths</td>\n",
       "      <td>81</td>\n",
       "      <td>Germany</td>\n",
       "      <td>2</td>\n",
       "      <td>Female</td>\n",
       "      <td>22</td>\n",
       "      <td>All ages</td>\n",
       "      <td>322</td>\n",
       "      <td>Lower respiratory infections</td>\n",
       "      <td>2</td>\n",
       "      <td>Percent</td>\n",
       "      <td>2013</td>\n",
       "      <td>0.020368</td>\n",
       "      <td>0.022754</td>\n",
       "      <td>0.016486</td>\n",
       "    </tr>\n",
       "  </tbody>\n",
       "</table>\n",
       "</div>"
      ],
      "text/plain": [
       "   measure_id measure_name  location_id location_name  sex_id sex_name  \\\n",
       "0           1       Deaths           81       Germany       1     Male   \n",
       "1           1       Deaths           81       Germany       2   Female   \n",
       "2           1       Deaths           81       Germany       3     Both   \n",
       "3           1       Deaths           81       Germany       1     Male   \n",
       "4           1       Deaths           81       Germany       2   Female   \n",
       "\n",
       "   age_id  age_name  cause_id                    cause_name  metric_id  \\\n",
       "0      22  All ages       322  Lower respiratory infections          1   \n",
       "1      22  All ages       322  Lower respiratory infections          1   \n",
       "2      22  All ages       322  Lower respiratory infections          1   \n",
       "3      22  All ages       322  Lower respiratory infections          2   \n",
       "4      22  All ages       322  Lower respiratory infections          2   \n",
       "\n",
       "  metric_name  year           val         upper         lower  \n",
       "0      Number  2013  10589.331043  11468.867301   9438.654286  \n",
       "1      Number  2013   9320.401070  10434.169420   7542.508086  \n",
       "2      Number  2013  19909.732113  21708.585516  17103.527461  \n",
       "3     Percent  2013      0.024968      0.027020      0.022325  \n",
       "4     Percent  2013      0.020368      0.022754      0.016486  "
      ]
     },
     "execution_count": 3,
     "metadata": {},
     "output_type": "execute_result"
    }
   ],
   "source": [
    "# Import the dataset and view the info and head of the data\n",
    "gbd = pd.read_csv('/home/bruce/Desktop/coding-projects/GBD Datasets/IHME-GBD_2021_DATA-b411c487-1.csv')\n",
    "print(\"===== Dataset Info =====\" '\\n')\n",
    "gbd.info()\n",
    "print('\\n' \"===== First five rows =====\")\n",
    "gbd.head()"
   ]
  },
  {
   "cell_type": "code",
   "execution_count": 4,
   "id": "a835c472",
   "metadata": {},
   "outputs": [
    {
     "name": "stdout",
     "output_type": "stream",
     "text": [
      "===== Descriptive statistics for the dataset =====\n"
     ]
    },
    {
     "data": {
      "text/html": [
       "<div>\n",
       "<style scoped>\n",
       "    .dataframe tbody tr th:only-of-type {\n",
       "        vertical-align: middle;\n",
       "    }\n",
       "\n",
       "    .dataframe tbody tr th {\n",
       "        vertical-align: top;\n",
       "    }\n",
       "\n",
       "    .dataframe thead th {\n",
       "        text-align: right;\n",
       "    }\n",
       "</style>\n",
       "<table border=\"1\" class=\"dataframe\">\n",
       "  <thead>\n",
       "    <tr style=\"text-align: right;\">\n",
       "      <th></th>\n",
       "      <th>measure_id</th>\n",
       "      <th>location_id</th>\n",
       "      <th>sex_id</th>\n",
       "      <th>age_id</th>\n",
       "      <th>cause_id</th>\n",
       "      <th>metric_id</th>\n",
       "      <th>year</th>\n",
       "      <th>val</th>\n",
       "      <th>upper</th>\n",
       "      <th>lower</th>\n",
       "    </tr>\n",
       "  </thead>\n",
       "  <tbody>\n",
       "    <tr>\n",
       "      <th>count</th>\n",
       "      <td>330480.000000</td>\n",
       "      <td>330480.000000</td>\n",
       "      <td>330480.000000</td>\n",
       "      <td>330480.00000</td>\n",
       "      <td>330480.000000</td>\n",
       "      <td>330480.000000</td>\n",
       "      <td>330480.000000</td>\n",
       "      <td>3.304800e+05</td>\n",
       "      <td>3.304800e+05</td>\n",
       "      <td>3.304800e+05</td>\n",
       "    </tr>\n",
       "    <tr>\n",
       "      <th>mean</th>\n",
       "      <td>4.029412</td>\n",
       "      <td>70.851852</td>\n",
       "      <td>2.000000</td>\n",
       "      <td>173.00000</td>\n",
       "      <td>665.823529</td>\n",
       "      <td>2.000000</td>\n",
       "      <td>2016.500000</td>\n",
       "      <td>2.107100e+05</td>\n",
       "      <td>2.442471e+05</td>\n",
       "      <td>1.817524e+05</td>\n",
       "    </tr>\n",
       "    <tr>\n",
       "      <th>std</th>\n",
       "      <td>2.134941</td>\n",
       "      <td>16.358744</td>\n",
       "      <td>0.816498</td>\n",
       "      <td>97.94401</td>\n",
       "      <td>291.141347</td>\n",
       "      <td>0.816498</td>\n",
       "      <td>2.872286</td>\n",
       "      <td>2.698877e+06</td>\n",
       "      <td>3.067813e+06</td>\n",
       "      <td>2.377335e+06</td>\n",
       "    </tr>\n",
       "    <tr>\n",
       "      <th>min</th>\n",
       "      <td>1.000000</td>\n",
       "      <td>45.000000</td>\n",
       "      <td>1.000000</td>\n",
       "      <td>22.00000</td>\n",
       "      <td>297.000000</td>\n",
       "      <td>1.000000</td>\n",
       "      <td>2012.000000</td>\n",
       "      <td>0.000000e+00</td>\n",
       "      <td>0.000000e+00</td>\n",
       "      <td>0.000000e+00</td>\n",
       "    </tr>\n",
       "    <tr>\n",
       "      <th>25%</th>\n",
       "      <td>1.000000</td>\n",
       "      <td>54.000000</td>\n",
       "      <td>1.000000</td>\n",
       "      <td>124.00000</td>\n",
       "      <td>328.000000</td>\n",
       "      <td>1.000000</td>\n",
       "      <td>2014.000000</td>\n",
       "      <td>1.390339e-03</td>\n",
       "      <td>1.836781e-03</td>\n",
       "      <td>9.357030e-04</td>\n",
       "    </tr>\n",
       "    <tr>\n",
       "      <th>50%</th>\n",
       "      <td>5.000000</td>\n",
       "      <td>77.000000</td>\n",
       "      <td>2.000000</td>\n",
       "      <td>193.00000</td>\n",
       "      <td>515.000000</td>\n",
       "      <td>2.000000</td>\n",
       "      <td>2016.500000</td>\n",
       "      <td>4.286751e-01</td>\n",
       "      <td>5.427561e-01</td>\n",
       "      <td>3.230553e-01</td>\n",
       "    </tr>\n",
       "    <tr>\n",
       "      <th>75%</th>\n",
       "      <td>6.000000</td>\n",
       "      <td>86.000000</td>\n",
       "      <td>3.000000</td>\n",
       "      <td>242.00000</td>\n",
       "      <td>947.000000</td>\n",
       "      <td>3.000000</td>\n",
       "      <td>2019.000000</td>\n",
       "      <td>3.487790e+02</td>\n",
       "      <td>4.093847e+02</td>\n",
       "      <td>2.940222e+02</td>\n",
       "    </tr>\n",
       "    <tr>\n",
       "      <th>max</th>\n",
       "      <td>6.000000</td>\n",
       "      <td>93.000000</td>\n",
       "      <td>3.000000</td>\n",
       "      <td>284.00000</td>\n",
       "      <td>1048.000000</td>\n",
       "      <td>3.000000</td>\n",
       "      <td>2021.000000</td>\n",
       "      <td>1.585205e+08</td>\n",
       "      <td>1.755399e+08</td>\n",
       "      <td>1.434200e+08</td>\n",
       "    </tr>\n",
       "  </tbody>\n",
       "</table>\n",
       "</div>"
      ],
      "text/plain": [
       "          measure_id    location_id         sex_id        age_id  \\\n",
       "count  330480.000000  330480.000000  330480.000000  330480.00000   \n",
       "mean        4.029412      70.851852       2.000000     173.00000   \n",
       "std         2.134941      16.358744       0.816498      97.94401   \n",
       "min         1.000000      45.000000       1.000000      22.00000   \n",
       "25%         1.000000      54.000000       1.000000     124.00000   \n",
       "50%         5.000000      77.000000       2.000000     193.00000   \n",
       "75%         6.000000      86.000000       3.000000     242.00000   \n",
       "max         6.000000      93.000000       3.000000     284.00000   \n",
       "\n",
       "            cause_id      metric_id           year           val  \\\n",
       "count  330480.000000  330480.000000  330480.000000  3.304800e+05   \n",
       "mean      665.823529       2.000000    2016.500000  2.107100e+05   \n",
       "std       291.141347       0.816498       2.872286  2.698877e+06   \n",
       "min       297.000000       1.000000    2012.000000  0.000000e+00   \n",
       "25%       328.000000       1.000000    2014.000000  1.390339e-03   \n",
       "50%       515.000000       2.000000    2016.500000  4.286751e-01   \n",
       "75%       947.000000       3.000000    2019.000000  3.487790e+02   \n",
       "max      1048.000000       3.000000    2021.000000  1.585205e+08   \n",
       "\n",
       "              upper         lower  \n",
       "count  3.304800e+05  3.304800e+05  \n",
       "mean   2.442471e+05  1.817524e+05  \n",
       "std    3.067813e+06  2.377335e+06  \n",
       "min    0.000000e+00  0.000000e+00  \n",
       "25%    1.836781e-03  9.357030e-04  \n",
       "50%    5.427561e-01  3.230553e-01  \n",
       "75%    4.093847e+02  2.940222e+02  \n",
       "max    1.755399e+08  1.434200e+08  "
      ]
     },
     "execution_count": 4,
     "metadata": {},
     "output_type": "execute_result"
    }
   ],
   "source": [
    "# Descriptive stats for the dataset\n",
    "print(\"===== Descriptive statistics for the dataset =====\")\n",
    "gbd.describe()"
   ]
  },
  {
   "cell_type": "code",
   "execution_count": 5,
   "id": "79c8da46",
   "metadata": {},
   "outputs": [
    {
     "name": "stdout",
     "output_type": "stream",
     "text": [
      "===== Number of NA values per variable =====\n"
     ]
    },
    {
     "data": {
      "text/plain": [
       "measure_id       0\n",
       "measure_name     0\n",
       "location_id      0\n",
       "location_name    0\n",
       "sex_id           0\n",
       "sex_name         0\n",
       "age_id           0\n",
       "age_name         0\n",
       "cause_id         0\n",
       "cause_name       0\n",
       "metric_id        0\n",
       "metric_name      0\n",
       "year             0\n",
       "val              0\n",
       "upper            0\n",
       "lower            0\n",
       "dtype: int64"
      ]
     },
     "execution_count": 5,
     "metadata": {},
     "output_type": "execute_result"
    }
   ],
   "source": [
    "# Count NAs in dataset\n",
    "print(\"===== Number of NA values per variable =====\")\n",
    "gbd.isna().sum()"
   ]
  },
  {
   "cell_type": "markdown",
   "id": "de6ee7c3",
   "metadata": {},
   "source": [
    "Data appears mostly clean with no obvious missing data. Variable IDs (e.g., measure_id, location_id, etc.) were included by mistake during download (GBD results tool gives you the option to only include IDs, names, or both). Will remove since columns already exist with correct labels for each of these IDs. Will also change 'object' data types to 'category'. Consider dropping \"_name\" from column labels?"
   ]
  },
  {
   "cell_type": "code",
   "execution_count": 6,
   "id": "2343f046",
   "metadata": {},
   "outputs": [
    {
     "data": {
      "text/html": [
       "<div>\n",
       "<style scoped>\n",
       "    .dataframe tbody tr th:only-of-type {\n",
       "        vertical-align: middle;\n",
       "    }\n",
       "\n",
       "    .dataframe tbody tr th {\n",
       "        vertical-align: top;\n",
       "    }\n",
       "\n",
       "    .dataframe thead th {\n",
       "        text-align: right;\n",
       "    }\n",
       "</style>\n",
       "<table border=\"1\" class=\"dataframe\">\n",
       "  <thead>\n",
       "    <tr style=\"text-align: right;\">\n",
       "      <th></th>\n",
       "      <th>measure_name</th>\n",
       "      <th>location_name</th>\n",
       "      <th>sex_name</th>\n",
       "      <th>age_name</th>\n",
       "      <th>cause_name</th>\n",
       "      <th>metric_name</th>\n",
       "      <th>year</th>\n",
       "      <th>val</th>\n",
       "      <th>upper</th>\n",
       "      <th>lower</th>\n",
       "    </tr>\n",
       "  </thead>\n",
       "  <tbody>\n",
       "    <tr>\n",
       "      <th>0</th>\n",
       "      <td>Deaths</td>\n",
       "      <td>Germany</td>\n",
       "      <td>Male</td>\n",
       "      <td>All ages</td>\n",
       "      <td>Lower respiratory infections</td>\n",
       "      <td>Number</td>\n",
       "      <td>2013</td>\n",
       "      <td>10589.331043</td>\n",
       "      <td>11468.867301</td>\n",
       "      <td>9438.654286</td>\n",
       "    </tr>\n",
       "    <tr>\n",
       "      <th>1</th>\n",
       "      <td>Deaths</td>\n",
       "      <td>Germany</td>\n",
       "      <td>Female</td>\n",
       "      <td>All ages</td>\n",
       "      <td>Lower respiratory infections</td>\n",
       "      <td>Number</td>\n",
       "      <td>2013</td>\n",
       "      <td>9320.401070</td>\n",
       "      <td>10434.169420</td>\n",
       "      <td>7542.508086</td>\n",
       "    </tr>\n",
       "    <tr>\n",
       "      <th>2</th>\n",
       "      <td>Deaths</td>\n",
       "      <td>Germany</td>\n",
       "      <td>Both</td>\n",
       "      <td>All ages</td>\n",
       "      <td>Lower respiratory infections</td>\n",
       "      <td>Number</td>\n",
       "      <td>2013</td>\n",
       "      <td>19909.732113</td>\n",
       "      <td>21708.585516</td>\n",
       "      <td>17103.527461</td>\n",
       "    </tr>\n",
       "    <tr>\n",
       "      <th>3</th>\n",
       "      <td>Deaths</td>\n",
       "      <td>Germany</td>\n",
       "      <td>Male</td>\n",
       "      <td>All ages</td>\n",
       "      <td>Lower respiratory infections</td>\n",
       "      <td>Percent</td>\n",
       "      <td>2013</td>\n",
       "      <td>0.024968</td>\n",
       "      <td>0.027020</td>\n",
       "      <td>0.022325</td>\n",
       "    </tr>\n",
       "    <tr>\n",
       "      <th>4</th>\n",
       "      <td>Deaths</td>\n",
       "      <td>Germany</td>\n",
       "      <td>Female</td>\n",
       "      <td>All ages</td>\n",
       "      <td>Lower respiratory infections</td>\n",
       "      <td>Percent</td>\n",
       "      <td>2013</td>\n",
       "      <td>0.020368</td>\n",
       "      <td>0.022754</td>\n",
       "      <td>0.016486</td>\n",
       "    </tr>\n",
       "    <tr>\n",
       "      <th>...</th>\n",
       "      <td>...</td>\n",
       "      <td>...</td>\n",
       "      <td>...</td>\n",
       "      <td>...</td>\n",
       "      <td>...</td>\n",
       "      <td>...</td>\n",
       "      <td>...</td>\n",
       "      <td>...</td>\n",
       "      <td>...</td>\n",
       "      <td>...</td>\n",
       "    </tr>\n",
       "    <tr>\n",
       "      <th>330475</th>\n",
       "      <td>Incidence</td>\n",
       "      <td>Spain</td>\n",
       "      <td>Female</td>\n",
       "      <td>20-54 years</td>\n",
       "      <td>Asthma</td>\n",
       "      <td>Percent</td>\n",
       "      <td>2021</td>\n",
       "      <td>0.000490</td>\n",
       "      <td>0.000671</td>\n",
       "      <td>0.000353</td>\n",
       "    </tr>\n",
       "    <tr>\n",
       "      <th>330476</th>\n",
       "      <td>Incidence</td>\n",
       "      <td>Spain</td>\n",
       "      <td>Both</td>\n",
       "      <td>20-54 years</td>\n",
       "      <td>Asthma</td>\n",
       "      <td>Percent</td>\n",
       "      <td>2021</td>\n",
       "      <td>0.000433</td>\n",
       "      <td>0.000586</td>\n",
       "      <td>0.000311</td>\n",
       "    </tr>\n",
       "    <tr>\n",
       "      <th>330477</th>\n",
       "      <td>Incidence</td>\n",
       "      <td>Spain</td>\n",
       "      <td>Male</td>\n",
       "      <td>20-54 years</td>\n",
       "      <td>Asthma</td>\n",
       "      <td>Rate</td>\n",
       "      <td>2021</td>\n",
       "      <td>123.584280</td>\n",
       "      <td>163.491555</td>\n",
       "      <td>86.549419</td>\n",
       "    </tr>\n",
       "    <tr>\n",
       "      <th>330478</th>\n",
       "      <td>Incidence</td>\n",
       "      <td>Spain</td>\n",
       "      <td>Female</td>\n",
       "      <td>20-54 years</td>\n",
       "      <td>Asthma</td>\n",
       "      <td>Rate</td>\n",
       "      <td>2021</td>\n",
       "      <td>213.068617</td>\n",
       "      <td>286.626852</td>\n",
       "      <td>155.875266</td>\n",
       "    </tr>\n",
       "    <tr>\n",
       "      <th>330479</th>\n",
       "      <td>Incidence</td>\n",
       "      <td>Spain</td>\n",
       "      <td>Both</td>\n",
       "      <td>20-54 years</td>\n",
       "      <td>Asthma</td>\n",
       "      <td>Rate</td>\n",
       "      <td>2021</td>\n",
       "      <td>168.075531</td>\n",
       "      <td>223.083655</td>\n",
       "      <td>123.278089</td>\n",
       "    </tr>\n",
       "  </tbody>\n",
       "</table>\n",
       "<p>330480 rows × 10 columns</p>\n",
       "</div>"
      ],
      "text/plain": [
       "       measure_name location_name sex_name     age_name  \\\n",
       "0            Deaths       Germany     Male     All ages   \n",
       "1            Deaths       Germany   Female     All ages   \n",
       "2            Deaths       Germany     Both     All ages   \n",
       "3            Deaths       Germany     Male     All ages   \n",
       "4            Deaths       Germany   Female     All ages   \n",
       "...             ...           ...      ...          ...   \n",
       "330475    Incidence         Spain   Female  20-54 years   \n",
       "330476    Incidence         Spain     Both  20-54 years   \n",
       "330477    Incidence         Spain     Male  20-54 years   \n",
       "330478    Incidence         Spain   Female  20-54 years   \n",
       "330479    Incidence         Spain     Both  20-54 years   \n",
       "\n",
       "                          cause_name metric_name  year           val  \\\n",
       "0       Lower respiratory infections      Number  2013  10589.331043   \n",
       "1       Lower respiratory infections      Number  2013   9320.401070   \n",
       "2       Lower respiratory infections      Number  2013  19909.732113   \n",
       "3       Lower respiratory infections     Percent  2013      0.024968   \n",
       "4       Lower respiratory infections     Percent  2013      0.020368   \n",
       "...                              ...         ...   ...           ...   \n",
       "330475                        Asthma     Percent  2021      0.000490   \n",
       "330476                        Asthma     Percent  2021      0.000433   \n",
       "330477                        Asthma        Rate  2021    123.584280   \n",
       "330478                        Asthma        Rate  2021    213.068617   \n",
       "330479                        Asthma        Rate  2021    168.075531   \n",
       "\n",
       "               upper         lower  \n",
       "0       11468.867301   9438.654286  \n",
       "1       10434.169420   7542.508086  \n",
       "2       21708.585516  17103.527461  \n",
       "3           0.027020      0.022325  \n",
       "4           0.022754      0.016486  \n",
       "...              ...           ...  \n",
       "330475      0.000671      0.000353  \n",
       "330476      0.000586      0.000311  \n",
       "330477    163.491555     86.549419  \n",
       "330478    286.626852    155.875266  \n",
       "330479    223.083655    123.278089  \n",
       "\n",
       "[330480 rows x 10 columns]"
      ]
     },
     "execution_count": 6,
     "metadata": {},
     "output_type": "execute_result"
    }
   ],
   "source": [
    "# Remove ID columns\n",
    "drop_columns = ['measure_id', 'location_id', 'sex_id', 'age_id', 'cause_id', 'metric_id']\n",
    "\n",
    "gbd = gbd.drop(\n",
    "    labels = drop_columns,\n",
    "    axis = 1\n",
    ")\n",
    "\n",
    "gbd"
   ]
  },
  {
   "cell_type": "code",
   "execution_count": 7,
   "id": "2f9d6307",
   "metadata": {},
   "outputs": [
    {
     "data": {
      "text/html": [
       "<div>\n",
       "<style scoped>\n",
       "    .dataframe tbody tr th:only-of-type {\n",
       "        vertical-align: middle;\n",
       "    }\n",
       "\n",
       "    .dataframe tbody tr th {\n",
       "        vertical-align: top;\n",
       "    }\n",
       "\n",
       "    .dataframe thead th {\n",
       "        text-align: right;\n",
       "    }\n",
       "</style>\n",
       "<table border=\"1\" class=\"dataframe\">\n",
       "  <thead>\n",
       "    <tr style=\"text-align: right;\">\n",
       "      <th></th>\n",
       "      <th>measure</th>\n",
       "      <th>location</th>\n",
       "      <th>sex</th>\n",
       "      <th>age</th>\n",
       "      <th>cause</th>\n",
       "      <th>metric</th>\n",
       "      <th>year</th>\n",
       "      <th>val</th>\n",
       "      <th>upper</th>\n",
       "      <th>lower</th>\n",
       "    </tr>\n",
       "  </thead>\n",
       "  <tbody>\n",
       "    <tr>\n",
       "      <th>0</th>\n",
       "      <td>Deaths</td>\n",
       "      <td>Germany</td>\n",
       "      <td>Male</td>\n",
       "      <td>All ages</td>\n",
       "      <td>Lower respiratory infections</td>\n",
       "      <td>Number</td>\n",
       "      <td>2013</td>\n",
       "      <td>10589.331043</td>\n",
       "      <td>11468.867301</td>\n",
       "      <td>9438.654286</td>\n",
       "    </tr>\n",
       "    <tr>\n",
       "      <th>1</th>\n",
       "      <td>Deaths</td>\n",
       "      <td>Germany</td>\n",
       "      <td>Female</td>\n",
       "      <td>All ages</td>\n",
       "      <td>Lower respiratory infections</td>\n",
       "      <td>Number</td>\n",
       "      <td>2013</td>\n",
       "      <td>9320.401070</td>\n",
       "      <td>10434.169420</td>\n",
       "      <td>7542.508086</td>\n",
       "    </tr>\n",
       "    <tr>\n",
       "      <th>2</th>\n",
       "      <td>Deaths</td>\n",
       "      <td>Germany</td>\n",
       "      <td>Both</td>\n",
       "      <td>All ages</td>\n",
       "      <td>Lower respiratory infections</td>\n",
       "      <td>Number</td>\n",
       "      <td>2013</td>\n",
       "      <td>19909.732113</td>\n",
       "      <td>21708.585516</td>\n",
       "      <td>17103.527461</td>\n",
       "    </tr>\n",
       "    <tr>\n",
       "      <th>3</th>\n",
       "      <td>Deaths</td>\n",
       "      <td>Germany</td>\n",
       "      <td>Male</td>\n",
       "      <td>All ages</td>\n",
       "      <td>Lower respiratory infections</td>\n",
       "      <td>Percent</td>\n",
       "      <td>2013</td>\n",
       "      <td>0.024968</td>\n",
       "      <td>0.027020</td>\n",
       "      <td>0.022325</td>\n",
       "    </tr>\n",
       "    <tr>\n",
       "      <th>4</th>\n",
       "      <td>Deaths</td>\n",
       "      <td>Germany</td>\n",
       "      <td>Female</td>\n",
       "      <td>All ages</td>\n",
       "      <td>Lower respiratory infections</td>\n",
       "      <td>Percent</td>\n",
       "      <td>2013</td>\n",
       "      <td>0.020368</td>\n",
       "      <td>0.022754</td>\n",
       "      <td>0.016486</td>\n",
       "    </tr>\n",
       "    <tr>\n",
       "      <th>...</th>\n",
       "      <td>...</td>\n",
       "      <td>...</td>\n",
       "      <td>...</td>\n",
       "      <td>...</td>\n",
       "      <td>...</td>\n",
       "      <td>...</td>\n",
       "      <td>...</td>\n",
       "      <td>...</td>\n",
       "      <td>...</td>\n",
       "      <td>...</td>\n",
       "    </tr>\n",
       "    <tr>\n",
       "      <th>330475</th>\n",
       "      <td>Incidence</td>\n",
       "      <td>Spain</td>\n",
       "      <td>Female</td>\n",
       "      <td>20-54 years</td>\n",
       "      <td>Asthma</td>\n",
       "      <td>Percent</td>\n",
       "      <td>2021</td>\n",
       "      <td>0.000490</td>\n",
       "      <td>0.000671</td>\n",
       "      <td>0.000353</td>\n",
       "    </tr>\n",
       "    <tr>\n",
       "      <th>330476</th>\n",
       "      <td>Incidence</td>\n",
       "      <td>Spain</td>\n",
       "      <td>Both</td>\n",
       "      <td>20-54 years</td>\n",
       "      <td>Asthma</td>\n",
       "      <td>Percent</td>\n",
       "      <td>2021</td>\n",
       "      <td>0.000433</td>\n",
       "      <td>0.000586</td>\n",
       "      <td>0.000311</td>\n",
       "    </tr>\n",
       "    <tr>\n",
       "      <th>330477</th>\n",
       "      <td>Incidence</td>\n",
       "      <td>Spain</td>\n",
       "      <td>Male</td>\n",
       "      <td>20-54 years</td>\n",
       "      <td>Asthma</td>\n",
       "      <td>Rate</td>\n",
       "      <td>2021</td>\n",
       "      <td>123.584280</td>\n",
       "      <td>163.491555</td>\n",
       "      <td>86.549419</td>\n",
       "    </tr>\n",
       "    <tr>\n",
       "      <th>330478</th>\n",
       "      <td>Incidence</td>\n",
       "      <td>Spain</td>\n",
       "      <td>Female</td>\n",
       "      <td>20-54 years</td>\n",
       "      <td>Asthma</td>\n",
       "      <td>Rate</td>\n",
       "      <td>2021</td>\n",
       "      <td>213.068617</td>\n",
       "      <td>286.626852</td>\n",
       "      <td>155.875266</td>\n",
       "    </tr>\n",
       "    <tr>\n",
       "      <th>330479</th>\n",
       "      <td>Incidence</td>\n",
       "      <td>Spain</td>\n",
       "      <td>Both</td>\n",
       "      <td>20-54 years</td>\n",
       "      <td>Asthma</td>\n",
       "      <td>Rate</td>\n",
       "      <td>2021</td>\n",
       "      <td>168.075531</td>\n",
       "      <td>223.083655</td>\n",
       "      <td>123.278089</td>\n",
       "    </tr>\n",
       "  </tbody>\n",
       "</table>\n",
       "<p>330480 rows × 10 columns</p>\n",
       "</div>"
      ],
      "text/plain": [
       "          measure location     sex          age                         cause  \\\n",
       "0          Deaths  Germany    Male     All ages  Lower respiratory infections   \n",
       "1          Deaths  Germany  Female     All ages  Lower respiratory infections   \n",
       "2          Deaths  Germany    Both     All ages  Lower respiratory infections   \n",
       "3          Deaths  Germany    Male     All ages  Lower respiratory infections   \n",
       "4          Deaths  Germany  Female     All ages  Lower respiratory infections   \n",
       "...           ...      ...     ...          ...                           ...   \n",
       "330475  Incidence    Spain  Female  20-54 years                        Asthma   \n",
       "330476  Incidence    Spain    Both  20-54 years                        Asthma   \n",
       "330477  Incidence    Spain    Male  20-54 years                        Asthma   \n",
       "330478  Incidence    Spain  Female  20-54 years                        Asthma   \n",
       "330479  Incidence    Spain    Both  20-54 years                        Asthma   \n",
       "\n",
       "         metric  year           val         upper         lower  \n",
       "0        Number  2013  10589.331043  11468.867301   9438.654286  \n",
       "1        Number  2013   9320.401070  10434.169420   7542.508086  \n",
       "2        Number  2013  19909.732113  21708.585516  17103.527461  \n",
       "3       Percent  2013      0.024968      0.027020      0.022325  \n",
       "4       Percent  2013      0.020368      0.022754      0.016486  \n",
       "...         ...   ...           ...           ...           ...  \n",
       "330475  Percent  2021      0.000490      0.000671      0.000353  \n",
       "330476  Percent  2021      0.000433      0.000586      0.000311  \n",
       "330477     Rate  2021    123.584280    163.491555     86.549419  \n",
       "330478     Rate  2021    213.068617    286.626852    155.875266  \n",
       "330479     Rate  2021    168.075531    223.083655    123.278089  \n",
       "\n",
       "[330480 rows x 10 columns]"
      ]
     },
     "execution_count": 7,
     "metadata": {},
     "output_type": "execute_result"
    }
   ],
   "source": [
    "# Remove _name from column labels\n",
    "col_names = {'measure_name': 'measure',\n",
    "             'location_name': 'location',\n",
    "             'sex_name': 'sex',\n",
    "             'age_name': 'age',\n",
    "             'cause_name': 'cause',\n",
    "             'metric_name': 'metric'}\n",
    "\n",
    "gbd.rename(columns=col_names,\n",
    "           inplace=True)\n",
    "\n",
    "gbd"
   ]
  },
  {
   "cell_type": "code",
   "execution_count": 8,
   "id": "72f0a43c",
   "metadata": {},
   "outputs": [
    {
     "data": {
      "text/plain": [
       "measure     category\n",
       "location    category\n",
       "sex         category\n",
       "age         category\n",
       "cause       category\n",
       "metric      category\n",
       "year           int64\n",
       "val          float64\n",
       "upper        float64\n",
       "lower        float64\n",
       "dtype: object"
      ]
     },
     "execution_count": 8,
     "metadata": {},
     "output_type": "execute_result"
    }
   ],
   "source": [
    "# Change object data types to category\n",
    "gbd[['measure', 'location', 'sex', 'age', 'cause', 'metric']] = gbd[['measure', 'location', 'sex', 'age', 'cause', 'metric']].astype('category')\n",
    "gbd.dtypes"
   ]
  },
  {
   "cell_type": "markdown",
   "id": "020f5c1d",
   "metadata": {},
   "source": [
    "Data is clean and ready for visualization and exploratory data analysis."
   ]
  },
  {
   "cell_type": "code",
   "execution_count": 9,
   "id": "473d40a2",
   "metadata": {},
   "outputs": [
    {
     "data": {
      "text/html": [
       "<div>\n",
       "<style scoped>\n",
       "    .dataframe tbody tr th:only-of-type {\n",
       "        vertical-align: middle;\n",
       "    }\n",
       "\n",
       "    .dataframe tbody tr th {\n",
       "        vertical-align: top;\n",
       "    }\n",
       "\n",
       "    .dataframe thead th {\n",
       "        text-align: right;\n",
       "    }\n",
       "</style>\n",
       "<table border=\"1\" class=\"dataframe\">\n",
       "  <thead>\n",
       "    <tr style=\"text-align: right;\">\n",
       "      <th></th>\n",
       "      <th>measure</th>\n",
       "      <th>location</th>\n",
       "      <th>sex</th>\n",
       "      <th>age</th>\n",
       "      <th>cause</th>\n",
       "      <th>metric</th>\n",
       "    </tr>\n",
       "  </thead>\n",
       "  <tbody>\n",
       "    <tr>\n",
       "      <th>20-54 years</th>\n",
       "      <td>NaN</td>\n",
       "      <td>NaN</td>\n",
       "      <td>NaN</td>\n",
       "      <td>82620.0</td>\n",
       "      <td>NaN</td>\n",
       "      <td>NaN</td>\n",
       "    </tr>\n",
       "    <tr>\n",
       "      <th>55+ years</th>\n",
       "      <td>NaN</td>\n",
       "      <td>NaN</td>\n",
       "      <td>NaN</td>\n",
       "      <td>82620.0</td>\n",
       "      <td>NaN</td>\n",
       "      <td>NaN</td>\n",
       "    </tr>\n",
       "    <tr>\n",
       "      <th>&lt;20 years</th>\n",
       "      <td>NaN</td>\n",
       "      <td>NaN</td>\n",
       "      <td>NaN</td>\n",
       "      <td>82620.0</td>\n",
       "      <td>NaN</td>\n",
       "      <td>NaN</td>\n",
       "    </tr>\n",
       "    <tr>\n",
       "      <th>All ages</th>\n",
       "      <td>NaN</td>\n",
       "      <td>NaN</td>\n",
       "      <td>NaN</td>\n",
       "      <td>82620.0</td>\n",
       "      <td>NaN</td>\n",
       "      <td>NaN</td>\n",
       "    </tr>\n",
       "    <tr>\n",
       "      <th>Asthma</th>\n",
       "      <td>NaN</td>\n",
       "      <td>NaN</td>\n",
       "      <td>NaN</td>\n",
       "      <td>NaN</td>\n",
       "      <td>29160.0</td>\n",
       "      <td>NaN</td>\n",
       "    </tr>\n",
       "    <tr>\n",
       "      <th>Austria</th>\n",
       "      <td>NaN</td>\n",
       "      <td>12240.0</td>\n",
       "      <td>NaN</td>\n",
       "      <td>NaN</td>\n",
       "      <td>NaN</td>\n",
       "      <td>NaN</td>\n",
       "    </tr>\n",
       "    <tr>\n",
       "      <th>Belgium</th>\n",
       "      <td>NaN</td>\n",
       "      <td>12240.0</td>\n",
       "      <td>NaN</td>\n",
       "      <td>NaN</td>\n",
       "      <td>NaN</td>\n",
       "      <td>NaN</td>\n",
       "    </tr>\n",
       "    <tr>\n",
       "      <th>Both</th>\n",
       "      <td>NaN</td>\n",
       "      <td>NaN</td>\n",
       "      <td>110160.0</td>\n",
       "      <td>NaN</td>\n",
       "      <td>NaN</td>\n",
       "      <td>NaN</td>\n",
       "    </tr>\n",
       "    <tr>\n",
       "      <th>Bulgaria</th>\n",
       "      <td>NaN</td>\n",
       "      <td>12240.0</td>\n",
       "      <td>NaN</td>\n",
       "      <td>NaN</td>\n",
       "      <td>NaN</td>\n",
       "      <td>NaN</td>\n",
       "    </tr>\n",
       "    <tr>\n",
       "      <th>COVID-19</th>\n",
       "      <td>NaN</td>\n",
       "      <td>NaN</td>\n",
       "      <td>NaN</td>\n",
       "      <td>NaN</td>\n",
       "      <td>29160.0</td>\n",
       "      <td>NaN</td>\n",
       "    </tr>\n",
       "    <tr>\n",
       "      <th>Chronic obstructive pulmonary disease</th>\n",
       "      <td>NaN</td>\n",
       "      <td>NaN</td>\n",
       "      <td>NaN</td>\n",
       "      <td>NaN</td>\n",
       "      <td>29160.0</td>\n",
       "      <td>NaN</td>\n",
       "    </tr>\n",
       "    <tr>\n",
       "      <th>Croatia</th>\n",
       "      <td>NaN</td>\n",
       "      <td>12240.0</td>\n",
       "      <td>NaN</td>\n",
       "      <td>NaN</td>\n",
       "      <td>NaN</td>\n",
       "      <td>NaN</td>\n",
       "    </tr>\n",
       "    <tr>\n",
       "      <th>Cyprus</th>\n",
       "      <td>NaN</td>\n",
       "      <td>12240.0</td>\n",
       "      <td>NaN</td>\n",
       "      <td>NaN</td>\n",
       "      <td>NaN</td>\n",
       "      <td>NaN</td>\n",
       "    </tr>\n",
       "    <tr>\n",
       "      <th>Czechia</th>\n",
       "      <td>NaN</td>\n",
       "      <td>12240.0</td>\n",
       "      <td>NaN</td>\n",
       "      <td>NaN</td>\n",
       "      <td>NaN</td>\n",
       "      <td>NaN</td>\n",
       "    </tr>\n",
       "    <tr>\n",
       "      <th>Deaths</th>\n",
       "      <td>106920.0</td>\n",
       "      <td>NaN</td>\n",
       "      <td>NaN</td>\n",
       "      <td>NaN</td>\n",
       "      <td>NaN</td>\n",
       "      <td>NaN</td>\n",
       "    </tr>\n",
       "    <tr>\n",
       "      <th>Denmark</th>\n",
       "      <td>NaN</td>\n",
       "      <td>12240.0</td>\n",
       "      <td>NaN</td>\n",
       "      <td>NaN</td>\n",
       "      <td>NaN</td>\n",
       "      <td>NaN</td>\n",
       "    </tr>\n",
       "    <tr>\n",
       "      <th>Drug-susceptible tuberculosis</th>\n",
       "      <td>NaN</td>\n",
       "      <td>NaN</td>\n",
       "      <td>NaN</td>\n",
       "      <td>NaN</td>\n",
       "      <td>29160.0</td>\n",
       "      <td>NaN</td>\n",
       "    </tr>\n",
       "    <tr>\n",
       "      <th>Estonia</th>\n",
       "      <td>NaN</td>\n",
       "      <td>12240.0</td>\n",
       "      <td>NaN</td>\n",
       "      <td>NaN</td>\n",
       "      <td>NaN</td>\n",
       "      <td>NaN</td>\n",
       "    </tr>\n",
       "    <tr>\n",
       "      <th>Extensively drug-resistant tuberculosis</th>\n",
       "      <td>NaN</td>\n",
       "      <td>NaN</td>\n",
       "      <td>NaN</td>\n",
       "      <td>NaN</td>\n",
       "      <td>29160.0</td>\n",
       "      <td>NaN</td>\n",
       "    </tr>\n",
       "    <tr>\n",
       "      <th>Female</th>\n",
       "      <td>NaN</td>\n",
       "      <td>NaN</td>\n",
       "      <td>110160.0</td>\n",
       "      <td>NaN</td>\n",
       "      <td>NaN</td>\n",
       "      <td>NaN</td>\n",
       "    </tr>\n",
       "    <tr>\n",
       "      <th>Finland</th>\n",
       "      <td>NaN</td>\n",
       "      <td>12240.0</td>\n",
       "      <td>NaN</td>\n",
       "      <td>NaN</td>\n",
       "      <td>NaN</td>\n",
       "      <td>NaN</td>\n",
       "    </tr>\n",
       "    <tr>\n",
       "      <th>France</th>\n",
       "      <td>NaN</td>\n",
       "      <td>12240.0</td>\n",
       "      <td>NaN</td>\n",
       "      <td>NaN</td>\n",
       "      <td>NaN</td>\n",
       "      <td>NaN</td>\n",
       "    </tr>\n",
       "    <tr>\n",
       "      <th>Germany</th>\n",
       "      <td>NaN</td>\n",
       "      <td>12240.0</td>\n",
       "      <td>NaN</td>\n",
       "      <td>NaN</td>\n",
       "      <td>NaN</td>\n",
       "      <td>NaN</td>\n",
       "    </tr>\n",
       "    <tr>\n",
       "      <th>Greece</th>\n",
       "      <td>NaN</td>\n",
       "      <td>12240.0</td>\n",
       "      <td>NaN</td>\n",
       "      <td>NaN</td>\n",
       "      <td>NaN</td>\n",
       "      <td>NaN</td>\n",
       "    </tr>\n",
       "    <tr>\n",
       "      <th>Hungary</th>\n",
       "      <td>NaN</td>\n",
       "      <td>12240.0</td>\n",
       "      <td>NaN</td>\n",
       "      <td>NaN</td>\n",
       "      <td>NaN</td>\n",
       "      <td>NaN</td>\n",
       "    </tr>\n",
       "    <tr>\n",
       "      <th>Incidence</th>\n",
       "      <td>106920.0</td>\n",
       "      <td>NaN</td>\n",
       "      <td>NaN</td>\n",
       "      <td>NaN</td>\n",
       "      <td>NaN</td>\n",
       "      <td>NaN</td>\n",
       "    </tr>\n",
       "    <tr>\n",
       "      <th>Ireland</th>\n",
       "      <td>NaN</td>\n",
       "      <td>12240.0</td>\n",
       "      <td>NaN</td>\n",
       "      <td>NaN</td>\n",
       "      <td>NaN</td>\n",
       "      <td>NaN</td>\n",
       "    </tr>\n",
       "    <tr>\n",
       "      <th>Italy</th>\n",
       "      <td>NaN</td>\n",
       "      <td>12240.0</td>\n",
       "      <td>NaN</td>\n",
       "      <td>NaN</td>\n",
       "      <td>NaN</td>\n",
       "      <td>NaN</td>\n",
       "    </tr>\n",
       "    <tr>\n",
       "      <th>Latent tuberculosis infection</th>\n",
       "      <td>NaN</td>\n",
       "      <td>NaN</td>\n",
       "      <td>NaN</td>\n",
       "      <td>NaN</td>\n",
       "      <td>9720.0</td>\n",
       "      <td>NaN</td>\n",
       "    </tr>\n",
       "    <tr>\n",
       "      <th>Latvia</th>\n",
       "      <td>NaN</td>\n",
       "      <td>12240.0</td>\n",
       "      <td>NaN</td>\n",
       "      <td>NaN</td>\n",
       "      <td>NaN</td>\n",
       "      <td>NaN</td>\n",
       "    </tr>\n",
       "    <tr>\n",
       "      <th>Lithuania</th>\n",
       "      <td>NaN</td>\n",
       "      <td>12240.0</td>\n",
       "      <td>NaN</td>\n",
       "      <td>NaN</td>\n",
       "      <td>NaN</td>\n",
       "      <td>NaN</td>\n",
       "    </tr>\n",
       "    <tr>\n",
       "      <th>Lower respiratory infections</th>\n",
       "      <td>NaN</td>\n",
       "      <td>NaN</td>\n",
       "      <td>NaN</td>\n",
       "      <td>NaN</td>\n",
       "      <td>29160.0</td>\n",
       "      <td>NaN</td>\n",
       "    </tr>\n",
       "    <tr>\n",
       "      <th>Luxembourg</th>\n",
       "      <td>NaN</td>\n",
       "      <td>12240.0</td>\n",
       "      <td>NaN</td>\n",
       "      <td>NaN</td>\n",
       "      <td>NaN</td>\n",
       "      <td>NaN</td>\n",
       "    </tr>\n",
       "    <tr>\n",
       "      <th>Male</th>\n",
       "      <td>NaN</td>\n",
       "      <td>NaN</td>\n",
       "      <td>110160.0</td>\n",
       "      <td>NaN</td>\n",
       "      <td>NaN</td>\n",
       "      <td>NaN</td>\n",
       "    </tr>\n",
       "    <tr>\n",
       "      <th>Malta</th>\n",
       "      <td>NaN</td>\n",
       "      <td>12240.0</td>\n",
       "      <td>NaN</td>\n",
       "      <td>NaN</td>\n",
       "      <td>NaN</td>\n",
       "      <td>NaN</td>\n",
       "    </tr>\n",
       "    <tr>\n",
       "      <th>Multidrug-resistant tuberculosis without extensive drug resistance</th>\n",
       "      <td>NaN</td>\n",
       "      <td>NaN</td>\n",
       "      <td>NaN</td>\n",
       "      <td>NaN</td>\n",
       "      <td>29160.0</td>\n",
       "      <td>NaN</td>\n",
       "    </tr>\n",
       "    <tr>\n",
       "      <th>Netherlands</th>\n",
       "      <td>NaN</td>\n",
       "      <td>12240.0</td>\n",
       "      <td>NaN</td>\n",
       "      <td>NaN</td>\n",
       "      <td>NaN</td>\n",
       "      <td>NaN</td>\n",
       "    </tr>\n",
       "    <tr>\n",
       "      <th>Number</th>\n",
       "      <td>NaN</td>\n",
       "      <td>NaN</td>\n",
       "      <td>NaN</td>\n",
       "      <td>NaN</td>\n",
       "      <td>NaN</td>\n",
       "      <td>110160.0</td>\n",
       "    </tr>\n",
       "    <tr>\n",
       "      <th>Percent</th>\n",
       "      <td>NaN</td>\n",
       "      <td>NaN</td>\n",
       "      <td>NaN</td>\n",
       "      <td>NaN</td>\n",
       "      <td>NaN</td>\n",
       "      <td>110160.0</td>\n",
       "    </tr>\n",
       "    <tr>\n",
       "      <th>Poland</th>\n",
       "      <td>NaN</td>\n",
       "      <td>12240.0</td>\n",
       "      <td>NaN</td>\n",
       "      <td>NaN</td>\n",
       "      <td>NaN</td>\n",
       "      <td>NaN</td>\n",
       "    </tr>\n",
       "    <tr>\n",
       "      <th>Portugal</th>\n",
       "      <td>NaN</td>\n",
       "      <td>12240.0</td>\n",
       "      <td>NaN</td>\n",
       "      <td>NaN</td>\n",
       "      <td>NaN</td>\n",
       "      <td>NaN</td>\n",
       "    </tr>\n",
       "    <tr>\n",
       "      <th>Prevalence</th>\n",
       "      <td>116640.0</td>\n",
       "      <td>NaN</td>\n",
       "      <td>NaN</td>\n",
       "      <td>NaN</td>\n",
       "      <td>NaN</td>\n",
       "      <td>NaN</td>\n",
       "    </tr>\n",
       "    <tr>\n",
       "      <th>Rate</th>\n",
       "      <td>NaN</td>\n",
       "      <td>NaN</td>\n",
       "      <td>NaN</td>\n",
       "      <td>NaN</td>\n",
       "      <td>NaN</td>\n",
       "      <td>110160.0</td>\n",
       "    </tr>\n",
       "    <tr>\n",
       "      <th>Respiratory infections and tuberculosis</th>\n",
       "      <td>NaN</td>\n",
       "      <td>NaN</td>\n",
       "      <td>NaN</td>\n",
       "      <td>NaN</td>\n",
       "      <td>29160.0</td>\n",
       "      <td>NaN</td>\n",
       "    </tr>\n",
       "    <tr>\n",
       "      <th>Romania</th>\n",
       "      <td>NaN</td>\n",
       "      <td>12240.0</td>\n",
       "      <td>NaN</td>\n",
       "      <td>NaN</td>\n",
       "      <td>NaN</td>\n",
       "      <td>NaN</td>\n",
       "    </tr>\n",
       "    <tr>\n",
       "      <th>Slovakia</th>\n",
       "      <td>NaN</td>\n",
       "      <td>12240.0</td>\n",
       "      <td>NaN</td>\n",
       "      <td>NaN</td>\n",
       "      <td>NaN</td>\n",
       "      <td>NaN</td>\n",
       "    </tr>\n",
       "    <tr>\n",
       "      <th>Slovenia</th>\n",
       "      <td>NaN</td>\n",
       "      <td>12240.0</td>\n",
       "      <td>NaN</td>\n",
       "      <td>NaN</td>\n",
       "      <td>NaN</td>\n",
       "      <td>NaN</td>\n",
       "    </tr>\n",
       "    <tr>\n",
       "      <th>Spain</th>\n",
       "      <td>NaN</td>\n",
       "      <td>12240.0</td>\n",
       "      <td>NaN</td>\n",
       "      <td>NaN</td>\n",
       "      <td>NaN</td>\n",
       "      <td>NaN</td>\n",
       "    </tr>\n",
       "    <tr>\n",
       "      <th>Sweden</th>\n",
       "      <td>NaN</td>\n",
       "      <td>12240.0</td>\n",
       "      <td>NaN</td>\n",
       "      <td>NaN</td>\n",
       "      <td>NaN</td>\n",
       "      <td>NaN</td>\n",
       "    </tr>\n",
       "    <tr>\n",
       "      <th>Tracheal, bronchus, and lung cancer</th>\n",
       "      <td>NaN</td>\n",
       "      <td>NaN</td>\n",
       "      <td>NaN</td>\n",
       "      <td>NaN</td>\n",
       "      <td>29160.0</td>\n",
       "      <td>NaN</td>\n",
       "    </tr>\n",
       "    <tr>\n",
       "      <th>Tuberculosis</th>\n",
       "      <td>NaN</td>\n",
       "      <td>NaN</td>\n",
       "      <td>NaN</td>\n",
       "      <td>NaN</td>\n",
       "      <td>29160.0</td>\n",
       "      <td>NaN</td>\n",
       "    </tr>\n",
       "    <tr>\n",
       "      <th>Upper respiratory infections</th>\n",
       "      <td>NaN</td>\n",
       "      <td>NaN</td>\n",
       "      <td>NaN</td>\n",
       "      <td>NaN</td>\n",
       "      <td>29160.0</td>\n",
       "      <td>NaN</td>\n",
       "    </tr>\n",
       "  </tbody>\n",
       "</table>\n",
       "</div>"
      ],
      "text/plain": [
       "                                                     measure  location  \\\n",
       "20-54 years                                              NaN       NaN   \n",
       "55+ years                                                NaN       NaN   \n",
       "<20 years                                                NaN       NaN   \n",
       "All ages                                                 NaN       NaN   \n",
       "Asthma                                                   NaN       NaN   \n",
       "Austria                                                  NaN   12240.0   \n",
       "Belgium                                                  NaN   12240.0   \n",
       "Both                                                     NaN       NaN   \n",
       "Bulgaria                                                 NaN   12240.0   \n",
       "COVID-19                                                 NaN       NaN   \n",
       "Chronic obstructive pulmonary disease                    NaN       NaN   \n",
       "Croatia                                                  NaN   12240.0   \n",
       "Cyprus                                                   NaN   12240.0   \n",
       "Czechia                                                  NaN   12240.0   \n",
       "Deaths                                              106920.0       NaN   \n",
       "Denmark                                                  NaN   12240.0   \n",
       "Drug-susceptible tuberculosis                            NaN       NaN   \n",
       "Estonia                                                  NaN   12240.0   \n",
       "Extensively drug-resistant tuberculosis                  NaN       NaN   \n",
       "Female                                                   NaN       NaN   \n",
       "Finland                                                  NaN   12240.0   \n",
       "France                                                   NaN   12240.0   \n",
       "Germany                                                  NaN   12240.0   \n",
       "Greece                                                   NaN   12240.0   \n",
       "Hungary                                                  NaN   12240.0   \n",
       "Incidence                                           106920.0       NaN   \n",
       "Ireland                                                  NaN   12240.0   \n",
       "Italy                                                    NaN   12240.0   \n",
       "Latent tuberculosis infection                            NaN       NaN   \n",
       "Latvia                                                   NaN   12240.0   \n",
       "Lithuania                                                NaN   12240.0   \n",
       "Lower respiratory infections                             NaN       NaN   \n",
       "Luxembourg                                               NaN   12240.0   \n",
       "Male                                                     NaN       NaN   \n",
       "Malta                                                    NaN   12240.0   \n",
       "Multidrug-resistant tuberculosis without extens...       NaN       NaN   \n",
       "Netherlands                                              NaN   12240.0   \n",
       "Number                                                   NaN       NaN   \n",
       "Percent                                                  NaN       NaN   \n",
       "Poland                                                   NaN   12240.0   \n",
       "Portugal                                                 NaN   12240.0   \n",
       "Prevalence                                          116640.0       NaN   \n",
       "Rate                                                     NaN       NaN   \n",
       "Respiratory infections and tuberculosis                  NaN       NaN   \n",
       "Romania                                                  NaN   12240.0   \n",
       "Slovakia                                                 NaN   12240.0   \n",
       "Slovenia                                                 NaN   12240.0   \n",
       "Spain                                                    NaN   12240.0   \n",
       "Sweden                                                   NaN   12240.0   \n",
       "Tracheal, bronchus, and lung cancer                      NaN       NaN   \n",
       "Tuberculosis                                             NaN       NaN   \n",
       "Upper respiratory infections                             NaN       NaN   \n",
       "\n",
       "                                                         sex      age  \\\n",
       "20-54 years                                              NaN  82620.0   \n",
       "55+ years                                                NaN  82620.0   \n",
       "<20 years                                                NaN  82620.0   \n",
       "All ages                                                 NaN  82620.0   \n",
       "Asthma                                                   NaN      NaN   \n",
       "Austria                                                  NaN      NaN   \n",
       "Belgium                                                  NaN      NaN   \n",
       "Both                                                110160.0      NaN   \n",
       "Bulgaria                                                 NaN      NaN   \n",
       "COVID-19                                                 NaN      NaN   \n",
       "Chronic obstructive pulmonary disease                    NaN      NaN   \n",
       "Croatia                                                  NaN      NaN   \n",
       "Cyprus                                                   NaN      NaN   \n",
       "Czechia                                                  NaN      NaN   \n",
       "Deaths                                                   NaN      NaN   \n",
       "Denmark                                                  NaN      NaN   \n",
       "Drug-susceptible tuberculosis                            NaN      NaN   \n",
       "Estonia                                                  NaN      NaN   \n",
       "Extensively drug-resistant tuberculosis                  NaN      NaN   \n",
       "Female                                              110160.0      NaN   \n",
       "Finland                                                  NaN      NaN   \n",
       "France                                                   NaN      NaN   \n",
       "Germany                                                  NaN      NaN   \n",
       "Greece                                                   NaN      NaN   \n",
       "Hungary                                                  NaN      NaN   \n",
       "Incidence                                                NaN      NaN   \n",
       "Ireland                                                  NaN      NaN   \n",
       "Italy                                                    NaN      NaN   \n",
       "Latent tuberculosis infection                            NaN      NaN   \n",
       "Latvia                                                   NaN      NaN   \n",
       "Lithuania                                                NaN      NaN   \n",
       "Lower respiratory infections                             NaN      NaN   \n",
       "Luxembourg                                               NaN      NaN   \n",
       "Male                                                110160.0      NaN   \n",
       "Malta                                                    NaN      NaN   \n",
       "Multidrug-resistant tuberculosis without extens...       NaN      NaN   \n",
       "Netherlands                                              NaN      NaN   \n",
       "Number                                                   NaN      NaN   \n",
       "Percent                                                  NaN      NaN   \n",
       "Poland                                                   NaN      NaN   \n",
       "Portugal                                                 NaN      NaN   \n",
       "Prevalence                                               NaN      NaN   \n",
       "Rate                                                     NaN      NaN   \n",
       "Respiratory infections and tuberculosis                  NaN      NaN   \n",
       "Romania                                                  NaN      NaN   \n",
       "Slovakia                                                 NaN      NaN   \n",
       "Slovenia                                                 NaN      NaN   \n",
       "Spain                                                    NaN      NaN   \n",
       "Sweden                                                   NaN      NaN   \n",
       "Tracheal, bronchus, and lung cancer                      NaN      NaN   \n",
       "Tuberculosis                                             NaN      NaN   \n",
       "Upper respiratory infections                             NaN      NaN   \n",
       "\n",
       "                                                      cause    metric  \n",
       "20-54 years                                             NaN       NaN  \n",
       "55+ years                                               NaN       NaN  \n",
       "<20 years                                               NaN       NaN  \n",
       "All ages                                                NaN       NaN  \n",
       "Asthma                                              29160.0       NaN  \n",
       "Austria                                                 NaN       NaN  \n",
       "Belgium                                                 NaN       NaN  \n",
       "Both                                                    NaN       NaN  \n",
       "Bulgaria                                                NaN       NaN  \n",
       "COVID-19                                            29160.0       NaN  \n",
       "Chronic obstructive pulmonary disease               29160.0       NaN  \n",
       "Croatia                                                 NaN       NaN  \n",
       "Cyprus                                                  NaN       NaN  \n",
       "Czechia                                                 NaN       NaN  \n",
       "Deaths                                                  NaN       NaN  \n",
       "Denmark                                                 NaN       NaN  \n",
       "Drug-susceptible tuberculosis                       29160.0       NaN  \n",
       "Estonia                                                 NaN       NaN  \n",
       "Extensively drug-resistant tuberculosis             29160.0       NaN  \n",
       "Female                                                  NaN       NaN  \n",
       "Finland                                                 NaN       NaN  \n",
       "France                                                  NaN       NaN  \n",
       "Germany                                                 NaN       NaN  \n",
       "Greece                                                  NaN       NaN  \n",
       "Hungary                                                 NaN       NaN  \n",
       "Incidence                                               NaN       NaN  \n",
       "Ireland                                                 NaN       NaN  \n",
       "Italy                                                   NaN       NaN  \n",
       "Latent tuberculosis infection                        9720.0       NaN  \n",
       "Latvia                                                  NaN       NaN  \n",
       "Lithuania                                               NaN       NaN  \n",
       "Lower respiratory infections                        29160.0       NaN  \n",
       "Luxembourg                                              NaN       NaN  \n",
       "Male                                                    NaN       NaN  \n",
       "Malta                                                   NaN       NaN  \n",
       "Multidrug-resistant tuberculosis without extens...  29160.0       NaN  \n",
       "Netherlands                                             NaN       NaN  \n",
       "Number                                                  NaN  110160.0  \n",
       "Percent                                                 NaN  110160.0  \n",
       "Poland                                                  NaN       NaN  \n",
       "Portugal                                                NaN       NaN  \n",
       "Prevalence                                              NaN       NaN  \n",
       "Rate                                                    NaN  110160.0  \n",
       "Respiratory infections and tuberculosis             29160.0       NaN  \n",
       "Romania                                                 NaN       NaN  \n",
       "Slovakia                                                NaN       NaN  \n",
       "Slovenia                                                NaN       NaN  \n",
       "Spain                                                   NaN       NaN  \n",
       "Sweden                                                  NaN       NaN  \n",
       "Tracheal, bronchus, and lung cancer                 29160.0       NaN  \n",
       "Tuberculosis                                        29160.0       NaN  \n",
       "Upper respiratory infections                        29160.0       NaN  "
      ]
     },
     "execution_count": 9,
     "metadata": {},
     "output_type": "execute_result"
    }
   ],
   "source": [
    "# Count the values of the categorical columns\n",
    "gbd[['measure', 'location', 'sex', 'age', 'cause', 'metric']].apply(pd.Series.value_counts)"
   ]
  },
  {
   "cell_type": "markdown",
   "id": "9186c7cd",
   "metadata": {},
   "source": [
    "Measures (prevalence, incidence, deaths) do not contain same number of values. Also, 'Latent tuberculosis infection' only has 9720 values compared to 29160 for all other causes. Did reporting methods change (e.g., not reporting incidence, prevalence, rates, etc.)? Will do a more detailed and aggregated analysis to determine the root cause."
   ]
  },
  {
   "cell_type": "code",
   "execution_count": 10,
   "id": "aef86756",
   "metadata": {},
   "outputs": [
    {
     "name": "stdout",
     "output_type": "stream",
     "text": [
      "year         2012  2013  2014  2015  2016  2017  2018  2019  2020  2021\n",
      "location                                                               \n",
      "Austria      1224  1224  1224  1224  1224  1224  1224  1224  1224  1224\n",
      "Belgium      1224  1224  1224  1224  1224  1224  1224  1224  1224  1224\n",
      "Bulgaria     1224  1224  1224  1224  1224  1224  1224  1224  1224  1224\n",
      "Croatia      1224  1224  1224  1224  1224  1224  1224  1224  1224  1224\n",
      "Cyprus       1224  1224  1224  1224  1224  1224  1224  1224  1224  1224\n",
      "Czechia      1224  1224  1224  1224  1224  1224  1224  1224  1224  1224\n",
      "Denmark      1224  1224  1224  1224  1224  1224  1224  1224  1224  1224\n",
      "Estonia      1224  1224  1224  1224  1224  1224  1224  1224  1224  1224\n",
      "Finland      1224  1224  1224  1224  1224  1224  1224  1224  1224  1224\n",
      "France       1224  1224  1224  1224  1224  1224  1224  1224  1224  1224\n",
      "Germany      1224  1224  1224  1224  1224  1224  1224  1224  1224  1224\n",
      "Greece       1224  1224  1224  1224  1224  1224  1224  1224  1224  1224\n",
      "Hungary      1224  1224  1224  1224  1224  1224  1224  1224  1224  1224\n",
      "Ireland      1224  1224  1224  1224  1224  1224  1224  1224  1224  1224\n",
      "Italy        1224  1224  1224  1224  1224  1224  1224  1224  1224  1224\n",
      "Latvia       1224  1224  1224  1224  1224  1224  1224  1224  1224  1224\n",
      "Lithuania    1224  1224  1224  1224  1224  1224  1224  1224  1224  1224\n",
      "Luxembourg   1224  1224  1224  1224  1224  1224  1224  1224  1224  1224\n",
      "Malta        1224  1224  1224  1224  1224  1224  1224  1224  1224  1224\n",
      "Netherlands  1224  1224  1224  1224  1224  1224  1224  1224  1224  1224\n",
      "Poland       1224  1224  1224  1224  1224  1224  1224  1224  1224  1224\n",
      "Portugal     1224  1224  1224  1224  1224  1224  1224  1224  1224  1224\n",
      "Romania      1224  1224  1224  1224  1224  1224  1224  1224  1224  1224\n",
      "Slovakia     1224  1224  1224  1224  1224  1224  1224  1224  1224  1224\n",
      "Slovenia     1224  1224  1224  1224  1224  1224  1224  1224  1224  1224\n",
      "Spain        1224  1224  1224  1224  1224  1224  1224  1224  1224  1224\n",
      "Sweden       1224  1224  1224  1224  1224  1224  1224  1224  1224  1224\n"
     ]
    }
   ],
   "source": [
    "# Yearly distribution by country\n",
    "country_year_counts = (\n",
    "    gbd.groupby(['location', 'year'], observed=False)\n",
    "    .size()\n",
    "    .reset_index(name='entries_per_year')\n",
    "    .pivot(index='location', columns='year', values='entries_per_year')\n",
    "    .fillna(0)\n",
    ")\n",
    "print(country_year_counts)"
   ]
  },
  {
   "cell_type": "code",
   "execution_count": 11,
   "id": "a6340548",
   "metadata": {},
   "outputs": [
    {
     "name": "stdout",
     "output_type": "stream",
     "text": [
      "cause        Asthma  COVID-19  Chronic obstructive pulmonary disease  \\\n",
      "location                                                               \n",
      "Austria        1080      1080                                   1080   \n",
      "Belgium        1080      1080                                   1080   \n",
      "Bulgaria       1080      1080                                   1080   \n",
      "Croatia        1080      1080                                   1080   \n",
      "Cyprus         1080      1080                                   1080   \n",
      "Czechia        1080      1080                                   1080   \n",
      "Denmark        1080      1080                                   1080   \n",
      "Estonia        1080      1080                                   1080   \n",
      "Finland        1080      1080                                   1080   \n",
      "France         1080      1080                                   1080   \n",
      "Germany        1080      1080                                   1080   \n",
      "Greece         1080      1080                                   1080   \n",
      "Hungary        1080      1080                                   1080   \n",
      "Ireland        1080      1080                                   1080   \n",
      "Italy          1080      1080                                   1080   \n",
      "Latvia         1080      1080                                   1080   \n",
      "Lithuania      1080      1080                                   1080   \n",
      "Luxembourg     1080      1080                                   1080   \n",
      "Malta          1080      1080                                   1080   \n",
      "Netherlands    1080      1080                                   1080   \n",
      "Poland         1080      1080                                   1080   \n",
      "Portugal       1080      1080                                   1080   \n",
      "Romania        1080      1080                                   1080   \n",
      "Slovakia       1080      1080                                   1080   \n",
      "Slovenia       1080      1080                                   1080   \n",
      "Spain          1080      1080                                   1080   \n",
      "Sweden         1080      1080                                   1080   \n",
      "\n",
      "cause        Drug-susceptible tuberculosis  \\\n",
      "location                                     \n",
      "Austria                               1080   \n",
      "Belgium                               1080   \n",
      "Bulgaria                              1080   \n",
      "Croatia                               1080   \n",
      "Cyprus                                1080   \n",
      "Czechia                               1080   \n",
      "Denmark                               1080   \n",
      "Estonia                               1080   \n",
      "Finland                               1080   \n",
      "France                                1080   \n",
      "Germany                               1080   \n",
      "Greece                                1080   \n",
      "Hungary                               1080   \n",
      "Ireland                               1080   \n",
      "Italy                                 1080   \n",
      "Latvia                                1080   \n",
      "Lithuania                             1080   \n",
      "Luxembourg                            1080   \n",
      "Malta                                 1080   \n",
      "Netherlands                           1080   \n",
      "Poland                                1080   \n",
      "Portugal                              1080   \n",
      "Romania                               1080   \n",
      "Slovakia                              1080   \n",
      "Slovenia                              1080   \n",
      "Spain                                 1080   \n",
      "Sweden                                1080   \n",
      "\n",
      "cause        Extensively drug-resistant tuberculosis  \\\n",
      "location                                               \n",
      "Austria                                         1080   \n",
      "Belgium                                         1080   \n",
      "Bulgaria                                        1080   \n",
      "Croatia                                         1080   \n",
      "Cyprus                                          1080   \n",
      "Czechia                                         1080   \n",
      "Denmark                                         1080   \n",
      "Estonia                                         1080   \n",
      "Finland                                         1080   \n",
      "France                                          1080   \n",
      "Germany                                         1080   \n",
      "Greece                                          1080   \n",
      "Hungary                                         1080   \n",
      "Ireland                                         1080   \n",
      "Italy                                           1080   \n",
      "Latvia                                          1080   \n",
      "Lithuania                                       1080   \n",
      "Luxembourg                                      1080   \n",
      "Malta                                           1080   \n",
      "Netherlands                                     1080   \n",
      "Poland                                          1080   \n",
      "Portugal                                        1080   \n",
      "Romania                                         1080   \n",
      "Slovakia                                        1080   \n",
      "Slovenia                                        1080   \n",
      "Spain                                           1080   \n",
      "Sweden                                          1080   \n",
      "\n",
      "cause        Latent tuberculosis infection  Lower respiratory infections  \\\n",
      "location                                                                   \n",
      "Austria                                360                          1080   \n",
      "Belgium                                360                          1080   \n",
      "Bulgaria                               360                          1080   \n",
      "Croatia                                360                          1080   \n",
      "Cyprus                                 360                          1080   \n",
      "Czechia                                360                          1080   \n",
      "Denmark                                360                          1080   \n",
      "Estonia                                360                          1080   \n",
      "Finland                                360                          1080   \n",
      "France                                 360                          1080   \n",
      "Germany                                360                          1080   \n",
      "Greece                                 360                          1080   \n",
      "Hungary                                360                          1080   \n",
      "Ireland                                360                          1080   \n",
      "Italy                                  360                          1080   \n",
      "Latvia                                 360                          1080   \n",
      "Lithuania                              360                          1080   \n",
      "Luxembourg                             360                          1080   \n",
      "Malta                                  360                          1080   \n",
      "Netherlands                            360                          1080   \n",
      "Poland                                 360                          1080   \n",
      "Portugal                               360                          1080   \n",
      "Romania                                360                          1080   \n",
      "Slovakia                               360                          1080   \n",
      "Slovenia                               360                          1080   \n",
      "Spain                                  360                          1080   \n",
      "Sweden                                 360                          1080   \n",
      "\n",
      "cause        Multidrug-resistant tuberculosis without extensive drug resistance  \\\n",
      "location                                                                          \n",
      "Austria                                                   1080                    \n",
      "Belgium                                                   1080                    \n",
      "Bulgaria                                                  1080                    \n",
      "Croatia                                                   1080                    \n",
      "Cyprus                                                    1080                    \n",
      "Czechia                                                   1080                    \n",
      "Denmark                                                   1080                    \n",
      "Estonia                                                   1080                    \n",
      "Finland                                                   1080                    \n",
      "France                                                    1080                    \n",
      "Germany                                                   1080                    \n",
      "Greece                                                    1080                    \n",
      "Hungary                                                   1080                    \n",
      "Ireland                                                   1080                    \n",
      "Italy                                                     1080                    \n",
      "Latvia                                                    1080                    \n",
      "Lithuania                                                 1080                    \n",
      "Luxembourg                                                1080                    \n",
      "Malta                                                     1080                    \n",
      "Netherlands                                               1080                    \n",
      "Poland                                                    1080                    \n",
      "Portugal                                                  1080                    \n",
      "Romania                                                   1080                    \n",
      "Slovakia                                                  1080                    \n",
      "Slovenia                                                  1080                    \n",
      "Spain                                                     1080                    \n",
      "Sweden                                                    1080                    \n",
      "\n",
      "cause        Respiratory infections and tuberculosis  \\\n",
      "location                                               \n",
      "Austria                                         1080   \n",
      "Belgium                                         1080   \n",
      "Bulgaria                                        1080   \n",
      "Croatia                                         1080   \n",
      "Cyprus                                          1080   \n",
      "Czechia                                         1080   \n",
      "Denmark                                         1080   \n",
      "Estonia                                         1080   \n",
      "Finland                                         1080   \n",
      "France                                          1080   \n",
      "Germany                                         1080   \n",
      "Greece                                          1080   \n",
      "Hungary                                         1080   \n",
      "Ireland                                         1080   \n",
      "Italy                                           1080   \n",
      "Latvia                                          1080   \n",
      "Lithuania                                       1080   \n",
      "Luxembourg                                      1080   \n",
      "Malta                                           1080   \n",
      "Netherlands                                     1080   \n",
      "Poland                                          1080   \n",
      "Portugal                                        1080   \n",
      "Romania                                         1080   \n",
      "Slovakia                                        1080   \n",
      "Slovenia                                        1080   \n",
      "Spain                                           1080   \n",
      "Sweden                                          1080   \n",
      "\n",
      "cause        Tracheal, bronchus, and lung cancer  Tuberculosis  \\\n",
      "location                                                         \n",
      "Austria                                     1080          1080   \n",
      "Belgium                                     1080          1080   \n",
      "Bulgaria                                    1080          1080   \n",
      "Croatia                                     1080          1080   \n",
      "Cyprus                                      1080          1080   \n",
      "Czechia                                     1080          1080   \n",
      "Denmark                                     1080          1080   \n",
      "Estonia                                     1080          1080   \n",
      "Finland                                     1080          1080   \n",
      "France                                      1080          1080   \n",
      "Germany                                     1080          1080   \n",
      "Greece                                      1080          1080   \n",
      "Hungary                                     1080          1080   \n",
      "Ireland                                     1080          1080   \n",
      "Italy                                       1080          1080   \n",
      "Latvia                                      1080          1080   \n",
      "Lithuania                                   1080          1080   \n",
      "Luxembourg                                  1080          1080   \n",
      "Malta                                       1080          1080   \n",
      "Netherlands                                 1080          1080   \n",
      "Poland                                      1080          1080   \n",
      "Portugal                                    1080          1080   \n",
      "Romania                                     1080          1080   \n",
      "Slovakia                                    1080          1080   \n",
      "Slovenia                                    1080          1080   \n",
      "Spain                                       1080          1080   \n",
      "Sweden                                      1080          1080   \n",
      "\n",
      "cause        Upper respiratory infections  \n",
      "location                                   \n",
      "Austria                              1080  \n",
      "Belgium                              1080  \n",
      "Bulgaria                             1080  \n",
      "Croatia                              1080  \n",
      "Cyprus                               1080  \n",
      "Czechia                              1080  \n",
      "Denmark                              1080  \n",
      "Estonia                              1080  \n",
      "Finland                              1080  \n",
      "France                               1080  \n",
      "Germany                              1080  \n",
      "Greece                               1080  \n",
      "Hungary                              1080  \n",
      "Ireland                              1080  \n",
      "Italy                                1080  \n",
      "Latvia                               1080  \n",
      "Lithuania                            1080  \n",
      "Luxembourg                           1080  \n",
      "Malta                                1080  \n",
      "Netherlands                          1080  \n",
      "Poland                               1080  \n",
      "Portugal                             1080  \n",
      "Romania                              1080  \n",
      "Slovakia                             1080  \n",
      "Slovenia                             1080  \n",
      "Spain                                1080  \n",
      "Sweden                               1080  \n"
     ]
    }
   ],
   "source": [
    "# Cause per country\n",
    "country_cause_counts = (\n",
    "    gbd.groupby(['location', 'cause'], observed=False)\n",
    "    .size()\n",
    "    .reset_index(name='entries_per_cause')\n",
    ")\n",
    "\n",
    "# Pivot for better visualization\n",
    "cause_pivot = country_cause_counts.pivot(\n",
    "    index='location',\n",
    "    columns='cause',\n",
    "    values='entries_per_cause'\n",
    ").fillna(0)\n",
    "print(cause_pivot)"
   ]
  },
  {
   "cell_type": "markdown",
   "id": "2bdf7585",
   "metadata": {},
   "source": [
    "The number of 'Latent tuberculosis infection' per country is 360, so ALL countries are missing values. The difference between 'Latent tuberculosis infection' and other causes is 720. Are there missing measures or metrics for latent tuberculosis? This would make sense if reporting methods changed. Will verify by counting each measure by cause."
   ]
  },
  {
   "cell_type": "code",
   "execution_count": 12,
   "id": "7340c293",
   "metadata": {},
   "outputs": [
    {
     "name": "stdout",
     "output_type": "stream",
     "text": [
      "===== Manual count per cause: =====\n",
      "                                                    prevalence  incidence  \\\n",
      "cause                                                                       \n",
      "Asthma                                                    9720       9720   \n",
      "COVID-19                                                  9720       9720   \n",
      "Chronic obstructive pulmonary disease                     9720       9720   \n",
      "Drug-susceptible tuberculosis                             9720       9720   \n",
      "Extensively drug-resistant tuberculosis                   9720       9720   \n",
      "Latent tuberculosis infection                             9720          0   \n",
      "Lower respiratory infections                              9720       9720   \n",
      "Multidrug-resistant tuberculosis without extens...        9720       9720   \n",
      "Respiratory infections and tuberculosis                   9720       9720   \n",
      "Tracheal, bronchus, and lung cancer                       9720       9720   \n",
      "Tuberculosis                                              9720       9720   \n",
      "Upper respiratory infections                              9720       9720   \n",
      "Total                                                   116640     106920   \n",
      "\n",
      "                                                    deaths   Total  \n",
      "cause                                                               \n",
      "Asthma                                                9720   29160  \n",
      "COVID-19                                              9720   29160  \n",
      "Chronic obstructive pulmonary disease                 9720   29160  \n",
      "Drug-susceptible tuberculosis                         9720   29160  \n",
      "Extensively drug-resistant tuberculosis               9720   29160  \n",
      "Latent tuberculosis infection                            0    9720  \n",
      "Lower respiratory infections                          9720   29160  \n",
      "Multidrug-resistant tuberculosis without extens...    9720   29160  \n",
      "Respiratory infections and tuberculosis               9720   29160  \n",
      "Tracheal, bronchus, and lung cancer                   9720   29160  \n",
      "Tuberculosis                                          9720   29160  \n",
      "Upper respiratory infections                          9720   29160  \n",
      "Total                                               106920  330480  \n"
     ]
    }
   ],
   "source": [
    "prev = gbd[gbd['measure'].str.contains('prev', case=False)].groupby('cause', observed = False).size()\n",
    "inci = gbd[gbd['measure'].str.contains('inci', case=False)].groupby('cause', observed = False).size()\n",
    "death = gbd[gbd['measure'].str.contains('death', case=False)].groupby('cause', observed = False).size()\n",
    "\n",
    "# Combine into single DataFrame\n",
    "measure_counts = pd.DataFrame({\n",
    "    'prevalence': prev,\n",
    "    'incidence': inci,\n",
    "    'deaths': death\n",
    "}).fillna(0).astype(int)\n",
    "\n",
    "# Add totals\n",
    "measure_counts['Total'] = measure_counts.sum(axis=1)\n",
    "measure_counts.loc['Total'] = measure_counts.sum()\n",
    "\n",
    "print(\"===== Manual count per cause: =====\")\n",
    "print(measure_counts)"
   ]
  },
  {
   "cell_type": "markdown",
   "id": "d9e8597d",
   "metadata": {},
   "source": [
    "Incidence and deaths are indeed missing for latent tuberculosis infection. The assumption is that reporting methods changed."
   ]
  },
  {
   "cell_type": "markdown",
   "id": "98a4dc29",
   "metadata": {},
   "source": [
    "The number of deaths per cause per country is an important measure as it indicates \"hot spots\" for specific diseases and also identifies areas where changes in health policy (e.g., surveillance, testing, improving access to care, etc.) could impact outcomes. Will create a heatmap to visualize this."
   ]
  },
  {
   "cell_type": "code",
   "execution_count": 13,
   "id": "589d18d5",
   "metadata": {},
   "outputs": [
    {
     "data": {
      "image/png": "[encoded data removed]",
      "text/plain": [
       "<Figure size 1600x1200 with 2 Axes>"
      ]
     },
     "metadata": {},
     "output_type": "display_data"
    }
   ],
   "source": [
    "# Heatmap to compare the number of deaths per cause per country\n",
    "\n",
    "# Filter for death records\n",
    "gbd_deaths = gbd[gbd['measure'] == 'Deaths']\n",
    "\n",
    "# Create a pivot table: countries vs causes\n",
    "pivot_table = pd.pivot_table(\n",
    "    gbd_deaths,\n",
    "    index='location',      # Rows: Countries\n",
    "    columns='cause',       # Columns: Causes\n",
    "    values='val',          # Will use the reported value instead of the standard deviation for simplicity\n",
    "    aggfunc='sum',         # Sum death counts for each country-cause combination\n",
    "    fill_value=0,          # Fill missing combinations with 0\n",
    "    observed=False\n",
    ")\n",
    "\n",
    "# For large datasets - focus on top entries\n",
    "# top_countries = pivot_table.sum(axis=1).sort_values(ascending=False).head(20).index\n",
    "# top_causes = pivot_table.sum().sort_values(ascending=False).head(15).index\n",
    "# pivot_table = pivot_table.loc[top_countries, top_causes]\n",
    "\n",
    "plt.figure(figsize=(16, 12))  # Adjust size based on data density\n",
    "\n",
    "# Create heatmap with annotations\n",
    "ax = sns.heatmap(\n",
    "    pivot_table,\n",
    "    annot=True,            # Show numbers in cells\n",
    "    fmt=\".0f\",             # Format as integers\n",
    "    cmap=\"YlOrRd\",         # Yellow-Orange-Red color scale\n",
    "    linewidths=.5,         # Add grid lines\n",
    "    annot_kws={\"size\": 8}  # Annotation font size\n",
    ")\n",
    "\n",
    "# Customize labels\n",
    "plt.title(\"Total Deaths by Country and Cause (All Years and Sexes Combined)\", fontsize=16, pad=20)\n",
    "plt.xlabel(\"Cause of Death\", fontsize=12)\n",
    "plt.ylabel(\"Country\", fontsize=12)\n",
    "plt.xticks(rotation=45, ha=\"right\", fontsize=9)\n",
    "plt.yticks(fontsize=9)\n",
    "\n",
    "plt.tight_layout()\n",
    "plt.show()\n",
    "\n",
    "\n",
    "## replace with an interactice plot similar to the death rates below?"
   ]
  },
  {
   "cell_type": "markdown",
   "id": "d5cc47ed",
   "metadata": {},
   "source": [
    "France, Germany, and Spain have much higher asthma-related deaths compared to other countries. This could be explained by the larger total populations for each of these countries compared to the other EU-27 member states.\n",
    "\n",
    "Germany, Spain, and Italy have a significant number of COPD-related deaths. Again, likely attributed to the larger total populations of these states. However, it would be interesting to compare the deaths with smoking prevalence. However, that's not available in this dataset.\n",
    "\n",
    "There are an extremely high number of deaths attributed to tracheal, bronchus, and lung cancers across all states. Again, it would be interesting to compare the deaths with smoking prevalence in these countries.\n",
    "\n",
    "Also of note is the number of COVID-related deaths compared to other measures. It's important to keep in mind that COVID-related deaths have only been tracked since 2020, so there are only 2 years of collected data for these deaths compared to collection across all years for all other causes of death.\n",
    "\n",
    "This heatmap is a good overview of the actual number of deaths per country. However, it does not account for the total populations of the countries and may be deceiving. For instance, Portugal has ~384,000 deaths attributed to respiratory infections and tuberculosis and is not flagged as \"high\" in comparison to the ~1.35 million deaths in France for the same measure. This is deceiving as the total population of Portugal is ~10 million compared to a total population of ~66 million in France (looking at 2021 estimated population statistics)."
   ]
  },
  {
   "cell_type": "code",
   "execution_count": 14,
   "id": "45995659",
   "metadata": {},
   "outputs": [
    {
     "data": {
      "application/vnd.plotly.v1+json": {
       "config": {
        "plotlyServerURL": "https://plot.ly"
       },
       "data": [
        {
         "coloraxis": "coloraxis",
         "hovertemplate": "<b>Country:</b> %{y}<br><b>Cause:</b> %{x}<br><b>Death Rate:</b> %{z:.1f} per 100,000",
         "name": "0",
         "type": "heatmap",
         "x": [
          "Asthma",
          "COVID-19",
          "Chronic obstructive pulmonary disease",
          "Drug-susceptible tuberculosis",
          "Extensively drug-resistant tuberculosis",
          "Lower respiratory infections",
          "Multidrug-resistant tuberculosis without extensive drug resistance",
          "Respiratory infections and tuberculosis",
          "Tracheal, bronchus, and lung cancer",
          "Tuberculosis",
          "Upper respiratory infections"
         ],
         "xaxis": "x",
         "y": [
          "Austria",
          "Belgium",
          "Bulgaria",
          "Croatia",
          "Cyprus",
          "Czechia",
          "Denmark",
          "Estonia",
          "Finland",
          "France",
          "Germany",
          "Greece",
          "Hungary",
          "Ireland",
          "Italy",
          "Latvia",
          "Lithuania",
          "Luxembourg",
          "Malta",
          "Netherlands",
          "Poland",
          "Portugal",
          "Romania",
          "Slovakia",
          "Slovenia",
          "Spain",
          "Sweden"
         ],
         "yaxis": "y",
         "z": {
          "bdata": "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",
          "dtype": "f8",
          "shape": "27, 11"
         }
        }
       ],
       "layout": {
        "coloraxis": {
         "colorbar": {
          "title": {
           "text": "Death Rate/100k"
          }
         },
         "colorscale": [
          [
           0,
           "rgb(255,255,204)"
          ],
          [
           0.125,
           "rgb(255,237,160)"
          ],
          [
           0.25,
           "rgb(254,217,118)"
          ],
          [
           0.375,
           "rgb(254,178,76)"
          ],
          [
           0.5,
           "rgb(253,141,60)"
          ],
          [
           0.625,
           "rgb(252,78,42)"
          ],
          [
           0.75,
           "rgb(227,26,28)"
          ],
          [
           0.875,
           "rgb(189,0,38)"
          ],
          [
           1,
           "rgb(128,0,38)"
          ]
         ]
        },
        "height": 700,
        "hovermode": "closest",
        "template": {
         "data": {
          "bar": [
           {
            "error_x": {
             "color": "#2a3f5f"
            },
            "error_y": {
             "color": "#2a3f5f"
            },
            "marker": {
             "line": {
              "color": "#E5ECF6",
              "width": 0.5
             },
             "pattern": {
              "fillmode": "overlay",
              "size": 10,
              "solidity": 0.2
             }
            },
            "type": "bar"
           }
          ],
          "barpolar": [
           {
            "marker": {
             "line": {
              "color": "#E5ECF6",
              "width": 0.5
             },
             "pattern": {
              "fillmode": "overlay",
              "size": 10,
              "solidity": 0.2
             }
            },
            "type": "barpolar"
           }
          ],
          "carpet": [
           {
            "aaxis": {
             "endlinecolor": "#2a3f5f",
             "gridcolor": "white",
             "linecolor": "white",
             "minorgridcolor": "white",
             "startlinecolor": "#2a3f5f"
            },
            "baxis": {
             "endlinecolor": "#2a3f5f",
             "gridcolor": "white",
             "linecolor": "white",
             "minorgridcolor": "white",
             "startlinecolor": "#2a3f5f"
            },
            "type": "carpet"
           }
          ],
          "choropleth": [
           {
            "colorbar": {
             "outlinewidth": 0,
             "ticks": ""
            },
            "type": "choropleth"
           }
          ],
          "contour": [
           {
            "colorbar": {
             "outlinewidth": 0,
             "ticks": ""
            },
            "colorscale": [
             [
              0,
              "#0d0887"
             ],
             [
              0.1111111111111111,
              "#46039f"
             ],
             [
              0.2222222222222222,
              "#7201a8"
             ],
             [
              0.3333333333333333,
              "#9c179e"
             ],
             [
              0.4444444444444444,
              "#bd3786"
             ],
             [
              0.5555555555555556,
              "#d8576b"
             ],
             [
              0.6666666666666666,
              "#ed7953"
             ],
             [
              0.7777777777777778,
              "#fb9f3a"
             ],
             [
              0.8888888888888888,
              "#fdca26"
             ],
             [
              1,
              "#f0f921"
             ]
            ],
            "type": "contour"
           }
          ],
          "contourcarpet": [
           {
            "colorbar": {
             "outlinewidth": 0,
             "ticks": ""
            },
            "type": "contourcarpet"
           }
          ],
          "heatmap": [
           {
            "colorbar": {
             "outlinewidth": 0,
             "ticks": ""
            },
            "colorscale": [
             [
              0,
              "#0d0887"
             ],
             [
              0.1111111111111111,
              "#46039f"
             ],
             [
              0.2222222222222222,
              "#7201a8"
             ],
             [
              0.3333333333333333,
              "#9c179e"
             ],
             [
              0.4444444444444444,
              "#bd3786"
             ],
             [
              0.5555555555555556,
              "#d8576b"
             ],
             [
              0.6666666666666666,
              "#ed7953"
             ],
             [
              0.7777777777777778,
              "#fb9f3a"
             ],
             [
              0.8888888888888888,
              "#fdca26"
             ],
             [
              1,
              "#f0f921"
             ]
            ],
            "type": "heatmap"
           }
          ],
          "histogram": [
           {
            "marker": {
             "pattern": {
              "fillmode": "overlay",
              "size": 10,
              "solidity": 0.2
             }
            },
            "type": "histogram"
           }
          ],
          "histogram2d": [
           {
            "colorbar": {
             "outlinewidth": 0,
             "ticks": ""
            },
            "colorscale": [
             [
              0,
              "#0d0887"
             ],
             [
              0.1111111111111111,
              "#46039f"
             ],
             [
              0.2222222222222222,
              "#7201a8"
             ],
             [
              0.3333333333333333,
              "#9c179e"
             ],
             [
              0.4444444444444444,
              "#bd3786"
             ],
             [
              0.5555555555555556,
              "#d8576b"
             ],
             [
              0.6666666666666666,
              "#ed7953"
             ],
             [
              0.7777777777777778,
              "#fb9f3a"
             ],
             [
              0.8888888888888888,
              "#fdca26"
             ],
             [
              1,
              "#f0f921"
             ]
            ],
            "type": "histogram2d"
           }
          ],
          "histogram2dcontour": [
           {
            "colorbar": {
             "outlinewidth": 0,
             "ticks": ""
            },
            "colorscale": [
             [
              0,
              "#0d0887"
             ],
             [
              0.1111111111111111,
              "#46039f"
             ],
             [
              0.2222222222222222,
              "#7201a8"
             ],
             [
              0.3333333333333333,
              "#9c179e"
             ],
             [
              0.4444444444444444,
              "#bd3786"
             ],
             [
              0.5555555555555556,
              "#d8576b"
             ],
             [
              0.6666666666666666,
              "#ed7953"
             ],
             [
              0.7777777777777778,
              "#fb9f3a"
             ],
             [
              0.8888888888888888,
              "#fdca26"
             ],
             [
              1,
              "#f0f921"
             ]
            ],
            "type": "histogram2dcontour"
           }
          ],
          "mesh3d": [
           {
            "colorbar": {
             "outlinewidth": 0,
             "ticks": ""
            },
            "type": "mesh3d"
           }
          ],
          "parcoords": [
           {
            "line": {
             "colorbar": {
              "outlinewidth": 0,
              "ticks": ""
             }
            },
            "type": "parcoords"
           }
          ],
          "pie": [
           {
            "automargin": true,
            "type": "pie"
           }
          ],
          "scatter": [
           {
            "fillpattern": {
             "fillmode": "overlay",
             "size": 10,
             "solidity": 0.2
            },
            "type": "scatter"
           }
          ],
          "scatter3d": [
           {
            "line": {
             "colorbar": {
              "outlinewidth": 0,
              "ticks": ""
             }
            },
            "marker": {
             "colorbar": {
              "outlinewidth": 0,
              "ticks": ""
             }
            },
            "type": "scatter3d"
           }
          ],
          "scattercarpet": [
           {
            "marker": {
             "colorbar": {
              "outlinewidth": 0,
              "ticks": ""
             }
            },
            "type": "scattercarpet"
           }
          ],
          "scattergeo": [
           {
            "marker": {
             "colorbar": {
              "outlinewidth": 0,
              "ticks": ""
             }
            },
            "type": "scattergeo"
           }
          ],
          "scattergl": [
           {
            "marker": {
             "colorbar": {
              "outlinewidth": 0,
              "ticks": ""
             }
            },
            "type": "scattergl"
           }
          ],
          "scattermap": [
           {
            "marker": {
             "colorbar": {
              "outlinewidth": 0,
              "ticks": ""
             }
            },
            "type": "scattermap"
           }
          ],
          "scattermapbox": [
           {
            "marker": {
             "colorbar": {
              "outlinewidth": 0,
              "ticks": ""
             }
            },
            "type": "scattermapbox"
           }
          ],
          "scatterpolar": [
           {
            "marker": {
             "colorbar": {
              "outlinewidth": 0,
              "ticks": ""
             }
            },
            "type": "scatterpolar"
           }
          ],
          "scatterpolargl": [
           {
            "marker": {
             "colorbar": {
              "outlinewidth": 0,
              "ticks": ""
             }
            },
            "type": "scatterpolargl"
           }
          ],
          "scatterternary": [
           {
            "marker": {
             "colorbar": {
              "outlinewidth": 0,
              "ticks": ""
             }
            },
            "type": "scatterternary"
           }
          ],
          "surface": [
           {
            "colorbar": {
             "outlinewidth": 0,
             "ticks": ""
            },
            "colorscale": [
             [
              0,
              "#0d0887"
             ],
             [
              0.1111111111111111,
              "#46039f"
             ],
             [
              0.2222222222222222,
              "#7201a8"
             ],
             [
              0.3333333333333333,
              "#9c179e"
             ],
             [
              0.4444444444444444,
              "#bd3786"
             ],
             [
              0.5555555555555556,
              "#d8576b"
             ],
             [
              0.6666666666666666,
              "#ed7953"
             ],
             [
              0.7777777777777778,
              "#fb9f3a"
             ],
             [
              0.8888888888888888,
              "#fdca26"
             ],
             [
              1,
              "#f0f921"
             ]
            ],
            "type": "surface"
           }
          ],
          "table": [
           {
            "cells": {
             "fill": {
              "color": "#EBF0F8"
             },
             "line": {
              "color": "white"
             }
            },
            "header": {
             "fill": {
              "color": "#C8D4E3"
             },
             "line": {
              "color": "white"
             }
            },
            "type": "table"
           }
          ]
         },
         "layout": {
          "annotationdefaults": {
           "arrowcolor": "#2a3f5f",
           "arrowhead": 0,
           "arrowwidth": 1
          },
          "autotypenumbers": "strict",
          "coloraxis": {
           "colorbar": {
            "outlinewidth": 0,
            "ticks": ""
           }
          },
          "colorscale": {
           "diverging": [
            [
             0,
             "#8e0152"
            ],
            [
             0.1,
             "#c51b7d"
            ],
            [
             0.2,
             "#de77ae"
            ],
            [
             0.3,
             "#f1b6da"
            ],
            [
             0.4,
             "#fde0ef"
            ],
            [
             0.5,
             "#f7f7f7"
            ],
            [
             0.6,
             "#e6f5d0"
            ],
            [
             0.7,
             "#b8e186"
            ],
            [
             0.8,
             "#7fbc41"
            ],
            [
             0.9,
             "#4d9221"
            ],
            [
             1,
             "#276419"
            ]
           ],
           "sequential": [
            [
             0,
             "#0d0887"
            ],
            [
             0.1111111111111111,
             "#46039f"
            ],
            [
             0.2222222222222222,
             "#7201a8"
            ],
            [
             0.3333333333333333,
             "#9c179e"
            ],
            [
             0.4444444444444444,
             "#bd3786"
            ],
            [
             0.5555555555555556,
             "#d8576b"
            ],
            [
             0.6666666666666666,
             "#ed7953"
            ],
            [
             0.7777777777777778,
             "#fb9f3a"
            ],
            [
             0.8888888888888888,
             "#fdca26"
            ],
            [
             1,
             "#f0f921"
            ]
           ],
           "sequentialminus": [
            [
             0,
             "#0d0887"
            ],
            [
             0.1111111111111111,
             "#46039f"
            ],
            [
             0.2222222222222222,
             "#7201a8"
            ],
            [
             0.3333333333333333,
             "#9c179e"
            ],
            [
             0.4444444444444444,
             "#bd3786"
            ],
            [
             0.5555555555555556,
             "#d8576b"
            ],
            [
             0.6666666666666666,
             "#ed7953"
            ],
            [
             0.7777777777777778,
             "#fb9f3a"
            ],
            [
             0.8888888888888888,
             "#fdca26"
            ],
            [
             1,
             "#f0f921"
            ]
           ]
          },
          "colorway": [
           "#636efa",
           "#EF553B",
           "#00cc96",
           "#ab63fa",
           "#FFA15A",
           "#19d3f3",
           "#FF6692",
           "#B6E880",
           "#FF97FF",
           "#FECB52"
          ],
          "font": {
           "color": "#2a3f5f"
          },
          "geo": {
           "bgcolor": "white",
           "lakecolor": "white",
           "landcolor": "#E5ECF6",
           "showlakes": true,
           "showland": true,
           "subunitcolor": "white"
          },
          "hoverlabel": {
           "align": "left"
          },
          "hovermode": "closest",
          "mapbox": {
           "style": "light"
          },
          "paper_bgcolor": "white",
          "plot_bgcolor": "#E5ECF6",
          "polar": {
           "angularaxis": {
            "gridcolor": "white",
            "linecolor": "white",
            "ticks": ""
           },
           "bgcolor": "#E5ECF6",
           "radialaxis": {
            "gridcolor": "white",
            "linecolor": "white",
            "ticks": ""
           }
          },
          "scene": {
           "xaxis": {
            "backgroundcolor": "#E5ECF6",
            "gridcolor": "white",
            "gridwidth": 2,
            "linecolor": "white",
            "showbackground": true,
            "ticks": "",
            "zerolinecolor": "white"
           },
           "yaxis": {
            "backgroundcolor": "#E5ECF6",
            "gridcolor": "white",
            "gridwidth": 2,
            "linecolor": "white",
            "showbackground": true,
            "ticks": "",
            "zerolinecolor": "white"
           },
           "zaxis": {
            "backgroundcolor": "#E5ECF6",
            "gridcolor": "white",
            "gridwidth": 2,
            "linecolor": "white",
            "showbackground": true,
            "ticks": "",
            "zerolinecolor": "white"
           }
          },
          "shapedefaults": {
           "line": {
            "color": "#2a3f5f"
           }
          },
          "ternary": {
           "aaxis": {
            "gridcolor": "white",
            "linecolor": "white",
            "ticks": ""
           },
           "baxis": {
            "gridcolor": "white",
            "linecolor": "white",
            "ticks": ""
           },
           "bgcolor": "#E5ECF6",
           "caxis": {
            "gridcolor": "white",
            "linecolor": "white",
            "ticks": ""
           }
          },
          "title": {
           "x": 0.05
          },
          "xaxis": {
           "automargin": true,
           "gridcolor": "white",
           "linecolor": "white",
           "ticks": "",
           "title": {
            "standoff": 15
           },
           "zerolinecolor": "white",
           "zerolinewidth": 2
          },
          "yaxis": {
           "automargin": true,
           "gridcolor": "white",
           "linecolor": "white",
           "ticks": "",
           "title": {
            "standoff": 15
           },
           "zerolinecolor": "white",
           "zerolinewidth": 2
          }
         }
        },
        "title": {
         "text": "Average Respiratory Death Rates by Country and Cause (2012-2021, All Ages, Both Sexes)"
        },
        "width": 1000,
        "xaxis": {
         "anchor": "y",
         "domain": [
          0,
          1
         ],
         "title": {
          "text": "Cause of Death"
         }
        },
        "yaxis": {
         "anchor": "x",
         "autorange": "reversed",
         "domain": [
          0,
          1
         ],
         "title": {
          "text": "Country"
         }
        }
       }
      }
     },
     "metadata": {},
     "output_type": "display_data"
    }
   ],
   "source": [
    "## Interactive heatmap\n",
    "\n",
    "# Filter directly to the needed data\n",
    "death_rates = gbd[\n",
    "    (gbd['measure'] == 'Deaths') & \n",
    "    (gbd['metric'] == 'Rate') & \n",
    "    (gbd['sex'] == 'Both') & \n",
    "    (gbd['age'] == 'All ages')\n",
    "]\n",
    "\n",
    "# Create pivot table in one step\n",
    "rate_pivot = death_rates.pivot_table(\n",
    "    index='location',\n",
    "    columns='cause',\n",
    "    values='val',\n",
    "    aggfunc='mean',\n",
    "    fill_value=0,\n",
    "    observed=False\n",
    ")\n",
    "\n",
    "# Create interactive heatmap\n",
    "fig = px.imshow(\n",
    "    rate_pivot,\n",
    "    labels=dict(x=\"Cause of Death\", y=\"Country\", color=\"Death Rate/100k\"),\n",
    "    color_continuous_scale='YlOrRd',\n",
    "    title='Average Respiratory Death Rates by Country and Cause (2012-2021, All Ages, Both Sexes)',\n",
    "    aspect=\"auto\"\n",
    ")\n",
    "\n",
    "# Customize layout\n",
    "fig.update_layout(\n",
    "    xaxis_title=\"Cause of Death\",\n",
    "    yaxis_title=\"Country\",\n",
    "    height=700,\n",
    "    width=1000,\n",
    "    hovermode=\"closest\"\n",
    ")\n",
    "\n",
    "# Improve hover template\n",
    "fig.update_traces(\n",
    "    hovertemplate=(\n",
    "        \"<b>Country:</b> %{y}<br>\"\n",
    "        \"<b>Cause:</b> %{x}<br>\"\n",
    "        \"<b>Death Rate:</b> %{z:.1f} per 100,000\"\n",
    "    )\n",
    ")\n",
    "\n",
    "\n",
    "fig.show()"
   ]
  },
  {
   "cell_type": "code",
   "execution_count": null,
   "id": "12389625",
   "metadata": {},
   "outputs": [
    {
     "data": {
      "application/vnd.plotly.v1+json": {
       "config": {
        "plotlyServerURL": "https://plot.ly"
       },
       "data": [
        {
         "coloraxis": "coloraxis",
         "hovertemplate": "<b>%{y}</b><br>Cause: %{x}<br>Rate: %{z:.1f}",
         "name": "0",
         "type": "heatmap",
         "x": [
          "Asthma",
          "COVID-19",
          "Chronic obstructive pulmonary disease",
          "Drug-susceptible tuberculosis",
          "Extensively drug-resistant tuberculosis",
          "Lower respiratory infections",
          "Multidrug-resistant tuberculosis without extensive drug resistance",
          "Respiratory infections and tuberculosis",
          "Tracheal, bronchus, and lung cancer",
          "Tuberculosis",
          "Upper respiratory infections"
         ],
         "xaxis": "x",
         "y": [
          "Austria",
          "Belgium",
          "Bulgaria",
          "Croatia",
          "Cyprus",
          "Czechia",
          "Denmark",
          "Estonia",
          "Finland",
          "France",
          "Germany",
          "Greece",
          "Hungary",
          "Ireland",
          "Italy",
          "Latvia",
          "Lithuania",
          "Luxembourg",
          "Malta",
          "Netherlands",
          "Poland",
          "Portugal",
          "Romania",
          "Slovakia",
          "Slovenia",
          "Spain",
          "Sweden"
         ],
         "yaxis": "y",
         "z": {
          "bdata": "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",
          "dtype": "f8",
          "shape": "27, 11"
         }
        }
       ],
       "layout": {
        "coloraxis": {
         "colorbar": {
          "title": {
           "text": "Rate/100k"
          }
         },
         "colorscale": [
          [
           0,
           "rgb(255,255,204)"
          ],
          [
           0.125,
           "rgb(255,237,160)"
          ],
          [
           0.25,
           "rgb(254,217,118)"
          ],
          [
           0.375,
           "rgb(254,178,76)"
          ],
          [
           0.5,
           "rgb(253,141,60)"
          ],
          [
           0.625,
           "rgb(252,78,42)"
          ],
          [
           0.75,
           "rgb(227,26,28)"
          ],
          [
           0.875,
           "rgb(189,0,38)"
          ],
          [
           1,
           "rgb(128,0,38)"
          ]
         ]
        },
        "height": 1000,
        "template": {
         "data": {
          "bar": [
           {
            "error_x": {
             "color": "#2a3f5f"
            },
            "error_y": {
             "color": "#2a3f5f"
            },
            "marker": {
             "line": {
              "color": "#E5ECF6",
              "width": 0.5
             },
             "pattern": {
              "fillmode": "overlay",
              "size": 10,
              "solidity": 0.2
             }
            },
            "type": "bar"
           }
          ],
          "barpolar": [
           {
            "marker": {
             "line": {
              "color": "#E5ECF6",
              "width": 0.5
             },
             "pattern": {
              "fillmode": "overlay",
              "size": 10,
              "solidity": 0.2
             }
            },
            "type": "barpolar"
           }
          ],
          "carpet": [
           {
            "aaxis": {
             "endlinecolor": "#2a3f5f",
             "gridcolor": "white",
             "linecolor": "white",
             "minorgridcolor": "white",
             "startlinecolor": "#2a3f5f"
            },
            "baxis": {
             "endlinecolor": "#2a3f5f",
             "gridcolor": "white",
             "linecolor": "white",
             "minorgridcolor": "white",
             "startlinecolor": "#2a3f5f"
            },
            "type": "carpet"
           }
          ],
          "choropleth": [
           {
            "colorbar": {
             "outlinewidth": 0,
             "ticks": ""
            },
            "type": "choropleth"
           }
          ],
          "contour": [
           {
            "colorbar": {
             "outlinewidth": 0,
             "ticks": ""
            },
            "colorscale": [
             [
              0,
              "#0d0887"
             ],
             [
              0.1111111111111111,
              "#46039f"
             ],
             [
              0.2222222222222222,
              "#7201a8"
             ],
             [
              0.3333333333333333,
              "#9c179e"
             ],
             [
              0.4444444444444444,
              "#bd3786"
             ],
             [
              0.5555555555555556,
              "#d8576b"
             ],
             [
              0.6666666666666666,
              "#ed7953"
             ],
             [
              0.7777777777777778,
              "#fb9f3a"
             ],
             [
              0.8888888888888888,
              "#fdca26"
             ],
             [
              1,
              "#f0f921"
             ]
            ],
            "type": "contour"
           }
          ],
          "contourcarpet": [
           {
            "colorbar": {
             "outlinewidth": 0,
             "ticks": ""
            },
            "type": "contourcarpet"
           }
          ],
          "heatmap": [
           {
            "colorbar": {
             "outlinewidth": 0,
             "ticks": ""
            },
            "colorscale": [
             [
              0,
              "#0d0887"
             ],
             [
              0.1111111111111111,
              "#46039f"
             ],
             [
              0.2222222222222222,
              "#7201a8"
             ],
             [
              0.3333333333333333,
              "#9c179e"
             ],
             [
              0.4444444444444444,
              "#bd3786"
             ],
             [
              0.5555555555555556,
              "#d8576b"
             ],
             [
              0.6666666666666666,
              "#ed7953"
             ],
             [
              0.7777777777777778,
              "#fb9f3a"
             ],
             [
              0.8888888888888888,
              "#fdca26"
             ],
             [
              1,
              "#f0f921"
             ]
            ],
            "type": "heatmap"
           }
          ],
          "histogram": [
           {
            "marker": {
             "pattern": {
              "fillmode": "overlay",
              "size": 10,
              "solidity": 0.2
             }
            },
            "type": "histogram"
           }
          ],
          "histogram2d": [
           {
            "colorbar": {
             "outlinewidth": 0,
             "ticks": ""
            },
            "colorscale": [
             [
              0,
              "#0d0887"
             ],
             [
              0.1111111111111111,
              "#46039f"
             ],
             [
              0.2222222222222222,
              "#7201a8"
             ],
             [
              0.3333333333333333,
              "#9c179e"
             ],
             [
              0.4444444444444444,
              "#bd3786"
             ],
             [
              0.5555555555555556,
              "#d8576b"
             ],
             [
              0.6666666666666666,
              "#ed7953"
             ],
             [
              0.7777777777777778,
              "#fb9f3a"
             ],
             [
              0.8888888888888888,
              "#fdca26"
             ],
             [
              1,
              "#f0f921"
             ]
            ],
            "type": "histogram2d"
           }
          ],
          "histogram2dcontour": [
           {
            "colorbar": {
             "outlinewidth": 0,
             "ticks": ""
            },
            "colorscale": [
             [
              0,
              "#0d0887"
             ],
             [
              0.1111111111111111,
              "#46039f"
             ],
             [
              0.2222222222222222,
              "#7201a8"
             ],
             [
              0.3333333333333333,
              "#9c179e"
             ],
             [
              0.4444444444444444,
              "#bd3786"
             ],
             [
              0.5555555555555556,
              "#d8576b"
             ],
             [
              0.6666666666666666,
              "#ed7953"
             ],
             [
              0.7777777777777778,
              "#fb9f3a"
             ],
             [
              0.8888888888888888,
              "#fdca26"
             ],
             [
              1,
              "#f0f921"
             ]
            ],
            "type": "histogram2dcontour"
           }
          ],
          "mesh3d": [
           {
            "colorbar": {
             "outlinewidth": 0,
             "ticks": ""
            },
            "type": "mesh3d"
           }
          ],
          "parcoords": [
           {
            "line": {
             "colorbar": {
              "outlinewidth": 0,
              "ticks": ""
             }
            },
            "type": "parcoords"
           }
          ],
          "pie": [
           {
            "automargin": true,
            "type": "pie"
           }
          ],
          "scatter": [
           {
            "fillpattern": {
             "fillmode": "overlay",
             "size": 10,
             "solidity": 0.2
            },
            "type": "scatter"
           }
          ],
          "scatter3d": [
           {
            "line": {
             "colorbar": {
              "outlinewidth": 0,
              "ticks": ""
             }
            },
            "marker": {
             "colorbar": {
              "outlinewidth": 0,
              "ticks": ""
             }
            },
            "type": "scatter3d"
           }
          ],
          "scattercarpet": [
           {
            "marker": {
             "colorbar": {
              "outlinewidth": 0,
              "ticks": ""
             }
            },
            "type": "scattercarpet"
           }
          ],
          "scattergeo": [
           {
            "marker": {
             "colorbar": {
              "outlinewidth": 0,
              "ticks": ""
             }
            },
            "type": "scattergeo"
           }
          ],
          "scattergl": [
           {
            "marker": {
             "colorbar": {
              "outlinewidth": 0,
              "ticks": ""
             }
            },
            "type": "scattergl"
           }
          ],
          "scattermap": [
           {
            "marker": {
             "colorbar": {
              "outlinewidth": 0,
              "ticks": ""
             }
            },
            "type": "scattermap"
           }
          ],
          "scattermapbox": [
           {
            "marker": {
             "colorbar": {
              "outlinewidth": 0,
              "ticks": ""
             }
            },
            "type": "scattermapbox"
           }
          ],
          "scatterpolar": [
           {
            "marker": {
             "colorbar": {
              "outlinewidth": 0,
              "ticks": ""
             }
            },
            "type": "scatterpolar"
           }
          ],
          "scatterpolargl": [
           {
            "marker": {
             "colorbar": {
              "outlinewidth": 0,
              "ticks": ""
             }
            },
            "type": "scatterpolargl"
           }
          ],
          "scatterternary": [
           {
            "marker": {
             "colorbar": {
              "outlinewidth": 0,
              "ticks": ""
             }
            },
            "type": "scatterternary"
           }
          ],
          "surface": [
           {
            "colorbar": {
             "outlinewidth": 0,
             "ticks": ""
            },
            "colorscale": [
             [
              0,
              "#0d0887"
             ],
             [
              0.1111111111111111,
              "#46039f"
             ],
             [
              0.2222222222222222,
              "#7201a8"
             ],
             [
              0.3333333333333333,
              "#9c179e"
             ],
             [
              0.4444444444444444,
              "#bd3786"
             ],
             [
              0.5555555555555556,
              "#d8576b"
             ],
             [
              0.6666666666666666,
              "#ed7953"
             ],
             [
              0.7777777777777778,
              "#fb9f3a"
             ],
             [
              0.8888888888888888,
              "#fdca26"
             ],
             [
              1,
              "#f0f921"
             ]
            ],
            "type": "surface"
           }
          ],
          "table": [
           {
            "cells": {
             "fill": {
              "color": "#EBF0F8"
             },
             "line": {
              "color": "white"
             }
            },
            "header": {
             "fill": {
              "color": "#C8D4E3"
             },
             "line": {
              "color": "white"
             }
            },
            "type": "table"
           }
          ]
         },
         "layout": {
          "annotationdefaults": {
           "arrowcolor": "#2a3f5f",
           "arrowhead": 0,
           "arrowwidth": 1
          },
          "autotypenumbers": "strict",
          "coloraxis": {
           "colorbar": {
            "outlinewidth": 0,
            "ticks": ""
           }
          },
          "colorscale": {
           "diverging": [
            [
             0,
             "#8e0152"
            ],
            [
             0.1,
             "#c51b7d"
            ],
            [
             0.2,
             "#de77ae"
            ],
            [
             0.3,
             "#f1b6da"
            ],
            [
             0.4,
             "#fde0ef"
            ],
            [
             0.5,
             "#f7f7f7"
            ],
            [
             0.6,
             "#e6f5d0"
            ],
            [
             0.7,
             "#b8e186"
            ],
            [
             0.8,
             "#7fbc41"
            ],
            [
             0.9,
             "#4d9221"
            ],
            [
             1,
             "#276419"
            ]
           ],
           "sequential": [
            [
             0,
             "#0d0887"
            ],
            [
             0.1111111111111111,
             "#46039f"
            ],
            [
             0.2222222222222222,
             "#7201a8"
            ],
            [
             0.3333333333333333,
             "#9c179e"
            ],
            [
             0.4444444444444444,
             "#bd3786"
            ],
            [
             0.5555555555555556,
             "#d8576b"
            ],
            [
             0.6666666666666666,
             "#ed7953"
            ],
            [
             0.7777777777777778,
             "#fb9f3a"
            ],
            [
             0.8888888888888888,
             "#fdca26"
            ],
            [
             1,
             "#f0f921"
            ]
           ],
           "sequentialminus": [
            [
             0,
             "#0d0887"
            ],
            [
             0.1111111111111111,
             "#46039f"
            ],
            [
             0.2222222222222222,
             "#7201a8"
            ],
            [
             0.3333333333333333,
             "#9c179e"
            ],
            [
             0.4444444444444444,
             "#bd3786"
            ],
            [
             0.5555555555555556,
             "#d8576b"
            ],
            [
             0.6666666666666666,
             "#ed7953"
            ],
            [
             0.7777777777777778,
             "#fb9f3a"
            ],
            [
             0.8888888888888888,
             "#fdca26"
            ],
            [
             1,
             "#f0f921"
            ]
           ]
          },
          "colorway": [
           "#636efa",
           "#EF553B",
           "#00cc96",
           "#ab63fa",
           "#FFA15A",
           "#19d3f3",
           "#FF6692",
           "#B6E880",
           "#FF97FF",
           "#FECB52"
          ],
          "font": {
           "color": "#2a3f5f"
          },
          "geo": {
           "bgcolor": "white",
           "lakecolor": "white",
           "landcolor": "#E5ECF6",
           "showlakes": true,
           "showland": true,
           "subunitcolor": "white"
          },
          "hoverlabel": {
           "align": "left"
          },
          "hovermode": "closest",
          "mapbox": {
           "style": "light"
          },
          "paper_bgcolor": "white",
          "plot_bgcolor": "#E5ECF6",
          "polar": {
           "angularaxis": {
            "gridcolor": "white",
            "linecolor": "white",
            "ticks": ""
           },
           "bgcolor": "#E5ECF6",
           "radialaxis": {
            "gridcolor": "white",
            "linecolor": "white",
            "ticks": ""
           }
          },
          "scene": {
           "xaxis": {
            "backgroundcolor": "#E5ECF6",
            "gridcolor": "white",
            "gridwidth": 2,
            "linecolor": "white",
            "showbackground": true,
            "ticks": "",
            "zerolinecolor": "white"
           },
           "yaxis": {
            "backgroundcolor": "#E5ECF6",
            "gridcolor": "white",
            "gridwidth": 2,
            "linecolor": "white",
            "showbackground": true,
            "ticks": "",
            "zerolinecolor": "white"
           },
           "zaxis": {
            "backgroundcolor": "#E5ECF6",
            "gridcolor": "white",
            "gridwidth": 2,
            "linecolor": "white",
            "showbackground": true,
            "ticks": "",
            "zerolinecolor": "white"
           }
          },
          "shapedefaults": {
           "line": {
            "color": "#2a3f5f"
           }
          },
          "ternary": {
           "aaxis": {
            "gridcolor": "white",
            "linecolor": "white",
            "ticks": ""
           },
           "baxis": {
            "gridcolor": "white",
            "linecolor": "white",
            "ticks": ""
           },
           "bgcolor": "#E5ECF6",
           "caxis": {
            "gridcolor": "white",
            "linecolor": "white",
            "ticks": ""
           }
          },
          "title": {
           "x": 0.05
          },
          "xaxis": {
           "automargin": true,
           "gridcolor": "white",
           "linecolor": "white",
           "ticks": "",
           "title": {
            "standoff": 15
           },
           "zerolinecolor": "white",
           "zerolinewidth": 2
          },
          "yaxis": {
           "automargin": true,
           "gridcolor": "white",
           "linecolor": "white",
           "ticks": "",
           "title": {
            "standoff": 15
           },
           "zerolinecolor": "white",
           "zerolinewidth": 2
          }
         }
        },
        "title": {
         "text": "Average Respiratory Death Rates by Country and Cause (2012 - 2021, All Ages, Both Sexes)"
        },
        "width": 1500,
        "xaxis": {
         "anchor": "y",
         "constrain": "domain",
         "domain": [
          0,
          1
         ],
         "scaleanchor": "y",
         "title": {
          "text": "Cause"
         }
        },
        "yaxis": {
         "anchor": "x",
         "autorange": "reversed",
         "constrain": "domain",
         "domain": [
          0,
          1
         ],
         "title": {
          "text": "Country"
         }
        }
       }
      }
     },
     "metadata": {},
     "output_type": "display_data"
    }
   ],
   "source": [
    "# A more \"compact\" heatmap if presentation space is an issue. A little more difficult to interpret at first glance.\n",
    "# Change the colors and add gridlines?\n",
    "\n",
    "fig = px.imshow(\n",
    "    death_rates.pivot_table(\n",
    "        index='location',\n",
    "        columns='cause',\n",
    "        values='val',\n",
    "        aggfunc='mean',\n",
    "        fill_value=0,\n",
    "        observed=False\n",
    "    ),\n",
    "    labels=dict(x=\"Cause\", y=\"Country\", color=\"Rate/100k\"),\n",
    "    color_continuous_scale='YlOrRd',\n",
    "    title='Average Respiratory Death Rates by Country and Cause (2012 - 2021, All Ages, Both Sexes)'\n",
    ")\n",
    "\n",
    "fig.update_layout(height=1000, width=1500)\n",
    "fig.update_traces(\n",
    "    hovertemplate=\"<b>%{y}</b><br>Cause: %{x}<br>Rate: %{z:.1f}\"\n",
    ")\n",
    "fig.show()"
   ]
  },
  {
   "cell_type": "markdown",
   "id": "dd282846",
   "metadata": {},
   "source": [
    "COVID-19, COPD, lower respiratory infections, respiratory infections and tuberculosis, and tracheal/bronchus/lung cancer are the key areas to focus on based on this heatmap.\n",
    "\n",
    "The rates of death for asthma are relatively low for all countries in comparison to other causes. However, Portugal does have one of the higher rates of death compared to other countries.\n",
    "\n",
    "Bulgaria has a very high rate of deaths for respiratory infections and tuberculosis with a rate of 106.8/100,000 that far surpasses all of the other EU-27 countries. Portugal also has a very high rate of death for respiratory infections and tuberculosis with a rate of 87.5/100,000. It appears that Portugal struggles with respiratory infection-related deaths in general, with its highest rates of death being respiratory infections and tuberculosis and lower respiratory infections. "
   ]
  },
  {
   "cell_type": "markdown",
   "id": "2ebd1c16",
   "metadata": {},
   "source": [
    "It's important to breakdown this data by age and sex for potential health disparities purposes. Will create a dropdown view for filtering."
   ]
  },
  {
   "cell_type": "code",
   "execution_count": null,
   "id": "0ac489fb",
   "metadata": {},
   "outputs": [
    {
     "data": {
      "application/vnd.jupyter.widget-view+json": {
       "model_id": "e0a1531b4d674ed9a4f11c28c27b0eed",
       "version_major": 2,
       "version_minor": 0
      },
      "text/plain": [
       "interactive(children=(Dropdown(description='Sex:', index=2, options=('Male', 'Female', 'Both'), value='Both'),…"
      ]
     },
     "metadata": {},
     "output_type": "display_data"
    }
   ],
   "source": [
    "# Filter for death rates\n",
    "death_rates = gbd[\n",
    "    (gbd['measure'] == 'Deaths') & \n",
    "    (gbd['metric'] == 'Rate')\n",
    "]\n",
    "\n",
    "# Get available options\n",
    "available_countries = death_rates['location'].unique().tolist()\n",
    "sex_options = death_rates['sex'].unique().tolist()\n",
    "age_options = death_rates['age'].unique().tolist()\n",
    "year_options = sorted(death_rates['year'].unique().tolist())  # Sort years chronologically\n",
    "\n",
    "# Set safe default values\n",
    "default_sex = 'Both' if 'Both' in sex_options else sex_options[0]\n",
    "default_age = 'All ages' if 'All ages' in age_options else age_options[0]\n",
    "default_year = year_options[-1]  # Default to most recent year\n",
    "\n",
    "@interact(\n",
    "    Sex=Dropdown(options=sex_options, value=default_sex, description='Sex:'),\n",
    "    Age=Dropdown(options=age_options, value=default_age, description='Age Group:'),\n",
    "    Year=Dropdown(options=year_options, value=default_year, description='Year:')\n",
    ")\n",
    "def create_interactive_plot(Sex, Age, Year):\n",
    "    # Filter data based on selections\n",
    "    filtered_data = death_rates[\n",
    "        (death_rates['sex'] == Sex) & \n",
    "        (death_rates['age'] == Age) &\n",
    "        (death_rates['year'] == Year) &\n",
    "        (death_rates['location'].isin(available_countries))\n",
    "    ]\n",
    "    \n",
    "    \n",
    "    if filtered_data.empty:\n",
    "        print(\"No data available for the selected filters.\")\n",
    "        return\n",
    "    \n",
    "    # Create the plot\n",
    "    fig = px.scatter(\n",
    "        filtered_data,\n",
    "        x='cause',\n",
    "        y='val',\n",
    "        color='location',\n",
    "        labels={'val': 'Death Rate per 100k'},\n",
    "        title=f'Respiratory Death Rates: {Sex} | {Age} | {Year}',\n",
    "        height=600,\n",
    "        width=1000\n",
    "    )\n",
    "    \n",
    "    # Customize layout\n",
    "    fig.update_layout(\n",
    "        xaxis_title=\"Cause of Death\",\n",
    "        yaxis_title=\"Death Rate\",\n",
    "        legend_title=\"Country\",\n",
    "        hovermode='closest'\n",
    "    )\n",
    "    \n",
    "    # Improve readability\n",
    "    fig.update_xaxes(tickangle=50)\n",
    "    fig.update_traces(\n",
    "        marker=dict(size=12),\n",
    "        hovertemplate=(\n",
    "            \"<b>%{customdata[0]}</b><br>\"\n",
    "            \"Cause: %{x}<br>\"\n",
    "            \"Rate: %{y:.1f} per 100k\"\n",
    "        ),\n",
    "        customdata=filtered_data[['location']]\n",
    "    )\n",
    "    \n",
    "    \n",
    "    fig.show()\n",
    "\n",
    "    ## I prefer this presentation. Lots of information available and can filter to what is desired"
   ]
  },
  {
   "cell_type": "markdown",
   "id": "97b46689",
   "metadata": {},
   "source": [
    "Looking at 2012 (since it's the \"starting point\" for this dataset), the primary cause of death for males and females that are <20 years is respiratory infections and tuberculosis and lower respiratory infections. This trend holds true through 2019. While respiratory infections and tuberculosis and lower respiratory infections remain the highest causes of death for 2020 and 2021, COVID-19 takes a close third place. This is represented in the literature. It would be interesting to determine if future respiratory infection-related deaths (upper or lower) are caused by long COVID, particularly in the younger populations who will have to live with the effects of long COVID for many years. This could significantly impact health systems by increasing cost of care and the burden on the existing health system due to increased utilization.\n",
    "\n",
    "Interestingly, the death rates for COVID-19 and respiratory infections and tuberculosis are nearly identical for several EU-27 countries for 2020 and 2021. It would be interesting to determine if there is overlap (e.g, a death reported as due to \"respiratory infection\" that was actually caused by COVID-19 and vice versa). There were documented cases of the cause of death being misreported during the initial stages of the COVID-19 pandemic for multiple reasons (largely due to overwhelmed healthcare workforces).\n",
    "\n",
    "Looking only at COVID-19 related deaths between age groups for 2020 and 2021, older populations have much higher death rates due to COVID-19 compared to other causes when compared to those <20 years of age. Those in the 55+ year group have significantly higher death rates compared to the younger age groups (<20 years and 20-54 years). This is also backed by the literature as older populations tend to suffer more severe complications from COVID-19.\n",
    "\n",
    "Specifically for the 55+ years group, the primary cause of death is COPD, respiratory infections and tuberculosis, lower respiratory infections, and tracheal/bronchus/lung cancer. This holds true for both males and females from 2012-2019 until COVID-19 death rates become the leading cause in 2020-2021. Interestingly, males in the 55+ years group have higher rates of death related to the primary causes of death in the 55+ age group when compared to females. It would be interesting to determine smoking history (total years and pack/years) impact (e.g., do males have a more significant smoke history compared to females in the EU-27?). The deaths attributed to tracheal/bronchus/lung cancer remain relatively stable across all EU-27 countries from 2012-2021."
   ]
  },
  {
   "cell_type": "markdown",
   "id": "075638b7",
   "metadata": {},
   "source": [
    "**Will continue visualizing the remaining measures across all countries and will trend each measure across years.**\n",
    "\n",
    "Visualization ideas:\n",
    "* Incidence by age group and sex\n",
    "* Prevalence by age group and sex\n",
    "* Trends: compare death rates over time in the hotspots (COPD, lower respiratory infections, respiratory infections and TB, T/B/L cancer)\n",
    "* Incidence and prevalence over time"
   ]
  },
  {
   "cell_type": "markdown",
   "id": "f47a18fc",
   "metadata": {},
   "source": [
    "Focus of future studies/datasets based on insights from this dataset:\n",
    "* Compare respiratory causes of death in those with COPD to those without. It would be interesting to compare the death rates for respiratory infections and tracheal/bronchus/lung cancers between those with and without COPD. Recurrent respiratory infections are common in those with COPD. However, there is not enough information available in this particular dataset to determine the impact of a history of COPD on respiratory infection-related deaths. It is not surprising that the death rates for COPD and tracheal/bronchus/lung cancer are similar in this dataset considering that smoking history significantly impacts the development of both COPD and cancer (and oftentimes simultaneous diagnosis).\n",
    "* Compare respiratory causes of death in those with long COVID to those without, particularly in the younger populations. It would also be interesting/imperative to trend recurrent infections/complications in the same individuals in a long-term follow-up study (e.g., > 10 years). Long COVID-related complications will likely have significant impacts as the younger populations age. It would be imperative for health systems/countries to determine the potential financial and care utilization impacts."
   ]
  },
  {
   "cell_type": "markdown",
   "id": "c021d1ea",
   "metadata": {},
   "source": [
    "#### Previously used code that works but likely not used in final presentation:"
   ]
  },
  {
   "cell_type": "code",
   "execution_count": null,
   "id": "006a10df",
   "metadata": {},
   "outputs": [],
   "source": [
    "#### The following code works but slows the notebook down considerably ####\n",
    "## The interactive heatmap and interactive plot are better options to replace this interactive chart\n",
    "\n",
    "# Interactive bar chart for total deaths by country and cause for all years\n",
    "\n",
    "fig = px.bar(\n",
    "    gbd_deaths,\n",
    "    x='location',\n",
    "    y='val',\n",
    "    color='cause',\n",
    "    barmode='group',\n",
    "    log_y=True,\n",
    "    title=\"Total Deaths by Country and Cause\"\n",
    ")\n",
    "fig.update_layout(xaxis_tickangle=-45)\n",
    "fig.show()"
   ]
  },
  {
   "cell_type": "code",
   "execution_count": null,
   "id": "75d67193",
   "metadata": {},
   "outputs": [],
   "source": [
    "## Initial heatmap for death rates - replaced with interactive plot\n",
    "## This heatmap is \"boring\" - best to not use\n",
    "\n",
    "\n",
    "# Pivot table for heatmap\n",
    "heatmap_data = death_rates.pivot_table(\n",
    "    index='location',\n",
    "    columns='cause',\n",
    "    values='val',\n",
    "    aggfunc='mean',  # Average across years\n",
    "    fill_value=0,\n",
    "    observed=False\n",
    ")\n",
    "\n",
    "# Apply log transformation for better visualization\n",
    "#log_data = np.log10(heatmap_data + 0.1)  # Add 0.1 to handle zeros\n",
    "\n",
    "# Create the heatmap\n",
    "plt.figure(figsize=(16, 14))\n",
    "ax = sns.heatmap(\n",
    "    heatmap_data,\n",
    "    cmap=\"viridis\",\n",
    "    linewidths=0.5,\n",
    "    annot=heatmap_data.round(1),  # Show original rates in annotations\n",
    "    fmt=\".1f\",\n",
    "    annot_kws={\"size\": 8},\n",
    "    cbar_kws={\n",
    "        'label': 'Log10(Death Rate per 100k + 0.1)',\n",
    "        'ticks': np.log10([0.1, 1, 10, 100, 1000])\n",
    "    }\n",
    ")\n",
    "\n",
    "# Customize the plot\n",
    "plt.title(\"Average Death Rates for All Ages and Sexes by Country and Cause (per 100,000 population)\", \n",
    "          fontsize=16, pad=20)\n",
    "plt.xlabel(\"Cause of Death\", fontsize=12)\n",
    "plt.ylabel(\"Country\", fontsize=12)\n",
    "plt.xticks(rotation=45, ha=\"right\", fontsize=9)\n",
    "plt.yticks(fontsize=9)\n",
    "\n",
    "# Improve colorbar labeling\n",
    "cbar = ax.collections[0].colorbar\n",
    "cbar.set_ticklabels(['<0.1', '1', '10', '100', '1000+'])\n",
    "\n",
    "plt.tight_layout()\n",
    "plt.show()"
   ]
  },
  {
   "cell_type": "code",
   "execution_count": null,
   "id": "af9e355b",
   "metadata": {},
   "outputs": [],
   "source": [
    "## interactive scatterplot\n",
    "#### doesn't include all locations for some reason and it's too busy - would be best to graph each sex individually\n",
    "\n",
    "fig = px.scatter(\n",
    "    death_rates,\n",
    "    x='cause',\n",
    "    y='location',\n",
    "    color='val',\n",
    "    facet_col='age',\n",
    "    facet_row='sex',\n",
    "    color_continuous_scale='YlOrRd',\n",
    "    labels={'val': 'Death Rate'},\n",
    "    height=900,\n",
    "    width=1200\n",
    ")\n",
    "\n",
    "fig.update_layout(\n",
    "    title='Respiratory Death Rates by Country, Age and Sex',\n",
    "    xaxis_title=\"Cause of Death\",\n",
    "    yaxis_title=\"Country\"\n",
    ")\n",
    "\n",
    "fig.update_traces(\n",
    "    marker=dict(size=12),\n",
    "    hovertemplate=(\n",
    "        \"<b>%{y}</b><br>\"\n",
    "        \"Cause: %{x}<br>\"\n",
    "        \"Age: %{meta[0]}<br>\"\n",
    "        \"Sex: %{meta[1]}<br>\"\n",
    "        \"Rate: %{z:.1f} per 100k\"\n",
    "    ),\n",
    "    meta=death_rates[['age', 'sex']]  # Add extra hover fields\n",
    ")\n",
    "\n",
    "fig.update_xaxes(tickangle=45)\n",
    "fig.show()\n",
    "\n"
   ]
  }
 ],
 "metadata": {
  "kernelspec": {
   "display_name": "Python 3",
   "language": "python",
   "name": "python3"
  },
  "language_info": {
   "codemirror_mode": {
    "name": "ipython",
    "version": 3
   },
   "file_extension": ".py",
   "mimetype": "text/x-python",
   "name": "python",
   "nbconvert_exporter": "python",
   "pygments_lexer": "ipython3",
   "version": "3.13.5"
  }
 },
 "nbformat": 4,
 "nbformat_minor": 5
}
