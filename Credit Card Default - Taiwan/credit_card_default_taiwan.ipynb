{
 "cells": [
  {
   "cell_type": "markdown",
   "id": "23f1982b",
   "metadata": {},
   "source": [
    "Per the UCI Machine Learning Repository, the following is the description of each of the variables:\n",
    "* X1: Amount of the given credit (NT dollar): it includes both the individual consumer credit and his/her family (supplementary) credit.\n",
    "* X2: Gender (1 = male; 2 = female).\n",
    "* X3: Education (1 = graduate school; 2 = university; 3 = high school; 4 = others).\n",
    "* X4: Marital status (1 = married; 2 = single; 3 = others).\n",
    "* X5: Age (year).\n",
    "* X6 - X11: History of past payment. We tracked the past monthly payment records (from April to September, 2005) as follows: \n",
    "    - X6 = the repayment status in September, 2005\n",
    "    - X7 = the repayment status in August, 2005; . . .\n",
    "    - X11 = the repayment status in April, 2005. \n",
    "    - The measurement scale for the repayment status is: \n",
    "        - -1 = pay duly\n",
    "        - 1 = payment delay for one month\n",
    "        - 2 = payment delay for two months; . . .\n",
    "        - 8 = payment delay for eight months\n",
    "        - 9 = payment delay for nine months and above.\n",
    "* X12-X17: Amount of bill statement (NT dollar)\n",
    "    - X12 = amount of bill statement in September, 2005\n",
    "    - X13 = amount of bill statement in August, 2005; . . .\n",
    "    - X17 = amount of bill statement in April, 2005. \n",
    "* X18-X23: Amount of previous payment (NT dollar).\n",
    "    - X18 = amount paid in September, 2005\n",
    "    - X19 = amount paid in August, 2005 . . .\n",
    "    - X23 = amount paid in April, 2005.\n",
    "\n",
    "Based on the descriptions, payment history is available for 6 months (April - September). Repayment status is available for 9+ months depending on the debtor.\n",
    "\n",
    "There are some interesting variables (education level, marital status, etc.) that can be explored to determine their effects on payment history."
   ]
  },
  {
   "cell_type": "code",
   "execution_count": 71,
   "id": "b4269936",
   "metadata": {},
   "outputs": [],
   "source": [
    "# Load the necessary libraries\n",
    "\n",
    "import pandas as pd\n",
    "import numpy as np\n",
    "import matplotlib.pyplot as plt\n",
    "import seaborn as sns\n",
    "import statsmodels.api as sm\n",
    "from statsmodels.formula.api import glm\n",
    "\n",
    "# remove if not modeling\n",
    "from sklearn.model_selection import train_test_split\n",
    "from sklearn.linear_model import LogisticRegression\n",
    "from sklearn.metrics import accuracy_score, classification_report"
   ]
  },
  {
   "cell_type": "code",
   "execution_count": 19,
   "id": "6200ccc1",
   "metadata": {},
   "outputs": [],
   "source": [
    "# Load the dataset\n",
    "\n",
    "credit = pd.read_excel('/home/bruce/Desktop/coding-projects/Other Datasets/default of credit card clients.xls', header=1)"
   ]
  },
  {
   "cell_type": "markdown",
   "id": "27d311c6",
   "metadata": {},
   "source": [
    "Dataset is loaded without issues. Will complete an initial inspection of the dataset to determine datatypes, missing, etc."
   ]
  },
  {
   "cell_type": "code",
   "execution_count": 20,
   "id": "e9e2ff1c",
   "metadata": {},
   "outputs": [
    {
     "data": {
      "text/html": [
       "<div>\n",
       "<style scoped>\n",
       "    .dataframe tbody tr th:only-of-type {\n",
       "        vertical-align: middle;\n",
       "    }\n",
       "\n",
       "    .dataframe tbody tr th {\n",
       "        vertical-align: top;\n",
       "    }\n",
       "\n",
       "    .dataframe thead th {\n",
       "        text-align: right;\n",
       "    }\n",
       "</style>\n",
       "<table border=\"1\" class=\"dataframe\">\n",
       "  <thead>\n",
       "    <tr style=\"text-align: right;\">\n",
       "      <th></th>\n",
       "      <th>ID</th>\n",
       "      <th>LIMIT_BAL</th>\n",
       "      <th>SEX</th>\n",
       "      <th>EDUCATION</th>\n",
       "      <th>MARRIAGE</th>\n",
       "      <th>AGE</th>\n",
       "      <th>PAY_0</th>\n",
       "      <th>PAY_2</th>\n",
       "      <th>PAY_3</th>\n",
       "      <th>PAY_4</th>\n",
       "      <th>...</th>\n",
       "      <th>BILL_AMT4</th>\n",
       "      <th>BILL_AMT5</th>\n",
       "      <th>BILL_AMT6</th>\n",
       "      <th>PAY_AMT1</th>\n",
       "      <th>PAY_AMT2</th>\n",
       "      <th>PAY_AMT3</th>\n",
       "      <th>PAY_AMT4</th>\n",
       "      <th>PAY_AMT5</th>\n",
       "      <th>PAY_AMT6</th>\n",
       "      <th>default payment next month</th>\n",
       "    </tr>\n",
       "  </thead>\n",
       "  <tbody>\n",
       "    <tr>\n",
       "      <th>0</th>\n",
       "      <td>1</td>\n",
       "      <td>20000</td>\n",
       "      <td>2</td>\n",
       "      <td>2</td>\n",
       "      <td>1</td>\n",
       "      <td>24</td>\n",
       "      <td>2</td>\n",
       "      <td>2</td>\n",
       "      <td>-1</td>\n",
       "      <td>-1</td>\n",
       "      <td>...</td>\n",
       "      <td>0</td>\n",
       "      <td>0</td>\n",
       "      <td>0</td>\n",
       "      <td>0</td>\n",
       "      <td>689</td>\n",
       "      <td>0</td>\n",
       "      <td>0</td>\n",
       "      <td>0</td>\n",
       "      <td>0</td>\n",
       "      <td>1</td>\n",
       "    </tr>\n",
       "    <tr>\n",
       "      <th>1</th>\n",
       "      <td>2</td>\n",
       "      <td>120000</td>\n",
       "      <td>2</td>\n",
       "      <td>2</td>\n",
       "      <td>2</td>\n",
       "      <td>26</td>\n",
       "      <td>-1</td>\n",
       "      <td>2</td>\n",
       "      <td>0</td>\n",
       "      <td>0</td>\n",
       "      <td>...</td>\n",
       "      <td>3272</td>\n",
       "      <td>3455</td>\n",
       "      <td>3261</td>\n",
       "      <td>0</td>\n",
       "      <td>1000</td>\n",
       "      <td>1000</td>\n",
       "      <td>1000</td>\n",
       "      <td>0</td>\n",
       "      <td>2000</td>\n",
       "      <td>1</td>\n",
       "    </tr>\n",
       "    <tr>\n",
       "      <th>2</th>\n",
       "      <td>3</td>\n",
       "      <td>90000</td>\n",
       "      <td>2</td>\n",
       "      <td>2</td>\n",
       "      <td>2</td>\n",
       "      <td>34</td>\n",
       "      <td>0</td>\n",
       "      <td>0</td>\n",
       "      <td>0</td>\n",
       "      <td>0</td>\n",
       "      <td>...</td>\n",
       "      <td>14331</td>\n",
       "      <td>14948</td>\n",
       "      <td>15549</td>\n",
       "      <td>1518</td>\n",
       "      <td>1500</td>\n",
       "      <td>1000</td>\n",
       "      <td>1000</td>\n",
       "      <td>1000</td>\n",
       "      <td>5000</td>\n",
       "      <td>0</td>\n",
       "    </tr>\n",
       "    <tr>\n",
       "      <th>3</th>\n",
       "      <td>4</td>\n",
       "      <td>50000</td>\n",
       "      <td>2</td>\n",
       "      <td>2</td>\n",
       "      <td>1</td>\n",
       "      <td>37</td>\n",
       "      <td>0</td>\n",
       "      <td>0</td>\n",
       "      <td>0</td>\n",
       "      <td>0</td>\n",
       "      <td>...</td>\n",
       "      <td>28314</td>\n",
       "      <td>28959</td>\n",
       "      <td>29547</td>\n",
       "      <td>2000</td>\n",
       "      <td>2019</td>\n",
       "      <td>1200</td>\n",
       "      <td>1100</td>\n",
       "      <td>1069</td>\n",
       "      <td>1000</td>\n",
       "      <td>0</td>\n",
       "    </tr>\n",
       "    <tr>\n",
       "      <th>4</th>\n",
       "      <td>5</td>\n",
       "      <td>50000</td>\n",
       "      <td>1</td>\n",
       "      <td>2</td>\n",
       "      <td>1</td>\n",
       "      <td>57</td>\n",
       "      <td>-1</td>\n",
       "      <td>0</td>\n",
       "      <td>-1</td>\n",
       "      <td>0</td>\n",
       "      <td>...</td>\n",
       "      <td>20940</td>\n",
       "      <td>19146</td>\n",
       "      <td>19131</td>\n",
       "      <td>2000</td>\n",
       "      <td>36681</td>\n",
       "      <td>10000</td>\n",
       "      <td>9000</td>\n",
       "      <td>689</td>\n",
       "      <td>679</td>\n",
       "      <td>0</td>\n",
       "    </tr>\n",
       "  </tbody>\n",
       "</table>\n",
       "<p>5 rows × 25 columns</p>\n",
       "</div>"
      ],
      "text/plain": [
       "   ID  LIMIT_BAL  SEX  EDUCATION  MARRIAGE  AGE  PAY_0  PAY_2  PAY_3  PAY_4  \\\n",
       "0   1      20000    2          2         1   24      2      2     -1     -1   \n",
       "1   2     120000    2          2         2   26     -1      2      0      0   \n",
       "2   3      90000    2          2         2   34      0      0      0      0   \n",
       "3   4      50000    2          2         1   37      0      0      0      0   \n",
       "4   5      50000    1          2         1   57     -1      0     -1      0   \n",
       "\n",
       "   ...  BILL_AMT4  BILL_AMT5  BILL_AMT6  PAY_AMT1  PAY_AMT2  PAY_AMT3  \\\n",
       "0  ...          0          0          0         0       689         0   \n",
       "1  ...       3272       3455       3261         0      1000      1000   \n",
       "2  ...      14331      14948      15549      1518      1500      1000   \n",
       "3  ...      28314      28959      29547      2000      2019      1200   \n",
       "4  ...      20940      19146      19131      2000     36681     10000   \n",
       "\n",
       "   PAY_AMT4  PAY_AMT5  PAY_AMT6  default payment next month  \n",
       "0         0         0         0                           1  \n",
       "1      1000         0      2000                           1  \n",
       "2      1000      1000      5000                           0  \n",
       "3      1100      1069      1000                           0  \n",
       "4      9000       689       679                           0  \n",
       "\n",
       "[5 rows x 25 columns]"
      ]
     },
     "execution_count": 20,
     "metadata": {},
     "output_type": "execute_result"
    }
   ],
   "source": [
    "# Check the head of the dataset\n",
    "credit.head()"
   ]
  },
  {
   "cell_type": "code",
   "execution_count": 21,
   "id": "0bdb1a66",
   "metadata": {},
   "outputs": [
    {
     "data": {
      "text/plain": [
       "ID                            0\n",
       "LIMIT_BAL                     0\n",
       "SEX                           0\n",
       "EDUCATION                     0\n",
       "MARRIAGE                      0\n",
       "AGE                           0\n",
       "PAY_0                         0\n",
       "PAY_2                         0\n",
       "PAY_3                         0\n",
       "PAY_4                         0\n",
       "PAY_5                         0\n",
       "PAY_6                         0\n",
       "BILL_AMT1                     0\n",
       "BILL_AMT2                     0\n",
       "BILL_AMT3                     0\n",
       "BILL_AMT4                     0\n",
       "BILL_AMT5                     0\n",
       "BILL_AMT6                     0\n",
       "PAY_AMT1                      0\n",
       "PAY_AMT2                      0\n",
       "PAY_AMT3                      0\n",
       "PAY_AMT4                      0\n",
       "PAY_AMT5                      0\n",
       "PAY_AMT6                      0\n",
       "default payment next month    0\n",
       "dtype: int64"
      ]
     },
     "execution_count": 21,
     "metadata": {},
     "output_type": "execute_result"
    }
   ],
   "source": [
    "# Verify there is no missing data\n",
    "credit.isna().sum()"
   ]
  },
  {
   "cell_type": "code",
   "execution_count": 22,
   "id": "fcc5183e",
   "metadata": {},
   "outputs": [
    {
     "data": {
      "text/plain": [
       "ID                            int64\n",
       "LIMIT_BAL                     int64\n",
       "SEX                           int64\n",
       "EDUCATION                     int64\n",
       "MARRIAGE                      int64\n",
       "AGE                           int64\n",
       "PAY_0                         int64\n",
       "PAY_2                         int64\n",
       "PAY_3                         int64\n",
       "PAY_4                         int64\n",
       "PAY_5                         int64\n",
       "PAY_6                         int64\n",
       "BILL_AMT1                     int64\n",
       "BILL_AMT2                     int64\n",
       "BILL_AMT3                     int64\n",
       "BILL_AMT4                     int64\n",
       "BILL_AMT5                     int64\n",
       "BILL_AMT6                     int64\n",
       "PAY_AMT1                      int64\n",
       "PAY_AMT2                      int64\n",
       "PAY_AMT3                      int64\n",
       "PAY_AMT4                      int64\n",
       "PAY_AMT5                      int64\n",
       "PAY_AMT6                      int64\n",
       "default payment next month    int64\n",
       "dtype: object"
      ]
     },
     "execution_count": 22,
     "metadata": {},
     "output_type": "execute_result"
    }
   ],
   "source": [
    "# Verify datatypes\n",
    "credit.dtypes"
   ]
  },
  {
   "cell_type": "markdown",
   "id": "ecdb6b44",
   "metadata": {},
   "source": [
    "The following variables need to be changed:\n",
    "* X2, X3, X4 = categorical\n",
    "* X6-X11 = categorical"
   ]
  },
  {
   "cell_type": "markdown",
   "id": "023cfb5d",
   "metadata": {},
   "source": [
    "Initial inspection completed. Time to preprocess the data."
   ]
  },
  {
   "cell_type": "code",
   "execution_count": 23,
   "id": "2b05dbb4",
   "metadata": {},
   "outputs": [
    {
     "data": {
      "text/plain": [
       "Index(['id', 'limit_bal', 'sex', 'education', 'marriage', 'age', 'pay_0',\n",
       "       'pay_2', 'pay_3', 'pay_4', 'pay_5', 'pay_6', 'bill_amt1', 'bill_amt2',\n",
       "       'bill_amt3', 'bill_amt4', 'bill_amt5', 'bill_amt6', 'pay_amt1',\n",
       "       'pay_amt2', 'pay_amt3', 'pay_amt4', 'pay_amt5', 'pay_amt6',\n",
       "       'default payment next month'],\n",
       "      dtype='object')"
      ]
     },
     "execution_count": 23,
     "metadata": {},
     "output_type": "execute_result"
    }
   ],
   "source": [
    "# Convert column names to lowercase to avoid errors\n",
    "credit.columns = credit.columns.str.lower()\n",
    "credit.columns"
   ]
  },
  {
   "cell_type": "markdown",
   "id": "7de35043",
   "metadata": {},
   "source": [
    "I will verify that the entered values match the codes provided in the description (e.g., there are no erroneously entered values)"
   ]
  },
  {
   "cell_type": "code",
   "execution_count": 30,
   "id": "4ae838ea",
   "metadata": {},
   "outputs": [
    {
     "name": "stdout",
     "output_type": "stream",
     "text": [
      "Unique values for education: [2 1 3 5 4 6 0]\n",
      "Unique values for marriage: [1 2 3 0]\n",
      "Unique values for pay_0: [ 2 -1  0 -2  1  3  4  8  7  5  6]\n",
      "Unique values for pay_2: [ 2  0 -1 -2  3  5  7  4  1  6  8]\n",
      "Unique values for pay_3: [-1  0  2 -2  3  4  6  7  1  5  8]\n",
      "Unique values for pay_4: [-1  0 -2  2  3  4  5  7  6  1  8]\n",
      "Unique values for pay_5: [-2  0 -1  2  3  5  4  7  8  6]\n",
      "Unique values for pay_6: [-2  2  0 -1  3  6  4  7  8  5]\n"
     ]
    }
   ],
   "source": [
    "# Verify unique values before conversion\n",
    "print(\"Unique values for education:\", credit['education'].unique())\n",
    "print(\"Unique values for marriage:\", credit['marriage'].unique())\n",
    "print(\"Unique values for pay_0:\", credit['pay_0'].unique())\n",
    "print(\"Unique values for pay_2:\", credit['pay_2'].unique())\n",
    "print(\"Unique values for pay_3:\", credit['pay_3'].unique())\n",
    "print(\"Unique values for pay_4:\", credit['pay_4'].unique())\n",
    "print(\"Unique values for pay_5:\", credit['pay_5'].unique())\n",
    "print(\"Unique values for pay_6:\", credit['pay_6'].unique())"
   ]
  },
  {
   "cell_type": "markdown",
   "id": "d062412b",
   "metadata": {},
   "source": [
    "The following are issues based on the results of the unique values:\n",
    "* There are erroneous values for education. The values should only be 1, 2, 3, or 4 and there are values of 0, 5, and 6.\n",
    "* There are erroneous values for marriage. The values should only be 1, 2, or 3. There are values of 0\n",
    "* Erroneous values for all pay columns. There are values of -2 and 0 entered. All other values are correct."
   ]
  },
  {
   "cell_type": "markdown",
   "id": "9c5fa909",
   "metadata": {},
   "source": [
    "The following paper uses the dataset for ML modeling and discusses the variables in some detail; however, there is no mention of the erroneous values:\n",
    "* Islam, S.R., Eberle, W., & Ghafoor, S.K. (2018). Credit Default Mining Using Combined Machine Learning and Heuristic Approach. ArXiv, abs/1807.01176.\n",
    "* There is another paper cited on the UCI ML Repository, but it does not discuss the variables in detail"
   ]
  },
  {
   "cell_type": "markdown",
   "id": "fb096bdb",
   "metadata": {},
   "source": [
    "Regarding the erroneous values:\n",
    "* Pay columns: Can assume -2 is either 'Pay Duly' (so -1) or can assume it is 'Delay 2 Months' (so 2)\n",
    "* Education: Can assume all erroneous values are 'Others' (e.g., '4'), but the values entered as '0' may indicate 'No education'?\n",
    "* Marriage: Can assume '0' is a mistaken binary entry (e.g., 'No') and change to Single ('2')"
   ]
  },
  {
   "cell_type": "markdown",
   "id": "d9b92fe6",
   "metadata": {},
   "source": [
    "I will count the unique values to determine the potential impacts"
   ]
  },
  {
   "cell_type": "code",
   "execution_count": 40,
   "id": "44b0dda7",
   "metadata": {},
   "outputs": [
    {
     "name": "stdout",
     "output_type": "stream",
     "text": [
      "Counts for: education\n",
      "2    14030\n",
      "1    10585\n",
      "3     4917\n",
      "5      280\n",
      "4      123\n",
      "6       51\n",
      "0       14\n",
      "Name: count, dtype: int64\n",
      "\n",
      "\n",
      "Counts for: marriage\n",
      "2    15964\n",
      "1    13659\n",
      "3      323\n",
      "0       54\n",
      "Name: count, dtype: int64\n",
      "\n",
      "\n",
      "Counts for: pay_0\n",
      " 0    14737\n",
      "-1     5686\n",
      " 1     3688\n",
      "-2     2759\n",
      " 2     2667\n",
      " 3      322\n",
      " 4       76\n",
      " 5       26\n",
      " 8       19\n",
      " 6       11\n",
      " 7        9\n",
      "Name: count, dtype: int64\n",
      "\n",
      "\n",
      "Counts for: pay_2\n",
      " 0    15730\n",
      "-1     6050\n",
      " 2     3927\n",
      "-2     3782\n",
      " 3      326\n",
      " 4       99\n",
      " 1       28\n",
      " 5       25\n",
      " 7       20\n",
      " 6       12\n",
      " 8        1\n",
      "Name: count, dtype: int64\n",
      "\n",
      "\n",
      "Counts for: pay_3\n",
      " 0    15764\n",
      "-1     5938\n",
      "-2     4085\n",
      " 2     3819\n",
      " 3      240\n",
      " 4       76\n",
      " 7       27\n",
      " 6       23\n",
      " 5       21\n",
      " 1        4\n",
      " 8        3\n",
      "Name: count, dtype: int64\n",
      "\n",
      "\n",
      "Counts for: pay_4\n",
      " 0    16455\n",
      "-1     5687\n",
      "-2     4348\n",
      " 2     3159\n",
      " 3      180\n",
      " 4       69\n",
      " 7       58\n",
      " 5       35\n",
      " 6        5\n",
      " 1        2\n",
      " 8        2\n",
      "Name: count, dtype: int64\n",
      "\n",
      "\n",
      "Counts for: pay_5\n",
      " 0    16947\n",
      "-1     5539\n",
      "-2     4546\n",
      " 2     2626\n",
      " 3      178\n",
      " 4       84\n",
      " 7       58\n",
      " 5       17\n",
      " 6        4\n",
      " 8        1\n",
      "Name: count, dtype: int64\n",
      "\n",
      "\n",
      "Counts for: pay_6\n",
      " 0    16286\n",
      "-1     5740\n",
      "-2     4895\n",
      " 2     2766\n",
      " 3      184\n",
      " 4       49\n",
      " 7       46\n",
      " 6       19\n",
      " 5       13\n",
      " 8        2\n",
      "Name: count, dtype: int64\n",
      "\n",
      "\n"
     ]
    }
   ],
   "source": [
    "# Summing the counts for each unique value for education\n",
    "print(\"Counts for:\", credit['education'].value_counts())\n",
    "print('\\n')\n",
    "\n",
    "# Summing the counts for each unique value for marriage\n",
    "print(\"Counts for:\", credit['marriage'].value_counts())\n",
    "print('\\n')\n",
    "\n",
    "# Summing the counts for each unique value for the pay columns\n",
    "print(\"Counts for:\", credit['pay_0'].value_counts())\n",
    "print('\\n')\n",
    "print(\"Counts for:\", credit['pay_2'].value_counts())\n",
    "print('\\n')\n",
    "print(\"Counts for:\", credit['pay_3'].value_counts())\n",
    "print('\\n')\n",
    "print(\"Counts for:\", credit['pay_4'].value_counts())\n",
    "print('\\n')\n",
    "print(\"Counts for:\", credit['pay_5'].value_counts())\n",
    "print('\\n')\n",
    "print(\"Counts for:\", credit['pay_6'].value_counts())\n",
    "print('\\n')"
   ]
  },
  {
   "cell_type": "code",
   "execution_count": null,
   "id": "db857def",
   "metadata": {},
   "outputs": [],
   "source": []
  },
  {
   "cell_type": "markdown",
   "id": "98e60900",
   "metadata": {},
   "source": [
    "Based on the previous counts:\n",
    "* Change all 0 values in the pay columns to -1 ('Pay Duly')\n",
    "* Change all -2 values in the pay columns to 2 ('Delay 2 Months')\n",
    "* There are only 54 values entered as 0 for marriage - will assume they are \"No\" and change to 2 ('Single')\n",
    "* Will assume all erroneous values for education are 4 ('Others')"
   ]
  },
  {
   "cell_type": "code",
   "execution_count": 42,
   "id": "be226ac1",
   "metadata": {},
   "outputs": [],
   "source": [
    "# List pay columns\n",
    "pay_cols = ['pay_0', 'pay_2', 'pay_3', 'pay_4', 'pay_5', 'pay_6']\n",
    "\n",
    "# Change all 0 values to -1 in the pay columns\n",
    "credit[pay_cols] = credit[pay_cols].replace(0, -1)\n",
    "\n",
    "# Change all -2 values to 2 in the pay columns\n",
    "credit[pay_cols] = credit[pay_cols].replace(-2, 2)\n",
    "\n",
    "# Change all 0 values to 2 in the marriage column\n",
    "credit['marriage'] = credit['marriage'].replace(0, 2)\n",
    "\n",
    "# Change all 0, 5, 6 values to 4 in education column\n",
    "credit['education'] = credit['education'].replace(0, 4)\n",
    "credit['education'] = credit['education'].replace(5, 4)\n",
    "credit['education'] = credit['education'].replace(6, 4)"
   ]
  },
  {
   "cell_type": "markdown",
   "id": "51af110b",
   "metadata": {},
   "source": [
    "Verify counts following changes:"
   ]
  },
  {
   "cell_type": "code",
   "execution_count": 43,
   "id": "2317c348",
   "metadata": {},
   "outputs": [
    {
     "name": "stdout",
     "output_type": "stream",
     "text": [
      "Counts for: education\n",
      "2    14030\n",
      "1    10585\n",
      "3     4917\n",
      "4      468\n",
      "Name: count, dtype: int64\n",
      "\n",
      "\n",
      "Counts for: marriage\n",
      "2    16018\n",
      "1    13659\n",
      "3      323\n",
      "Name: count, dtype: int64\n",
      "\n",
      "\n",
      "Counts for: pay_0\n",
      "-1    20423\n",
      " 2     5426\n",
      " 1     3688\n",
      " 3      322\n",
      " 4       76\n",
      " 5       26\n",
      " 8       19\n",
      " 6       11\n",
      " 7        9\n",
      "Name: count, dtype: int64\n",
      "\n",
      "\n",
      "Counts for: pay_2\n",
      "-1    21780\n",
      " 2     7709\n",
      " 3      326\n",
      " 4       99\n",
      " 1       28\n",
      " 5       25\n",
      " 7       20\n",
      " 6       12\n",
      " 8        1\n",
      "Name: count, dtype: int64\n",
      "\n",
      "\n",
      "Counts for: pay_3\n",
      "-1    21702\n",
      " 2     7904\n",
      " 3      240\n",
      " 4       76\n",
      " 7       27\n",
      " 6       23\n",
      " 5       21\n",
      " 1        4\n",
      " 8        3\n",
      "Name: count, dtype: int64\n",
      "\n",
      "\n",
      "Counts for: pay_4\n",
      "-1    22142\n",
      " 2     7507\n",
      " 3      180\n",
      " 4       69\n",
      " 7       58\n",
      " 5       35\n",
      " 6        5\n",
      " 1        2\n",
      " 8        2\n",
      "Name: count, dtype: int64\n",
      "\n",
      "\n",
      "Counts for: pay_5\n",
      "-1    22486\n",
      " 2     7172\n",
      " 3      178\n",
      " 4       84\n",
      " 7       58\n",
      " 5       17\n",
      " 6        4\n",
      " 8        1\n",
      "Name: count, dtype: int64\n",
      "\n",
      "\n",
      "Counts for: pay_6\n",
      "-1    22026\n",
      " 2     7661\n",
      " 3      184\n",
      " 4       49\n",
      " 7       46\n",
      " 6       19\n",
      " 5       13\n",
      " 8        2\n",
      "Name: count, dtype: int64\n",
      "\n",
      "\n"
     ]
    }
   ],
   "source": [
    "# Summing the counts for each unique value for education\n",
    "print(\"Counts for:\", credit['education'].value_counts())\n",
    "print('\\n')\n",
    "\n",
    "# Summing the counts for each unique value for marriage\n",
    "print(\"Counts for:\", credit['marriage'].value_counts())\n",
    "print('\\n')\n",
    "\n",
    "# Summing the counts for each unique value for the pay columns\n",
    "print(\"Counts for:\", credit['pay_0'].value_counts())\n",
    "print('\\n')\n",
    "print(\"Counts for:\", credit['pay_2'].value_counts())\n",
    "print('\\n')\n",
    "print(\"Counts for:\", credit['pay_3'].value_counts())\n",
    "print('\\n')\n",
    "print(\"Counts for:\", credit['pay_4'].value_counts())\n",
    "print('\\n')\n",
    "print(\"Counts for:\", credit['pay_5'].value_counts())\n",
    "print('\\n')\n",
    "print(\"Counts for:\", credit['pay_6'].value_counts())\n",
    "print('\\n')"
   ]
  },
  {
   "cell_type": "markdown",
   "id": "ef19319e",
   "metadata": {},
   "source": [
    "Erroneous values are handles, so time to convert sex, education, marriage, pay_0, pay_2, pay_3, pay_4, pay_5, pay_6 to categorical with correct labels and verify change:"
   ]
  },
  {
   "cell_type": "code",
   "execution_count": 44,
   "id": "5fdc8267",
   "metadata": {},
   "outputs": [
    {
     "data": {
      "text/plain": [
       "id                               int64\n",
       "limit_bal                        int64\n",
       "sex                           category\n",
       "education                     category\n",
       "marriage                      category\n",
       "age                              int64\n",
       "pay_0                         category\n",
       "pay_2                         category\n",
       "pay_3                         category\n",
       "pay_4                         category\n",
       "pay_5                         category\n",
       "pay_6                         category\n",
       "bill_amt1                        int64\n",
       "bill_amt2                        int64\n",
       "bill_amt3                        int64\n",
       "bill_amt4                        int64\n",
       "bill_amt5                        int64\n",
       "bill_amt6                        int64\n",
       "pay_amt1                         int64\n",
       "pay_amt2                         int64\n",
       "pay_amt3                         int64\n",
       "pay_amt4                         int64\n",
       "pay_amt5                         int64\n",
       "pay_amt6                         int64\n",
       "default payment next month       int64\n",
       "dtype: object"
      ]
     },
     "execution_count": 44,
     "metadata": {},
     "output_type": "execute_result"
    }
   ],
   "source": [
    "# Define mapping for categorical variables\n",
    "education_map = {1: 'Graduate', 2: 'University', 3: 'High School', 4: 'Others'}\n",
    "gender_map = {1: 'Male', 2: 'Female'}\n",
    "marriage_map = {1: 'Married', 2: 'Single', 3: 'Others'}\n",
    "pay_map = {\n",
    "    -1: 'Pay Duly',\n",
    "    1: 'Delay 1 Month',\n",
    "    2: 'Delay 2 Months',\n",
    "    3: 'Delay 3 Months',\n",
    "    4: 'Delay 4 Months',\n",
    "    5: 'Delay 5 Months',\n",
    "    6: 'Delay 6 Months',\n",
    "    7: 'Delay 7 Months',\n",
    "    8: 'Delay 8 Months',\n",
    "    9: 'Delay 9+ Months'\n",
    "}\n",
    "\n",
    "# Define category lists\n",
    "education_cats = ['Graduate', 'University', 'High School', 'Others']\n",
    "gender_cats = ['Male', 'Female']\n",
    "marriage_cats = ['Married', 'Single', 'Others']\n",
    "pay_cats = [\n",
    "    'Pay Duly',\n",
    "    'Delay 1 Month',\n",
    "    'Delay 2 Months',\n",
    "    'Delay 3 Months',\n",
    "    'Delay 4 Months',\n",
    "    'Delay 5 Months',\n",
    "    'Delay 6 Months',\n",
    "    'Delay 7 Months',\n",
    "    'Delay 8 Months',\n",
    "    'Delay 9+ Months'\n",
    "]\n",
    "\n",
    "# Apply mapping and categorical conversion in one step\n",
    "credit['sex'] = credit['sex'].map(gender_map).astype('category')\n",
    "\n",
    "credit['education'] = pd.Categorical(\n",
    "    credit['education'].map(education_map),\n",
    "    categories=education_cats,\n",
    "    ordered=True\n",
    ")\n",
    "\n",
    "credit['marriage'] = credit['marriage'].map(marriage_map).astype('category')\n",
    "\n",
    "# For pay columns: map AND convert with explicit categories/order\n",
    "for pay_col in ['pay_0', 'pay_2', 'pay_3', 'pay_4', 'pay_5', 'pay_6']:\n",
    "    credit[pay_col] = pd.Categorical(\n",
    "        credit[pay_col].map(pay_map),\n",
    "        categories=pay_cats,\n",
    "        ordered=True\n",
    "    )\n",
    "\n",
    "# Verify change to categorical\n",
    "credit.dtypes"
   ]
  },
  {
   "cell_type": "code",
   "execution_count": 45,
   "id": "60ba9c83",
   "metadata": {},
   "outputs": [
    {
     "name": "stdout",
     "output_type": "stream",
     "text": [
      "Education categories: ['Graduate', 'University', 'High School', 'Others']\n",
      "Marriage categories: ['Married', 'Others', 'Single']\n",
      "Gender categories: ['Female', 'Male']\n",
      "Pay_0 categories: ['Pay Duly', 'Delay 1 Month', 'Delay 2 Months', 'Delay 3 Months', 'Delay 4 Months', 'Delay 5 Months', 'Delay 6 Months', 'Delay 7 Months', 'Delay 8 Months', 'Delay 9+ Months']\n"
     ]
    }
   ],
   "source": [
    "# Verify categories\n",
    "print(\"Education categories:\", credit['education'].cat.categories.tolist())\n",
    "print(\"Marriage categories:\", credit['marriage'].cat.categories.tolist())\n",
    "print(\"Gender categories:\", credit['sex'].cat.categories.tolist())\n",
    "print(\"Pay_0 categories:\", credit['pay_0'].cat.categories.tolist())"
   ]
  },
  {
   "cell_type": "code",
   "execution_count": 46,
   "id": "b3c806ef",
   "metadata": {},
   "outputs": [
    {
     "data": {
      "text/plain": [
       "id                            0\n",
       "limit_bal                     0\n",
       "sex                           0\n",
       "education                     0\n",
       "marriage                      0\n",
       "age                           0\n",
       "pay_0                         0\n",
       "pay_2                         0\n",
       "pay_3                         0\n",
       "pay_4                         0\n",
       "pay_5                         0\n",
       "pay_6                         0\n",
       "bill_amt1                     0\n",
       "bill_amt2                     0\n",
       "bill_amt3                     0\n",
       "bill_amt4                     0\n",
       "bill_amt5                     0\n",
       "bill_amt6                     0\n",
       "pay_amt1                      0\n",
       "pay_amt2                      0\n",
       "pay_amt3                      0\n",
       "pay_amt4                      0\n",
       "pay_amt5                      0\n",
       "pay_amt6                      0\n",
       "default payment next month    0\n",
       "dtype: int64"
      ]
     },
     "execution_count": 46,
     "metadata": {},
     "output_type": "execute_result"
    }
   ],
   "source": [
    "# Verify no data was \"lost\" during conversion\n",
    "credit.isna().sum()"
   ]
  },
  {
   "cell_type": "markdown",
   "id": "a7be7798",
   "metadata": {},
   "source": [
    "Let's see how the data is distributed for each variable."
   ]
  },
  {
   "cell_type": "code",
   "execution_count": 72,
   "id": "a622d3d2",
   "metadata": {},
   "outputs": [
    {
     "data": {
      "image/png": "[encoded data removed]",
      "text/plain": [
       "<Figure size 640x480 with 1 Axes>"
      ]
     },
     "metadata": {},
     "output_type": "display_data"
    }
   ],
   "source": [
    "# limit_bal distribution\n",
    "sns.histplot(credit['limit_bal'], bins = 30, kde = True, color = \"blue\", edgecolor = \"black\")\n",
    "plt.title('Distribution of Credit Limit (limit_bal)')\n",
    "plt.xlabel('Credit Limit (NT$)')\n",
    "plt.ylabel('Frequency')\n",
    "plt.show()"
   ]
  },
  {
   "cell_type": "code",
   "execution_count": 75,
   "id": "3f5878e4",
   "metadata": {},
   "outputs": [
    {
     "name": "stdout",
     "output_type": "stream",
     "text": [
      "Skewness: 0.992866960519544\n"
     ]
    }
   ],
   "source": [
    "print(\"Skewness:\", credit['limit_bal'].skew())"
   ]
  },
  {
   "cell_type": "markdown",
   "id": "d51c51b7",
   "metadata": {},
   "source": [
    "Distribution is left-skewed with a statistical skewness almost equal to 1. How to handle? Assess other variables and then decide?"
   ]
  },
  {
   "cell_type": "code",
   "execution_count": 74,
   "id": "f52d980c",
   "metadata": {},
   "outputs": [
    {
     "data": {
      "image/png": "[encoded data removed]",
      "text/plain": [
       "<Figure size 640x480 with 1 Axes>"
      ]
     },
     "metadata": {},
     "output_type": "display_data"
    }
   ],
   "source": [
    "# Education level distribution\n",
    "plt.hist(credit['education'])\n",
    "plt.title('Distribution of Credit Limit (limit_bal)')\n",
    "plt.xlabel('Credit Limit (NT$)')\n",
    "plt.ylabel('Frequency')\n",
    "plt.show()"
   ]
  },
  {
   "cell_type": "markdown",
   "id": "ce79c7e8",
   "metadata": {},
   "source": [
    "Over half of those included in this dataset have a college education (university or graduate) with most having a university (bachelor?) level education."
   ]
  },
  {
   "cell_type": "code",
   "execution_count": null,
   "id": "2d8c8b99",
   "metadata": {},
   "outputs": [
    {
     "data": {
      "image/png": "[encoded data removed]",
      "text/plain": [
       "<Figure size 640x480 with 1 Axes>"
      ]
     },
     "metadata": {},
     "output_type": "display_data"
    },
    {
     "data": {
      "image/png": "[encoded data removed]",
      "text/plain": [
       "<Figure size 640x480 with 1 Axes>"
      ]
     },
     "metadata": {},
     "output_type": "display_data"
    }
   ],
   "source": [
    "# Distribution for age using 10 bins\n",
    "plt.hist(credit['age'], bins = 10, edgecolor = 'black')\n",
    "plt.title('Distribution of Age (10 bins)')\n",
    "plt.xlabel('Age (years)')\n",
    "plt.ylabel('Frequency')\n",
    "plt.show()\n",
    "\n",
    "# Distribution for age using 30 bins\n",
    "plt.hist(credit['age'], bins = 30, edgecolor = 'black')\n",
    "plt.title('Distribution of Age (30 bins)')\n",
    "plt.xlabel('Age (years)')\n",
    "plt.ylabel('Frequency')\n",
    "plt.show()"
   ]
  },
  {
   "cell_type": "code",
   "execution_count": 89,
   "id": "90b42040",
   "metadata": {},
   "outputs": [
    {
     "name": "stdout",
     "output_type": "stream",
     "text": [
      "Skewness: 0.7322458687830562\n"
     ]
    }
   ],
   "source": [
    "print(\"Skewness:\", credit['age'].skew())"
   ]
  },
  {
   "cell_type": "markdown",
   "id": "9a6202b3",
   "metadata": {},
   "source": [
    "Majority are younger (</= 40 years). There is a slight left skew."
   ]
  },
  {
   "cell_type": "code",
   "execution_count": 90,
   "id": "5ffac7e6",
   "metadata": {},
   "outputs": [
    {
     "data": {
      "image/png": "[encoded data removed]",
      "text/plain": [
       "<Figure size 640x480 with 1 Axes>"
      ]
     },
     "metadata": {},
     "output_type": "display_data"
    }
   ],
   "source": [
    "# Distribution for gender\n",
    "plt.hist(credit['sex'])\n",
    "plt.title('Distribution of Gender')\n",
    "plt.xlabel('Gender')\n",
    "plt.ylabel('Frequency')\n",
    "plt.show()"
   ]
  },
  {
   "cell_type": "code",
   "execution_count": null,
   "id": "61360410",
   "metadata": {},
   "outputs": [],
   "source": [
    "plt.suptitle('Distribution for Pay')\n",
    "plt."
   ]
  },
  {
   "cell_type": "markdown",
   "id": "1fa8edcf",
   "metadata": {},
   "source": [
    "Data is cleaned, wrangled, and visualized. Time to start modeling. "
   ]
  },
  {
   "cell_type": "markdown",
   "id": "ffd53997",
   "metadata": {},
   "source": [
    "I will start with statistical significance testing using linear regression with amount of given credit as the target variable (since the target variable is continuous). I will include education, sex, and marriage in the initial model as a \"baseline\" prior to including age and the pay status. The initial model will be non-transformed data."
   ]
  },
  {
   "cell_type": "code",
   "execution_count": 91,
   "id": "f419932b",
   "metadata": {},
   "outputs": [
    {
     "name": "stdout",
     "output_type": "stream",
     "text": [
      "                 Generalized Linear Model Regression Results                  \n",
      "==============================================================================\n",
      "Dep. Variable:              limit_bal   No. Observations:                30000\n",
      "Model:                            GLM   Df Residuals:                    29993\n",
      "Model Family:                Gaussian   Df Model:                            6\n",
      "Link Function:               Identity   Scale:                      1.5236e+10\n",
      "Method:                          IRLS   Log-Likelihood:            -3.9427e+05\n",
      "Date:                Mon, 04 Aug 2025   Deviance:                   4.5699e+14\n",
      "Time:                        02:22:21   Pearson chi2:                 4.57e+14\n",
      "No. Iterations:                     3   Pseudo R-squ. (CS):            0.09975\n",
      "Covariance Type:            nonrobust                                         \n",
      "============================================================================================\n",
      "                               coef    std err          z      P>|z|      [0.025      0.975]\n",
      "--------------------------------------------------------------------------------------------\n",
      "Intercept                 2.408e+05   1630.333    147.730      0.000    2.38e+05    2.44e+05\n",
      "sex[T.Male]              -6728.0360   1458.186     -4.614      0.000   -9586.028   -3870.044\n",
      "education[T.University]  -7.108e+04   1603.236    -44.338      0.000   -7.42e+04   -6.79e+04\n",
      "education[T.High School] -9.475e+04   2161.444    -43.836      0.000    -9.9e+04   -9.05e+04\n",
      "education[T.Others]      -3.725e+04   5835.940     -6.382      0.000   -4.87e+04   -2.58e+04\n",
      "marriage[T.Others]       -7.325e+04   6953.356    -10.535      0.000   -8.69e+04   -5.96e+04\n",
      "marriage[T.Single]        -3.85e+04   1460.263    -26.364      0.000   -4.14e+04   -3.56e+04\n",
      "============================================================================================\n"
     ]
    }
   ],
   "source": [
    "# Create the formula for the model\n",
    "formula = 'limit_bal ~ sex + education + marriage'\n",
    "\n",
    "# Create the model\n",
    "esm_model = glm(formula, data = credit, family = sm.families.Gaussian()).fit()\n",
    "\n",
    "# Print the statistical summary\n",
    "print(esm_model.summary())"
   ]
  },
  {
   "cell_type": "markdown",
   "id": "c7556055",
   "metadata": {},
   "source": [
    "* The \"baseline\" credit limit is NT$240,800 +/- 1630.33 when the client is a married female with a graduate level of education.\n",
    "* Being a male is associated with a credit limit that is NT$6728.04 +/- 1458.19 less compared to females and assuming all other variables are constant. \n",
    "* Having a university level of education is associated with a credit limit NT$71,080 +/- 1603.24 less compared to those with a graduate level of education and assuming all other variables are constant.\n",
    "* Having a high school level of education is associated with a credit limit NT$94,750 +/- 2161.44 less compared to those with a graduate level of education and assuming all other variables are constant. \n",
    "* Having an education level classified as \"other\" is associated with a credit limit NT$37,250 +/- 5835.94 less than those with a graduate level of education and assuming all other variables are constant. \n",
    "* Being single is associated with a credit limit NT$38,500 +/- 1460.26 less than those that are married, assuming all other variables are constant. \n",
    "* Those that have a marriage status categorised as \"Others\" have a credit limit NT$73,250 +/- 6953.36 less than those that are married, assuming all other variables are constant.\n",
    "* All coefficients are statistically significant as the p-values are <.0001 and none of the 95% confidence intervals include 0.\n",
    "* The R2 is only 0.09975, indicating the model only explains ~ 9.98% of the variance of the credit limit (limit_bal). There are other predictors (e.g., the pay columns) that will explain the variance.\n",
    "* In this model, education and marriage status have a much more significant impact than gender.\n"
   ]
  },
  {
   "cell_type": "code",
   "execution_count": 60,
   "id": "33dc871d",
   "metadata": {},
   "outputs": [
    {
     "data": {
      "text/plain": [
       "<bound method GLMResults.plot_partial_residuals of <statsmodels.genmod.generalized_linear_model.GLMResults object at 0x7ba319be8710>>"
      ]
     },
     "execution_count": 60,
     "metadata": {},
     "output_type": "execute_result"
    }
   ],
   "source": [
    "# Check residuals\n",
    "esm_model.plot_partial_residuals"
   ]
  },
  {
   "cell_type": "markdown",
   "id": "fc30ae7b",
   "metadata": {},
   "source": [
    "### Code Not Used:"
   ]
  },
  {
   "cell_type": "code",
   "execution_count": 72,
   "id": "888fdb5f",
   "metadata": {},
   "outputs": [],
   "source": [
    "# Define the categories\n",
    "cat_dict = {\n",
    "    'education': ['Graduate', 'University', 'High School', 'Others'],\n",
    "    'sex': ['Male', 'Female'],\n",
    "    'marriage': ['Married', 'Single', 'Others'],\n",
    "    'pay_0': ['Pay Duly', 'Delay One Month', 'Delay Two Months', 'Delay Three Months', 'Delay Four Months', 'Delay Five Months', 'Delay Six Months', 'Delay Seven Months', 'Delay Eight Months', 'Delay Nine Months'],\n",
    "    'pay_2': ['Pay Duly', 'Delay One Month', 'Delay Two Months', 'Delay Three Months', 'Delay Four Months', 'Delay Five Months', 'Delay Six Months', 'Delay Seven Months', 'Delay Eight Months', 'Delay Nine Months'],\n",
    "    'pay_3': ['Pay Duly', 'Delay One Month', 'Delay Two Months', 'Delay Three Months', 'Delay Four Months', 'Delay Five Months', 'Delay Six Months', 'Delay Seven Months', 'Delay Eight Months', 'Delay Nine Months'],\n",
    "    'pay_4': ['Pay Duly', 'Delay One Month', 'Delay Two Months', 'Delay Three Months', 'Delay Four Months', 'Delay Five Months', 'Delay Six Months', 'Delay Seven Months', 'Delay Eight Months', 'Delay Nine Months'],\n",
    "    'pay_5': ['Pay Duly', 'Delay One Month', 'Delay Two Months', 'Delay Three Months', 'Delay Four Months', 'Delay Five Months', 'Delay Six Months', 'Delay Seven Months', 'Delay Eight Months', 'Delay Nine Months'],\n",
    "    'pay_6': ['Pay Duly', 'Delay One Month', 'Delay Two Months', 'Delay Three Months', 'Delay Four Months', 'Delay Five Months', 'Delay Six Months', 'Delay Seven Months', 'Delay Eight Months', 'Delay Nine Months']\n",
    "}\n",
    "\n",
    "# Convert to categorical using a loop\n",
    "for col in cat_cols:\n",
    "    if col in cat_dict:\n",
    "        credit[col] = pd.Categorical(\n",
    "            credit[col],\n",
    "            categories=cat_dict[col]\n",
    "        )\n",
    "\n",
    "\n",
    "\n"
   ]
  }
 ],
 "metadata": {
  "kernelspec": {
   "display_name": "Python 3",
   "language": "python",
   "name": "python3"
  },
  "language_info": {
   "codemirror_mode": {
    "name": "ipython",
    "version": 3
   },
   "file_extension": ".py",
   "mimetype": "text/x-python",
   "name": "python",
   "nbconvert_exporter": "python",
   "pygments_lexer": "ipython3",
   "version": "3.12.3"
  }
 },
 "nbformat": 4,
 "nbformat_minor": 5
}
