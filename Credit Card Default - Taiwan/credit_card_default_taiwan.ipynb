{
 "cells": [
  {
   "cell_type": "markdown",
   "id": "23f1982b",
   "metadata": {},
   "source": [
    "Per the UCI Machine Learning Repository, the following is the description of each of the variables:\n",
    "* X1: Amount of the given credit (NT dollar): it includes both the individual consumer credit and his/her family (supplementary) credit.\n",
    "* X2: Gender (1 = male; 2 = female).\n",
    "* X3: Education (1 = graduate school; 2 = university; 3 = high school; 4 = others).\n",
    "* X4: Marital status (1 = married; 2 = single; 3 = others).\n",
    "* X5: Age (year).\n",
    "* X6 - X11: History of past payment. We tracked the past monthly payment records (from April to September, 2005) as follows: \n",
    "    - X6 = the repayment status in September, 2005\n",
    "    - X7 = the repayment status in August, 2005; . . .\n",
    "    - X11 = the repayment status in April, 2005. \n",
    "    - The measurement scale for the repayment status is: \n",
    "        - -1 = pay duly\n",
    "        - 1 = payment delay for one month\n",
    "        - 2 = payment delay for two months; . . .\n",
    "        - 8 = payment delay for eight months\n",
    "        - 9 = payment delay for nine months and above.\n",
    "* X12-X17: Amount of bill statement (NT dollar)\n",
    "    - X12 = amount of bill statement in September, 2005\n",
    "    - X13 = amount of bill statement in August, 2005; . . .\n",
    "    - X17 = amount of bill statement in April, 2005. \n",
    "* X18-X23: Amount of previous payment (NT dollar).\n",
    "    - X18 = amount paid in September, 2005\n",
    "    - X19 = amount paid in August, 2005 . . .\n",
    "    - X23 = amount paid in April, 2005.\n",
    "\n",
    "Based on the descriptions, payment history is available for 6 months (April - September). Repayment status is available for 9+ months depending on the debtor.\n",
    "\n",
    "There are some interesting variables (education level, marital status, etc.) that can be explored to determine their effects on payment history."
   ]
  },
  {
   "cell_type": "code",
   "execution_count": 71,
   "id": "b4269936",
   "metadata": {},
   "outputs": [],
   "source": [
    "# Load the necessary libraries\n",
    "\n",
    "import pandas as pd\n",
    "import numpy as np\n",
    "import matplotlib.pyplot as plt\n",
    "import seaborn as sns\n",
    "import statsmodels.api as sm\n",
    "from statsmodels.formula.api import glm\n",
    "\n",
    "# remove if not modeling\n",
    "from sklearn.model_selection import train_test_split\n",
    "from sklearn.linear_model import LogisticRegression\n",
    "from sklearn.metrics import accuracy_score, classification_report"
   ]
  },
  {
   "cell_type": "code",
   "execution_count": 19,
   "id": "6200ccc1",
   "metadata": {},
   "outputs": [],
   "source": [
    "# Load the dataset\n",
    "\n",
    "credit = pd.read_excel('/home/bruce/Desktop/coding-projects/Other Datasets/default of credit card clients.xls', header=1)"
   ]
  },
  {
   "cell_type": "markdown",
   "id": "27d311c6",
   "metadata": {},
   "source": [
    "Dataset is loaded without issues. Will complete an initial inspection of the dataset to determine datatypes, missing, etc."
   ]
  },
  {
   "cell_type": "code",
   "execution_count": 20,
   "id": "e9e2ff1c",
   "metadata": {},
   "outputs": [
    {
     "data": {
      "text/html": [
       "<div>\n",
       "<style scoped>\n",
       "    .dataframe tbody tr th:only-of-type {\n",
       "        vertical-align: middle;\n",
       "    }\n",
       "\n",
       "    .dataframe tbody tr th {\n",
       "        vertical-align: top;\n",
       "    }\n",
       "\n",
       "    .dataframe thead th {\n",
       "        text-align: right;\n",
       "    }\n",
       "</style>\n",
       "<table border=\"1\" class=\"dataframe\">\n",
       "  <thead>\n",
       "    <tr style=\"text-align: right;\">\n",
       "      <th></th>\n",
       "      <th>ID</th>\n",
       "      <th>LIMIT_BAL</th>\n",
       "      <th>SEX</th>\n",
       "      <th>EDUCATION</th>\n",
       "      <th>MARRIAGE</th>\n",
       "      <th>AGE</th>\n",
       "      <th>PAY_0</th>\n",
       "      <th>PAY_2</th>\n",
       "      <th>PAY_3</th>\n",
       "      <th>PAY_4</th>\n",
       "      <th>...</th>\n",
       "      <th>BILL_AMT4</th>\n",
       "      <th>BILL_AMT5</th>\n",
       "      <th>BILL_AMT6</th>\n",
       "      <th>PAY_AMT1</th>\n",
       "      <th>PAY_AMT2</th>\n",
       "      <th>PAY_AMT3</th>\n",
       "      <th>PAY_AMT4</th>\n",
       "      <th>PAY_AMT5</th>\n",
       "      <th>PAY_AMT6</th>\n",
       "      <th>default payment next month</th>\n",
       "    </tr>\n",
       "  </thead>\n",
       "  <tbody>\n",
       "    <tr>\n",
       "      <th>0</th>\n",
       "      <td>1</td>\n",
       "      <td>20000</td>\n",
       "      <td>2</td>\n",
       "      <td>2</td>\n",
       "      <td>1</td>\n",
       "      <td>24</td>\n",
       "      <td>2</td>\n",
       "      <td>2</td>\n",
       "      <td>-1</td>\n",
       "      <td>-1</td>\n",
       "      <td>...</td>\n",
       "      <td>0</td>\n",
       "      <td>0</td>\n",
       "      <td>0</td>\n",
       "      <td>0</td>\n",
       "      <td>689</td>\n",
       "      <td>0</td>\n",
       "      <td>0</td>\n",
       "      <td>0</td>\n",
       "      <td>0</td>\n",
       "      <td>1</td>\n",
       "    </tr>\n",
       "    <tr>\n",
       "      <th>1</th>\n",
       "      <td>2</td>\n",
       "      <td>120000</td>\n",
       "      <td>2</td>\n",
       "      <td>2</td>\n",
       "      <td>2</td>\n",
       "      <td>26</td>\n",
       "      <td>-1</td>\n",
       "      <td>2</td>\n",
       "      <td>0</td>\n",
       "      <td>0</td>\n",
       "      <td>...</td>\n",
       "      <td>3272</td>\n",
       "      <td>3455</td>\n",
       "      <td>3261</td>\n",
       "      <td>0</td>\n",
       "      <td>1000</td>\n",
       "      <td>1000</td>\n",
       "      <td>1000</td>\n",
       "      <td>0</td>\n",
       "      <td>2000</td>\n",
       "      <td>1</td>\n",
       "    </tr>\n",
       "    <tr>\n",
       "      <th>2</th>\n",
       "      <td>3</td>\n",
       "      <td>90000</td>\n",
       "      <td>2</td>\n",
       "      <td>2</td>\n",
       "      <td>2</td>\n",
       "      <td>34</td>\n",
       "      <td>0</td>\n",
       "      <td>0</td>\n",
       "      <td>0</td>\n",
       "      <td>0</td>\n",
       "      <td>...</td>\n",
       "      <td>14331</td>\n",
       "      <td>14948</td>\n",
       "      <td>15549</td>\n",
       "      <td>1518</td>\n",
       "      <td>1500</td>\n",
       "      <td>1000</td>\n",
       "      <td>1000</td>\n",
       "      <td>1000</td>\n",
       "      <td>5000</td>\n",
       "      <td>0</td>\n",
       "    </tr>\n",
       "    <tr>\n",
       "      <th>3</th>\n",
       "      <td>4</td>\n",
       "      <td>50000</td>\n",
       "      <td>2</td>\n",
       "      <td>2</td>\n",
       "      <td>1</td>\n",
       "      <td>37</td>\n",
       "      <td>0</td>\n",
       "      <td>0</td>\n",
       "      <td>0</td>\n",
       "      <td>0</td>\n",
       "      <td>...</td>\n",
       "      <td>28314</td>\n",
       "      <td>28959</td>\n",
       "      <td>29547</td>\n",
       "      <td>2000</td>\n",
       "      <td>2019</td>\n",
       "      <td>1200</td>\n",
       "      <td>1100</td>\n",
       "      <td>1069</td>\n",
       "      <td>1000</td>\n",
       "      <td>0</td>\n",
       "    </tr>\n",
       "    <tr>\n",
       "      <th>4</th>\n",
       "      <td>5</td>\n",
       "      <td>50000</td>\n",
       "      <td>1</td>\n",
       "      <td>2</td>\n",
       "      <td>1</td>\n",
       "      <td>57</td>\n",
       "      <td>-1</td>\n",
       "      <td>0</td>\n",
       "      <td>-1</td>\n",
       "      <td>0</td>\n",
       "      <td>...</td>\n",
       "      <td>20940</td>\n",
       "      <td>19146</td>\n",
       "      <td>19131</td>\n",
       "      <td>2000</td>\n",
       "      <td>36681</td>\n",
       "      <td>10000</td>\n",
       "      <td>9000</td>\n",
       "      <td>689</td>\n",
       "      <td>679</td>\n",
       "      <td>0</td>\n",
       "    </tr>\n",
       "  </tbody>\n",
       "</table>\n",
       "<p>5 rows × 25 columns</p>\n",
       "</div>"
      ],
      "text/plain": [
       "   ID  LIMIT_BAL  SEX  EDUCATION  MARRIAGE  AGE  PAY_0  PAY_2  PAY_3  PAY_4  \\\n",
       "0   1      20000    2          2         1   24      2      2     -1     -1   \n",
       "1   2     120000    2          2         2   26     -1      2      0      0   \n",
       "2   3      90000    2          2         2   34      0      0      0      0   \n",
       "3   4      50000    2          2         1   37      0      0      0      0   \n",
       "4   5      50000    1          2         1   57     -1      0     -1      0   \n",
       "\n",
       "   ...  BILL_AMT4  BILL_AMT5  BILL_AMT6  PAY_AMT1  PAY_AMT2  PAY_AMT3  \\\n",
       "0  ...          0          0          0         0       689         0   \n",
       "1  ...       3272       3455       3261         0      1000      1000   \n",
       "2  ...      14331      14948      15549      1518      1500      1000   \n",
       "3  ...      28314      28959      29547      2000      2019      1200   \n",
       "4  ...      20940      19146      19131      2000     36681     10000   \n",
       "\n",
       "   PAY_AMT4  PAY_AMT5  PAY_AMT6  default payment next month  \n",
       "0         0         0         0                           1  \n",
       "1      1000         0      2000                           1  \n",
       "2      1000      1000      5000                           0  \n",
       "3      1100      1069      1000                           0  \n",
       "4      9000       689       679                           0  \n",
       "\n",
       "[5 rows x 25 columns]"
      ]
     },
     "execution_count": 20,
     "metadata": {},
     "output_type": "execute_result"
    }
   ],
   "source": [
    "# Check the head of the dataset\n",
    "credit.head()"
   ]
  },
  {
   "cell_type": "code",
   "execution_count": 21,
   "id": "0bdb1a66",
   "metadata": {},
   "outputs": [
    {
     "data": {
      "text/plain": [
       "ID                            0\n",
       "LIMIT_BAL                     0\n",
       "SEX                           0\n",
       "EDUCATION                     0\n",
       "MARRIAGE                      0\n",
       "AGE                           0\n",
       "PAY_0                         0\n",
       "PAY_2                         0\n",
       "PAY_3                         0\n",
       "PAY_4                         0\n",
       "PAY_5                         0\n",
       "PAY_6                         0\n",
       "BILL_AMT1                     0\n",
       "BILL_AMT2                     0\n",
       "BILL_AMT3                     0\n",
       "BILL_AMT4                     0\n",
       "BILL_AMT5                     0\n",
       "BILL_AMT6                     0\n",
       "PAY_AMT1                      0\n",
       "PAY_AMT2                      0\n",
       "PAY_AMT3                      0\n",
       "PAY_AMT4                      0\n",
       "PAY_AMT5                      0\n",
       "PAY_AMT6                      0\n",
       "default payment next month    0\n",
       "dtype: int64"
      ]
     },
     "execution_count": 21,
     "metadata": {},
     "output_type": "execute_result"
    }
   ],
   "source": [
    "# Verify there is no missing data\n",
    "credit.isna().sum()"
   ]
  },
  {
   "cell_type": "code",
   "execution_count": 22,
   "id": "fcc5183e",
   "metadata": {},
   "outputs": [
    {
     "data": {
      "text/plain": [
       "ID                            int64\n",
       "LIMIT_BAL                     int64\n",
       "SEX                           int64\n",
       "EDUCATION                     int64\n",
       "MARRIAGE                      int64\n",
       "AGE                           int64\n",
       "PAY_0                         int64\n",
       "PAY_2                         int64\n",
       "PAY_3                         int64\n",
       "PAY_4                         int64\n",
       "PAY_5                         int64\n",
       "PAY_6                         int64\n",
       "BILL_AMT1                     int64\n",
       "BILL_AMT2                     int64\n",
       "BILL_AMT3                     int64\n",
       "BILL_AMT4                     int64\n",
       "BILL_AMT5                     int64\n",
       "BILL_AMT6                     int64\n",
       "PAY_AMT1                      int64\n",
       "PAY_AMT2                      int64\n",
       "PAY_AMT3                      int64\n",
       "PAY_AMT4                      int64\n",
       "PAY_AMT5                      int64\n",
       "PAY_AMT6                      int64\n",
       "default payment next month    int64\n",
       "dtype: object"
      ]
     },
     "execution_count": 22,
     "metadata": {},
     "output_type": "execute_result"
    }
   ],
   "source": [
    "# Verify datatypes\n",
    "credit.dtypes"
   ]
  },
  {
   "cell_type": "markdown",
   "id": "ecdb6b44",
   "metadata": {},
   "source": [
    "The following variables need to be changed:\n",
    "* X2, X3, X4 = categorical\n",
    "* X6-X11 = categorical"
   ]
  },
  {
   "cell_type": "markdown",
   "id": "023cfb5d",
   "metadata": {},
   "source": [
    "Initial inspection completed. Time to preprocess the data."
   ]
  },
  {
   "cell_type": "code",
   "execution_count": 23,
   "id": "2b05dbb4",
   "metadata": {},
   "outputs": [
    {
     "data": {
      "text/plain": [
       "Index(['id', 'limit_bal', 'sex', 'education', 'marriage', 'age', 'pay_0',\n",
       "       'pay_2', 'pay_3', 'pay_4', 'pay_5', 'pay_6', 'bill_amt1', 'bill_amt2',\n",
       "       'bill_amt3', 'bill_amt4', 'bill_amt5', 'bill_amt6', 'pay_amt1',\n",
       "       'pay_amt2', 'pay_amt3', 'pay_amt4', 'pay_amt5', 'pay_amt6',\n",
       "       'default payment next month'],\n",
       "      dtype='object')"
      ]
     },
     "execution_count": 23,
     "metadata": {},
     "output_type": "execute_result"
    }
   ],
   "source": [
    "# Convert column names to lowercase to avoid errors\n",
    "credit.columns = credit.columns.str.lower()\n",
    "credit.columns"
   ]
  },
  {
   "cell_type": "markdown",
   "id": "7de35043",
   "metadata": {},
   "source": [
    "I will verify that the entered values match the codes provided in the description (e.g., there are no erroneously entered values)"
   ]
  },
  {
   "cell_type": "code",
   "execution_count": 30,
   "id": "4ae838ea",
   "metadata": {},
   "outputs": [
    {
     "name": "stdout",
     "output_type": "stream",
     "text": [
      "Unique values for education: [2 1 3 5 4 6 0]\n",
      "Unique values for marriage: [1 2 3 0]\n",
      "Unique values for pay_0: [ 2 -1  0 -2  1  3  4  8  7  5  6]\n",
      "Unique values for pay_2: [ 2  0 -1 -2  3  5  7  4  1  6  8]\n",
      "Unique values for pay_3: [-1  0  2 -2  3  4  6  7  1  5  8]\n",
      "Unique values for pay_4: [-1  0 -2  2  3  4  5  7  6  1  8]\n",
      "Unique values for pay_5: [-2  0 -1  2  3  5  4  7  8  6]\n",
      "Unique values for pay_6: [-2  2  0 -1  3  6  4  7  8  5]\n"
     ]
    }
   ],
   "source": [
    "# Verify unique values before conversion\n",
    "print(\"Unique values for education:\", credit['education'].unique())\n",
    "print(\"Unique values for marriage:\", credit['marriage'].unique())\n",
    "print(\"Unique values for pay_0:\", credit['pay_0'].unique())\n",
    "print(\"Unique values for pay_2:\", credit['pay_2'].unique())\n",
    "print(\"Unique values for pay_3:\", credit['pay_3'].unique())\n",
    "print(\"Unique values for pay_4:\", credit['pay_4'].unique())\n",
    "print(\"Unique values for pay_5:\", credit['pay_5'].unique())\n",
    "print(\"Unique values for pay_6:\", credit['pay_6'].unique())"
   ]
  },
  {
   "cell_type": "markdown",
   "id": "d062412b",
   "metadata": {},
   "source": [
    "The following are issues based on the results of the unique values:\n",
    "* There are erroneous values for education. The values should only be 1, 2, 3, or 4 and there are values of 0, 5, and 6.\n",
    "* There are erroneous values for marriage. The values should only be 1, 2, or 3. There are values of 0\n",
    "* Erroneous values for all pay columns. There are values of -2 and 0 entered. All other values are correct."
   ]
  },
  {
   "cell_type": "markdown",
   "id": "9c5fa909",
   "metadata": {},
   "source": [
    "The following paper uses the dataset for ML modeling and discusses the variables in some detail; however, there is no mention of the erroneous values:\n",
    "* Islam, S.R., Eberle, W., & Ghafoor, S.K. (2018). Credit Default Mining Using Combined Machine Learning and Heuristic Approach. ArXiv, abs/1807.01176.\n",
    "* There is another paper cited on the UCI ML Repository, but it does not discuss the variables in detail"
   ]
  },
  {
   "cell_type": "markdown",
   "id": "fb096bdb",
   "metadata": {},
   "source": [
    "Regarding the erroneous values:\n",
    "* Pay columns: Can assume -2 is either 'Pay Duly' (so -1) or can assume it is 'Delay 2 Months' (so 2)\n",
    "* Education: Can assume all erroneous values are 'Others' (e.g., '4'), but the values entered as '0' may indicate 'No education'?\n",
    "* Marriage: Can assume '0' is a mistaken binary entry (e.g., 'No') and change to Single ('2')"
   ]
  },
  {
   "cell_type": "markdown",
   "id": "d9b92fe6",
   "metadata": {},
   "source": [
    "I will count the unique values to determine the potential impacts"
   ]
  },
  {
   "cell_type": "code",
   "execution_count": 40,
   "id": "44b0dda7",
   "metadata": {},
   "outputs": [
    {
     "name": "stdout",
     "output_type": "stream",
     "text": [
      "Counts for: education\n",
      "2    14030\n",
      "1    10585\n",
      "3     4917\n",
      "5      280\n",
      "4      123\n",
      "6       51\n",
      "0       14\n",
      "Name: count, dtype: int64\n",
      "\n",
      "\n",
      "Counts for: marriage\n",
      "2    15964\n",
      "1    13659\n",
      "3      323\n",
      "0       54\n",
      "Name: count, dtype: int64\n",
      "\n",
      "\n",
      "Counts for: pay_0\n",
      " 0    14737\n",
      "-1     5686\n",
      " 1     3688\n",
      "-2     2759\n",
      " 2     2667\n",
      " 3      322\n",
      " 4       76\n",
      " 5       26\n",
      " 8       19\n",
      " 6       11\n",
      " 7        9\n",
      "Name: count, dtype: int64\n",
      "\n",
      "\n",
      "Counts for: pay_2\n",
      " 0    15730\n",
      "-1     6050\n",
      " 2     3927\n",
      "-2     3782\n",
      " 3      326\n",
      " 4       99\n",
      " 1       28\n",
      " 5       25\n",
      " 7       20\n",
      " 6       12\n",
      " 8        1\n",
      "Name: count, dtype: int64\n",
      "\n",
      "\n",
      "Counts for: pay_3\n",
      " 0    15764\n",
      "-1     5938\n",
      "-2     4085\n",
      " 2     3819\n",
      " 3      240\n",
      " 4       76\n",
      " 7       27\n",
      " 6       23\n",
      " 5       21\n",
      " 1        4\n",
      " 8        3\n",
      "Name: count, dtype: int64\n",
      "\n",
      "\n",
      "Counts for: pay_4\n",
      " 0    16455\n",
      "-1     5687\n",
      "-2     4348\n",
      " 2     3159\n",
      " 3      180\n",
      " 4       69\n",
      " 7       58\n",
      " 5       35\n",
      " 6        5\n",
      " 1        2\n",
      " 8        2\n",
      "Name: count, dtype: int64\n",
      "\n",
      "\n",
      "Counts for: pay_5\n",
      " 0    16947\n",
      "-1     5539\n",
      "-2     4546\n",
      " 2     2626\n",
      " 3      178\n",
      " 4       84\n",
      " 7       58\n",
      " 5       17\n",
      " 6        4\n",
      " 8        1\n",
      "Name: count, dtype: int64\n",
      "\n",
      "\n",
      "Counts for: pay_6\n",
      " 0    16286\n",
      "-1     5740\n",
      "-2     4895\n",
      " 2     2766\n",
      " 3      184\n",
      " 4       49\n",
      " 7       46\n",
      " 6       19\n",
      " 5       13\n",
      " 8        2\n",
      "Name: count, dtype: int64\n",
      "\n",
      "\n"
     ]
    }
   ],
   "source": [
    "# Summing the counts for each unique value for education\n",
    "print(\"Counts for:\", credit['education'].value_counts())\n",
    "print('\\n')\n",
    "\n",
    "# Summing the counts for each unique value for marriage\n",
    "print(\"Counts for:\", credit['marriage'].value_counts())\n",
    "print('\\n')\n",
    "\n",
    "# Summing the counts for each unique value for the pay columns\n",
    "print(\"Counts for:\", credit['pay_0'].value_counts())\n",
    "print('\\n')\n",
    "print(\"Counts for:\", credit['pay_2'].value_counts())\n",
    "print('\\n')\n",
    "print(\"Counts for:\", credit['pay_3'].value_counts())\n",
    "print('\\n')\n",
    "print(\"Counts for:\", credit['pay_4'].value_counts())\n",
    "print('\\n')\n",
    "print(\"Counts for:\", credit['pay_5'].value_counts())\n",
    "print('\\n')\n",
    "print(\"Counts for:\", credit['pay_6'].value_counts())\n",
    "print('\\n')"
   ]
  },
  {
   "cell_type": "code",
   "execution_count": null,
   "id": "db857def",
   "metadata": {},
   "outputs": [],
   "source": []
  },
  {
   "cell_type": "markdown",
   "id": "98e60900",
   "metadata": {},
   "source": [
    "Based on the previous counts:\n",
    "* Change all 0 values in the pay columns to -1 ('Pay Duly')\n",
    "* Change all -2 values in the pay columns to 2 ('Delay 2 Months')\n",
    "* There are only 54 values entered as 0 for marriage - will assume they are \"No\" and change to 2 ('Single')\n",
    "* Will assume all erroneous values for education are 4 ('Others')"
   ]
  },
  {
   "cell_type": "code",
   "execution_count": 42,
   "id": "be226ac1",
   "metadata": {},
   "outputs": [],
   "source": [
    "# List pay columns\n",
    "pay_cols = ['pay_0', 'pay_2', 'pay_3', 'pay_4', 'pay_5', 'pay_6']\n",
    "\n",
    "# Change all 0 values to -1 in the pay columns\n",
    "credit[pay_cols] = credit[pay_cols].replace(0, -1)\n",
    "\n",
    "# Change all -2 values to 2 in the pay columns\n",
    "credit[pay_cols] = credit[pay_cols].replace(-2, 2)\n",
    "\n",
    "# Change all 0 values to 2 in the marriage column\n",
    "credit['marriage'] = credit['marriage'].replace(0, 2)\n",
    "\n",
    "# Change all 0, 5, 6 values to 4 in education column\n",
    "credit['education'] = credit['education'].replace(0, 4)\n",
    "credit['education'] = credit['education'].replace(5, 4)\n",
    "credit['education'] = credit['education'].replace(6, 4)"
   ]
  },
  {
   "cell_type": "markdown",
   "id": "51af110b",
   "metadata": {},
   "source": [
    "Verify counts following changes:"
   ]
  },
  {
   "cell_type": "code",
   "execution_count": 43,
   "id": "2317c348",
   "metadata": {},
   "outputs": [
    {
     "name": "stdout",
     "output_type": "stream",
     "text": [
      "Counts for: education\n",
      "2    14030\n",
      "1    10585\n",
      "3     4917\n",
      "4      468\n",
      "Name: count, dtype: int64\n",
      "\n",
      "\n",
      "Counts for: marriage\n",
      "2    16018\n",
      "1    13659\n",
      "3      323\n",
      "Name: count, dtype: int64\n",
      "\n",
      "\n",
      "Counts for: pay_0\n",
      "-1    20423\n",
      " 2     5426\n",
      " 1     3688\n",
      " 3      322\n",
      " 4       76\n",
      " 5       26\n",
      " 8       19\n",
      " 6       11\n",
      " 7        9\n",
      "Name: count, dtype: int64\n",
      "\n",
      "\n",
      "Counts for: pay_2\n",
      "-1    21780\n",
      " 2     7709\n",
      " 3      326\n",
      " 4       99\n",
      " 1       28\n",
      " 5       25\n",
      " 7       20\n",
      " 6       12\n",
      " 8        1\n",
      "Name: count, dtype: int64\n",
      "\n",
      "\n",
      "Counts for: pay_3\n",
      "-1    21702\n",
      " 2     7904\n",
      " 3      240\n",
      " 4       76\n",
      " 7       27\n",
      " 6       23\n",
      " 5       21\n",
      " 1        4\n",
      " 8        3\n",
      "Name: count, dtype: int64\n",
      "\n",
      "\n",
      "Counts for: pay_4\n",
      "-1    22142\n",
      " 2     7507\n",
      " 3      180\n",
      " 4       69\n",
      " 7       58\n",
      " 5       35\n",
      " 6        5\n",
      " 1        2\n",
      " 8        2\n",
      "Name: count, dtype: int64\n",
      "\n",
      "\n",
      "Counts for: pay_5\n",
      "-1    22486\n",
      " 2     7172\n",
      " 3      178\n",
      " 4       84\n",
      " 7       58\n",
      " 5       17\n",
      " 6        4\n",
      " 8        1\n",
      "Name: count, dtype: int64\n",
      "\n",
      "\n",
      "Counts for: pay_6\n",
      "-1    22026\n",
      " 2     7661\n",
      " 3      184\n",
      " 4       49\n",
      " 7       46\n",
      " 6       19\n",
      " 5       13\n",
      " 8        2\n",
      "Name: count, dtype: int64\n",
      "\n",
      "\n"
     ]
    }
   ],
   "source": [
    "# Summing the counts for each unique value for education\n",
    "print(\"Counts for:\", credit['education'].value_counts())\n",
    "print('\\n')\n",
    "\n",
    "# Summing the counts for each unique value for marriage\n",
    "print(\"Counts for:\", credit['marriage'].value_counts())\n",
    "print('\\n')\n",
    "\n",
    "# Summing the counts for each unique value for the pay columns\n",
    "print(\"Counts for:\", credit['pay_0'].value_counts())\n",
    "print('\\n')\n",
    "print(\"Counts for:\", credit['pay_2'].value_counts())\n",
    "print('\\n')\n",
    "print(\"Counts for:\", credit['pay_3'].value_counts())\n",
    "print('\\n')\n",
    "print(\"Counts for:\", credit['pay_4'].value_counts())\n",
    "print('\\n')\n",
    "print(\"Counts for:\", credit['pay_5'].value_counts())\n",
    "print('\\n')\n",
    "print(\"Counts for:\", credit['pay_6'].value_counts())\n",
    "print('\\n')"
   ]
  },
  {
   "cell_type": "markdown",
   "id": "ef19319e",
   "metadata": {},
   "source": [
    "Erroneous values are handles, so time to convert sex, education, marriage, pay_0, pay_2, pay_3, pay_4, pay_5, pay_6 to categorical with correct labels and verify change:"
   ]
  },
  {
   "cell_type": "code",
   "execution_count": 44,
   "id": "5fdc8267",
   "metadata": {},
   "outputs": [
    {
     "data": {
      "text/plain": [
       "id                               int64\n",
       "limit_bal                        int64\n",
       "sex                           category\n",
       "education                     category\n",
       "marriage                      category\n",
       "age                              int64\n",
       "pay_0                         category\n",
       "pay_2                         category\n",
       "pay_3                         category\n",
       "pay_4                         category\n",
       "pay_5                         category\n",
       "pay_6                         category\n",
       "bill_amt1                        int64\n",
       "bill_amt2                        int64\n",
       "bill_amt3                        int64\n",
       "bill_amt4                        int64\n",
       "bill_amt5                        int64\n",
       "bill_amt6                        int64\n",
       "pay_amt1                         int64\n",
       "pay_amt2                         int64\n",
       "pay_amt3                         int64\n",
       "pay_amt4                         int64\n",
       "pay_amt5                         int64\n",
       "pay_amt6                         int64\n",
       "default payment next month       int64\n",
       "dtype: object"
      ]
     },
     "execution_count": 44,
     "metadata": {},
     "output_type": "execute_result"
    }
   ],
   "source": [
    "# Define mapping for categorical variables\n",
    "education_map = {1: 'Graduate', 2: 'University', 3: 'High School', 4: 'Others'}\n",
    "gender_map = {1: 'Male', 2: 'Female'}\n",
    "marriage_map = {1: 'Married', 2: 'Single', 3: 'Others'}\n",
    "pay_map = {\n",
    "    -1: 'Pay Duly',\n",
    "    1: 'Delay 1 Month',\n",
    "    2: 'Delay 2 Months',\n",
    "    3: 'Delay 3 Months',\n",
    "    4: 'Delay 4 Months',\n",
    "    5: 'Delay 5 Months',\n",
    "    6: 'Delay 6 Months',\n",
    "    7: 'Delay 7 Months',\n",
    "    8: 'Delay 8 Months',\n",
    "    9: 'Delay 9+ Months'\n",
    "}\n",
    "\n",
    "# Define category lists\n",
    "education_cats = ['Graduate', 'University', 'High School', 'Others']\n",
    "gender_cats = ['Male', 'Female']\n",
    "marriage_cats = ['Married', 'Single', 'Others']\n",
    "pay_cats = [\n",
    "    'Pay Duly',\n",
    "    'Delay 1 Month',\n",
    "    'Delay 2 Months',\n",
    "    'Delay 3 Months',\n",
    "    'Delay 4 Months',\n",
    "    'Delay 5 Months',\n",
    "    'Delay 6 Months',\n",
    "    'Delay 7 Months',\n",
    "    'Delay 8 Months',\n",
    "    'Delay 9+ Months'\n",
    "]\n",
    "\n",
    "# Apply mapping and categorical conversion in one step\n",
    "credit['sex'] = credit['sex'].map(gender_map).astype('category')\n",
    "\n",
    "credit['education'] = pd.Categorical(\n",
    "    credit['education'].map(education_map),\n",
    "    categories=education_cats,\n",
    "    ordered=True\n",
    ")\n",
    "\n",
    "credit['marriage'] = credit['marriage'].map(marriage_map).astype('category')\n",
    "\n",
    "# For pay columns: map AND convert with explicit categories/order\n",
    "for pay_col in ['pay_0', 'pay_2', 'pay_3', 'pay_4', 'pay_5', 'pay_6']:\n",
    "    credit[pay_col] = pd.Categorical(\n",
    "        credit[pay_col].map(pay_map),\n",
    "        categories=pay_cats,\n",
    "        ordered=True\n",
    "    )\n",
    "\n",
    "# Verify change to categorical\n",
    "credit.dtypes"
   ]
  },
  {
   "cell_type": "code",
   "execution_count": 45,
   "id": "60ba9c83",
   "metadata": {},
   "outputs": [
    {
     "name": "stdout",
     "output_type": "stream",
     "text": [
      "Education categories: ['Graduate', 'University', 'High School', 'Others']\n",
      "Marriage categories: ['Married', 'Others', 'Single']\n",
      "Gender categories: ['Female', 'Male']\n",
      "Pay_0 categories: ['Pay Duly', 'Delay 1 Month', 'Delay 2 Months', 'Delay 3 Months', 'Delay 4 Months', 'Delay 5 Months', 'Delay 6 Months', 'Delay 7 Months', 'Delay 8 Months', 'Delay 9+ Months']\n"
     ]
    }
   ],
   "source": [
    "# Verify categories\n",
    "print(\"Education categories:\", credit['education'].cat.categories.tolist())\n",
    "print(\"Marriage categories:\", credit['marriage'].cat.categories.tolist())\n",
    "print(\"Gender categories:\", credit['sex'].cat.categories.tolist())\n",
    "print(\"Pay_0 categories:\", credit['pay_0'].cat.categories.tolist())"
   ]
  },
  {
   "cell_type": "code",
   "execution_count": 46,
   "id": "b3c806ef",
   "metadata": {},
   "outputs": [
    {
     "data": {
      "text/plain": [
       "id                            0\n",
       "limit_bal                     0\n",
       "sex                           0\n",
       "education                     0\n",
       "marriage                      0\n",
       "age                           0\n",
       "pay_0                         0\n",
       "pay_2                         0\n",
       "pay_3                         0\n",
       "pay_4                         0\n",
       "pay_5                         0\n",
       "pay_6                         0\n",
       "bill_amt1                     0\n",
       "bill_amt2                     0\n",
       "bill_amt3                     0\n",
       "bill_amt4                     0\n",
       "bill_amt5                     0\n",
       "bill_amt6                     0\n",
       "pay_amt1                      0\n",
       "pay_amt2                      0\n",
       "pay_amt3                      0\n",
       "pay_amt4                      0\n",
       "pay_amt5                      0\n",
       "pay_amt6                      0\n",
       "default payment next month    0\n",
       "dtype: int64"
      ]
     },
     "execution_count": 46,
     "metadata": {},
     "output_type": "execute_result"
    }
   ],
   "source": [
    "# Verify no data was \"lost\" during conversion\n",
    "credit.isna().sum()"
   ]
  },
  {
   "cell_type": "markdown",
   "id": "a7be7798",
   "metadata": {},
   "source": [
    "Let's see how the data is distributed for each variable."
   ]
  },
  {
   "cell_type": "code",
   "execution_count": 72,
   "id": "a622d3d2",
   "metadata": {},
   "outputs": [
    {
     "data": {
      "image/png": "[encoded data removed]",
      "text/plain": [
       "<Figure size 640x480 with 1 Axes>"
      ]
     },
     "metadata": {},
     "output_type": "display_data"
    }
   ],
   "source": [
    "# limit_bal distribution\n",
    "sns.histplot(credit['limit_bal'], bins = 30, kde = True, color = \"blue\", edgecolor = \"black\")\n",
    "plt.title('Distribution of Credit Limit (limit_bal)')\n",
    "plt.xlabel('Credit Limit (NT$)')\n",
    "plt.ylabel('Frequency')\n",
    "plt.show()"
   ]
  },
  {
   "cell_type": "code",
   "execution_count": 75,
   "id": "3f5878e4",
   "metadata": {},
   "outputs": [
    {
     "name": "stdout",
     "output_type": "stream",
     "text": [
      "Skewness: 0.992866960519544\n"
     ]
    }
   ],
   "source": [
    "print(\"Skewness:\", credit['limit_bal'].skew())"
   ]
  },
  {
   "cell_type": "markdown",
   "id": "d51c51b7",
   "metadata": {},
   "source": [
    "Distribution is left-skewed with a statistical skewness almost equal to 1. Square root transformation is the least aggressive. Let's see what a square root transformation will do to the skewness:"
   ]
  },
  {
   "cell_type": "code",
   "execution_count": 112,
   "id": "8c7a7ede",
   "metadata": {},
   "outputs": [
    {
     "name": "stdout",
     "output_type": "stream",
     "text": [
      "limit_bal Square Root Skewness: -1.2708999763046513\n"
     ]
    }
   ],
   "source": [
    "# Original limit_bal data\n",
    "original = credit['limit_bal']\n",
    "\n",
    "# Square root transformation\n",
    "credit['limit_bal_sqrt'] = np.sqrt(original.max() + 1 - original)\n",
    "\n",
    "# Print the statistical skewness for comparison\n",
    "skew_sqrt = credit['limit_bal_sqrt'].skew()\n",
    "print(\"limit_bal Square Root Skewness:\", skew_sqrt)"
   ]
  },
  {
   "cell_type": "markdown",
   "id": "b17d71ff",
   "metadata": {},
   "source": [
    "That puts the skewness at the other end of the spectrum. Visualize for confirmation based on statistical skewness:"
   ]
  },
  {
   "cell_type": "code",
   "execution_count": 113,
   "id": "64c43117",
   "metadata": {},
   "outputs": [
    {
     "data": {
      "image/png": "[encoded data removed]",
      "text/plain": [
       "<Figure size 640x480 with 1 Axes>"
      ]
     },
     "metadata": {},
     "output_type": "display_data"
    }
   ],
   "source": [
    "# limit_bal_sqrt distribution\n",
    "sns.histplot(credit['limit_bal_sqrt'], bins = 30, kde = True, color = \"blue\", edgecolor = \"black\")\n",
    "plt.title('Distribution of Credit Limit (sqrt Transformation)')\n",
    "plt.xlabel('Credit Limit (NT$)')\n",
    "plt.ylabel('Frequency')\n",
    "plt.show()"
   ]
  },
  {
   "cell_type": "markdown",
   "id": "05dee892",
   "metadata": {},
   "source": [
    "Maybe see what a log transformation does?:"
   ]
  },
  {
   "cell_type": "code",
   "execution_count": 116,
   "id": "4a521498",
   "metadata": {},
   "outputs": [
    {
     "name": "stdout",
     "output_type": "stream",
     "text": [
      "limit_bal Log Skewness: -11.555222789368255\n"
     ]
    }
   ],
   "source": [
    "# limit_bal log transformation\n",
    "credit['limit_bal_log'] = np.log1p(original.max() + 1 - original) # log(max - x + 1) to preserve order and avoid zeros\n",
    "\n",
    "# Print the statistical skewness for comparison\n",
    "skew_log = credit['limit_bal_log'].skew()\n",
    "print(\"limit_bal Log Skewness:\", skew_log)"
   ]
  },
  {
   "cell_type": "markdown",
   "id": "893263c4",
   "metadata": {},
   "source": [
    "That creates a very significant right skew. It is best to keep the original data with the left skew and note the skewed distribution when reporting."
   ]
  },
  {
   "cell_type": "markdown",
   "id": "b941ed1b",
   "metadata": {},
   "source": [
    "Let's continue determining the distribution of the remaining variables:"
   ]
  },
  {
   "cell_type": "code",
   "execution_count": 114,
   "id": "f52d980c",
   "metadata": {},
   "outputs": [
    {
     "data": {
      "image/png": "[encoded data removed]",
      "text/plain": [
       "<Figure size 640x480 with 1 Axes>"
      ]
     },
     "metadata": {},
     "output_type": "display_data"
    }
   ],
   "source": [
    "# Education level distribution\n",
    "plt.hist(credit['education'])\n",
    "plt.title('Distribution of Level of Education (education)')\n",
    "plt.xlabel('Education Level')\n",
    "plt.ylabel('Frequency')\n",
    "plt.show()"
   ]
  },
  {
   "cell_type": "markdown",
   "id": "ce79c7e8",
   "metadata": {},
   "source": [
    "Over half of those included in this dataset have a college education (university or graduate) with most having a university (bachelor?) level education."
   ]
  },
  {
   "cell_type": "code",
   "execution_count": null,
   "id": "2d8c8b99",
   "metadata": {},
   "outputs": [
    {
     "data": {
      "image/png": "[encoded data removed]",
      "text/plain": [
       "<Figure size 640x480 with 1 Axes>"
      ]
     },
     "metadata": {},
     "output_type": "display_data"
    },
    {
     "data": {
      "image/png": "[encoded data removed]",
      "text/plain": [
       "<Figure size 640x480 with 1 Axes>"
      ]
     },
     "metadata": {},
     "output_type": "display_data"
    }
   ],
   "source": [
    "# Distribution for age using 10 bins\n",
    "plt.hist(credit['age'], bins = 10, edgecolor = 'black')\n",
    "plt.title('Distribution of Age (10 bins)')\n",
    "plt.xlabel('Age (years)')\n",
    "plt.ylabel('Frequency')\n",
    "plt.show()\n",
    "\n",
    "# Distribution for age using 30 bins\n",
    "plt.hist(credit['age'], bins = 30, edgecolor = 'black')\n",
    "plt.title('Distribution of Age (30 bins)')\n",
    "plt.xlabel('Age (years)')\n",
    "plt.ylabel('Frequency')\n",
    "plt.show()"
   ]
  },
  {
   "cell_type": "code",
   "execution_count": 89,
   "id": "90b42040",
   "metadata": {},
   "outputs": [
    {
     "name": "stdout",
     "output_type": "stream",
     "text": [
      "Skewness: 0.7322458687830562\n"
     ]
    }
   ],
   "source": [
    "print(\"Skewness:\", credit['age'].skew())"
   ]
  },
  {
   "cell_type": "markdown",
   "id": "9a6202b3",
   "metadata": {},
   "source": [
    "Majority are younger (</= 40 years). There is a slight left skew."
   ]
  },
  {
   "cell_type": "code",
   "execution_count": 90,
   "id": "5ffac7e6",
   "metadata": {},
   "outputs": [
    {
     "data": {
      "image/png": "[encoded data removed]",
      "text/plain": [
       "<Figure size 640x480 with 1 Axes>"
      ]
     },
     "metadata": {},
     "output_type": "display_data"
    }
   ],
   "source": [
    "# Distribution for gender\n",
    "plt.hist(credit['sex'])\n",
    "plt.title('Distribution of Gender')\n",
    "plt.xlabel('Gender')\n",
    "plt.ylabel('Frequency')\n",
    "plt.show()"
   ]
  },
  {
   "cell_type": "code",
   "execution_count": null,
   "id": "61360410",
   "metadata": {},
   "outputs": [],
   "source": [
    "plt.suptitle('Distribution for Pay')\n",
    "plt."
   ]
  },
  {
   "cell_type": "markdown",
   "id": "1fa8edcf",
   "metadata": {},
   "source": [
    "Data is cleaned, wrangled, and visualized. Time to start modeling. "
   ]
  },
  {
   "cell_type": "markdown",
   "id": "ffd53997",
   "metadata": {},
   "source": [
    "I will start with statistical significance testing using linear regression with amount of given credit as the target variable (since the target variable is continuous). I will include education, sex, and marriage in the initial model as a \"baseline\" prior to including age and the pay status. The initial model will be non-transformed data."
   ]
  },
  {
   "cell_type": "code",
   "execution_count": 91,
   "id": "f419932b",
   "metadata": {},
   "outputs": [
    {
     "name": "stdout",
     "output_type": "stream",
     "text": [
      "                 Generalized Linear Model Regression Results                  \n",
      "==============================================================================\n",
      "Dep. Variable:              limit_bal   No. Observations:                30000\n",
      "Model:                            GLM   Df Residuals:                    29993\n",
      "Model Family:                Gaussian   Df Model:                            6\n",
      "Link Function:               Identity   Scale:                      1.5236e+10\n",
      "Method:                          IRLS   Log-Likelihood:            -3.9427e+05\n",
      "Date:                Mon, 04 Aug 2025   Deviance:                   4.5699e+14\n",
      "Time:                        02:22:21   Pearson chi2:                 4.57e+14\n",
      "No. Iterations:                     3   Pseudo R-squ. (CS):            0.09975\n",
      "Covariance Type:            nonrobust                                         \n",
      "============================================================================================\n",
      "                               coef    std err          z      P>|z|      [0.025      0.975]\n",
      "--------------------------------------------------------------------------------------------\n",
      "Intercept                 2.408e+05   1630.333    147.730      0.000    2.38e+05    2.44e+05\n",
      "sex[T.Male]              -6728.0360   1458.186     -4.614      0.000   -9586.028   -3870.044\n",
      "education[T.University]  -7.108e+04   1603.236    -44.338      0.000   -7.42e+04   -6.79e+04\n",
      "education[T.High School] -9.475e+04   2161.444    -43.836      0.000    -9.9e+04   -9.05e+04\n",
      "education[T.Others]      -3.725e+04   5835.940     -6.382      0.000   -4.87e+04   -2.58e+04\n",
      "marriage[T.Others]       -7.325e+04   6953.356    -10.535      0.000   -8.69e+04   -5.96e+04\n",
      "marriage[T.Single]        -3.85e+04   1460.263    -26.364      0.000   -4.14e+04   -3.56e+04\n",
      "============================================================================================\n"
     ]
    }
   ],
   "source": [
    "# Create the formula for the model\n",
    "formula = 'limit_bal ~ sex + education + marriage'\n",
    "\n",
    "# Create the model\n",
    "esm_model = glm(formula, data = credit, family = sm.families.Gaussian()).fit()\n",
    "\n",
    "# Print the statistical summary\n",
    "print(esm_model.summary())"
   ]
  },
  {
   "cell_type": "markdown",
   "id": "c7556055",
   "metadata": {},
   "source": [
    "* The \"baseline\" credit limit is NT$240,800 +/- 1630.33 when the client is a married female with a graduate level of education.\n",
    "* Being a male is associated with a credit limit that is NT$6728.04 +/- 1458.19 less compared to females and assuming all other variables are constant. \n",
    "* Having a university level of education is associated with a credit limit NT$71,080 +/- 1603.24 less compared to those with a graduate level of education and assuming all other variables are constant.\n",
    "* Having a high school level of education is associated with a credit limit NT$94,750 +/- 2161.44 less compared to those with a graduate level of education and assuming all other variables are constant. \n",
    "* Having an education level classified as \"other\" is associated with a credit limit NT$37,250 +/- 5835.94 less than those with a graduate level of education and assuming all other variables are constant. \n",
    "* Being single is associated with a credit limit NT$38,500 +/- 1460.26 less than those that are married, assuming all other variables are constant. \n",
    "* Those that have a marriage status categorised as \"Others\" have a credit limit NT$73,250 +/- 6953.36 less than those that are married, assuming all other variables are constant.\n",
    "* All coefficients are statistically significant as the p-values are <.0001 and none of the 95% confidence intervals include 0.\n",
    "* The R2 is only 0.09975, indicating the model only explains ~ 9.98% of the variance of the credit limit (limit_bal). There are other predictors (e.g., the pay columns) that will explain the variance.\n",
    "* In this model, education and marriage status have a much more significant impact than gender.\n"
   ]
  },
  {
   "cell_type": "code",
   "execution_count": 60,
   "id": "33dc871d",
   "metadata": {},
   "outputs": [
    {
     "data": {
      "text/plain": [
       "<bound method GLMResults.plot_partial_residuals of <statsmodels.genmod.generalized_linear_model.GLMResults object at 0x7ba319be8710>>"
      ]
     },
     "execution_count": 60,
     "metadata": {},
     "output_type": "execute_result"
    }
   ],
   "source": [
    "# Check residuals\n",
    "esm_model.plot_partial_residuals"
   ]
  },
  {
   "cell_type": "markdown",
   "id": "183cac4c",
   "metadata": {},
   "source": [
    "Let's add age into the model and see how much of the variance is explained by age."
   ]
  },
  {
   "cell_type": "code",
   "execution_count": 92,
   "id": "fe9b1705",
   "metadata": {},
   "outputs": [
    {
     "name": "stdout",
     "output_type": "stream",
     "text": [
      "                 Generalized Linear Model Regression Results                  \n",
      "==============================================================================\n",
      "Dep. Variable:              limit_bal   No. Observations:                30000\n",
      "Model:                            GLM   Df Residuals:                    29992\n",
      "Model Family:                Gaussian   Df Model:                            7\n",
      "Link Function:               Identity   Scale:                      1.4884e+10\n",
      "Method:                          IRLS   Log-Likelihood:            -3.9392e+05\n",
      "Date:                Mon, 04 Aug 2025   Deviance:                   4.4640e+14\n",
      "Time:                        11:43:17   Pearson chi2:                 4.46e+14\n",
      "No. Iterations:                     3   Pseudo R-squ. (CS):             0.1230\n",
      "Covariance Type:            nonrobust                                         \n",
      "============================================================================================\n",
      "                               coef    std err          z      P>|z|      [0.025      0.975]\n",
      "--------------------------------------------------------------------------------------------\n",
      "Intercept                  1.49e+05   3802.474     39.185      0.000    1.42e+05    1.56e+05\n",
      "sex[T.Male]              -1.129e+04   1451.352     -7.781      0.000   -1.41e+04   -8448.151\n",
      "education[T.University]  -6.953e+04   1585.655    -43.851      0.000   -7.26e+04   -6.64e+04\n",
      "education[T.High School] -1.042e+05   2165.675    -48.128      0.000   -1.08e+05      -1e+05\n",
      "education[T.Others]      -3.877e+04   5768.335     -6.721      0.000   -5.01e+04   -2.75e+04\n",
      "marriage[T.Others]       -7.868e+04   6875.482    -11.443      0.000   -9.22e+04   -6.52e+04\n",
      "marriage[T.Single]       -1.886e+04   1620.323    -11.638      0.000    -2.2e+04   -1.57e+04\n",
      "age                       2369.4328     88.850     26.668      0.000    2195.289    2543.576\n",
      "============================================================================================\n"
     ]
    }
   ],
   "source": [
    "# Create the formula for the model\n",
    "formula = 'limit_bal ~ sex + education + marriage + age'\n",
    "\n",
    "# Create the model\n",
    "esma_model = glm(formula, data = credit, family = sm.families.Gaussian()).fit()\n",
    "\n",
    "# Print the statistical summary\n",
    "print(esma_model.summary())"
   ]
  },
  {
   "cell_type": "markdown",
   "id": "0c5edb36",
   "metadata": {},
   "source": [
    "Age does not add much to R2. However, it does impose some significant changes for the coefficients, particularly with the baseline credit limit:\n",
    "* The baseline credit limit is now NT$149,000 when the client is a married female with a graduate level of education.\n",
    "* Each 1 year increase in age is associated with a credit limit increase of NT$2369.43.\n",
    "* Being a male is associated with a NT$11,290 credit limit less than females (assuming all other variables constant).\n",
    "* Having a university level of education is now associated with a NT$69,530 credit limit less than those with a graduate level of education (assuming all other variables constant).\n",
    "* Having a high school level of education is now associated with a NT$104,200 credit limit less than those with a graduate level of education (assuming all other variables constant).\n",
    "* Having an education level classified as \"Others\" is now associated with a NT$38,770 credit limit less than those with a graduate level of education (assuming all other variables constant).\n",
    "* Being single is associated with a NT$18,860 credit limit less than those that are married (assuming all other variables constant).\n"
   ]
  },
  {
   "cell_type": "markdown",
   "id": "f72089a0",
   "metadata": {},
   "source": [
    "Let's add in the first pay column and see how much impact it has in the model:"
   ]
  },
  {
   "cell_type": "code",
   "execution_count": 93,
   "id": "a1e366cf",
   "metadata": {},
   "outputs": [
    {
     "name": "stdout",
     "output_type": "stream",
     "text": [
      "                 Generalized Linear Model Regression Results                  \n",
      "==============================================================================\n",
      "Dep. Variable:              limit_bal   No. Observations:                30000\n",
      "Model:                            GLM   Df Residuals:                    29984\n",
      "Model Family:                Gaussian   Df Model:                           15\n",
      "Link Function:               Identity   Scale:                      1.4741e+10\n",
      "Method:                          IRLS   Log-Likelihood:            -3.9377e+05\n",
      "Date:                Mon, 04 Aug 2025   Deviance:                   4.4199e+14\n",
      "Time:                        11:56:50   Pearson chi2:                 4.42e+14\n",
      "No. Iterations:                     3   Pseudo R-squ. (CS):             0.1328\n",
      "Covariance Type:            nonrobust                                         \n",
      "============================================================================================\n",
      "                               coef    std err          z      P>|z|      [0.025      0.975]\n",
      "--------------------------------------------------------------------------------------------\n",
      "Intercept                 1.513e+05   3815.755     39.653      0.000    1.44e+05    1.59e+05\n",
      "sex[T.Male]              -1.039e+04   1445.889     -7.184      0.000   -1.32e+04   -7553.212\n",
      "education[T.University]  -6.871e+04   1580.535    -43.474      0.000   -7.18e+04   -6.56e+04\n",
      "education[T.High School] -1.034e+05   2156.413    -47.968      0.000   -1.08e+05   -9.92e+04\n",
      "education[T.Others]      -4.032e+04   5742.304     -7.022      0.000   -5.16e+04   -2.91e+04\n",
      "marriage[T.Others]       -7.729e+04   6843.896    -11.294      0.000   -9.07e+04   -6.39e+04\n",
      "marriage[T.Single]        -1.88e+04   1613.198    -11.656      0.000    -2.2e+04   -1.56e+04\n",
      "pay_0[T.Delay 1 Month]    -2.19e+04   2173.357    -10.078      0.000   -2.62e+04   -1.76e+04\n",
      "pay_0[T.Delay 2 Months]   7897.8868   1857.869      4.251      0.000    4256.531    1.15e+04\n",
      "pay_0[T.Delay 3 Months]  -7.543e+04   6824.056    -11.054      0.000   -8.88e+04   -6.21e+04\n",
      "pay_0[T.Delay 4 Months]  -7.588e+04    1.4e+04     -5.436      0.000   -1.03e+05   -4.85e+04\n",
      "pay_0[T.Delay 5 Months]  -7.233e+04   2.38e+04     -3.035      0.002   -1.19e+05   -2.56e+04\n",
      "pay_0[T.Delay 6 Months]  -4.226e+04   3.66e+04     -1.154      0.249   -1.14e+05    2.95e+04\n",
      "pay_0[T.Delay 7 Months]  -1.695e+04   4.05e+04     -0.419      0.675   -9.63e+04    6.24e+04\n",
      "pay_0[T.Delay 8 Months]    -5.7e+04   2.79e+04     -2.045      0.041   -1.12e+05   -2383.354\n",
      "pay_0[T.Delay 9+ Months]          0          0        nan        nan           0           0\n",
      "age                       2346.5537     88.461     26.527      0.000    2173.174    2519.933\n",
      "============================================================================================\n"
     ]
    }
   ],
   "source": [
    "# Create the formula for the model\n",
    "formula = 'limit_bal ~ sex + education + marriage + age + pay_0'\n",
    "\n",
    "# Create the model\n",
    "esmap0_model = glm(formula, data = credit, family = sm.families.Gaussian()).fit()\n",
    "\n",
    "# Print the statistical summary\n",
    "print(esmap0_model.summary())"
   ]
  },
  {
   "cell_type": "markdown",
   "id": "f9f54b68",
   "metadata": {},
   "source": [
    "Those are interesting results. It appears having a 2 month delay on payment is actually associated with an *increase* in credit limit while the remainder of the pay delays are associated with a decrease in credit limit (as expected). Interestingly, delays of 3, 4, and 5 months are actually associated with much higher decreases in credit limit compared to all other months, even in higher delays in payment. There is no data for a delay of 9+ months in this model. The p-values are >.05 for delays of 6 and 7 months. However, a delay of 8 months has a p-value of 0.041."
   ]
  },
  {
   "cell_type": "markdown",
   "id": "21d183c1",
   "metadata": {},
   "source": [
    "Let's add pay_2 to the model and see how it impacts the statistics"
   ]
  },
  {
   "cell_type": "code",
   "execution_count": 95,
   "id": "3bc2394a",
   "metadata": {},
   "outputs": [
    {
     "name": "stdout",
     "output_type": "stream",
     "text": [
      "                 Generalized Linear Model Regression Results                  \n",
      "==============================================================================\n",
      "Dep. Variable:              limit_bal   No. Observations:                30000\n",
      "Model:                            GLM   Df Residuals:                    29976\n",
      "Model Family:                Gaussian   Df Model:                           23\n",
      "Link Function:               Identity   Scale:                      1.4706e+10\n",
      "Method:                          IRLS   Log-Likelihood:            -3.9373e+05\n",
      "Date:                Mon, 04 Aug 2025   Deviance:                   4.4083e+14\n",
      "Time:                        12:02:47   Pearson chi2:                 4.41e+14\n",
      "No. Iterations:                     3   Pseudo R-squ. (CS):             0.1354\n",
      "Covariance Type:            nonrobust                                         \n",
      "============================================================================================\n",
      "                               coef    std err          z      P>|z|      [0.025      0.975]\n",
      "--------------------------------------------------------------------------------------------\n",
      "Intercept                 1.513e+05   3812.098     39.692      0.000    1.44e+05    1.59e+05\n",
      "sex[T.Male]              -1.014e+04   1444.639     -7.018      0.000    -1.3e+04   -7307.129\n",
      "education[T.University]  -6.829e+04   1579.792    -43.228      0.000   -7.14e+04   -6.52e+04\n",
      "education[T.High School] -1.028e+05   2155.902    -47.671      0.000   -1.07e+05   -9.85e+04\n",
      "education[T.Others]      -4.035e+04   5736.574     -7.033      0.000   -5.16e+04   -2.91e+04\n",
      "marriage[T.Others]       -7.727e+04   6836.569    -11.302      0.000   -9.07e+04   -6.39e+04\n",
      "marriage[T.Single]       -1.876e+04   1611.515    -11.639      0.000   -2.19e+04   -1.56e+04\n",
      "pay_0[T.Delay 1 Month]   -2.342e+04   3148.497     -7.440      0.000   -2.96e+04   -1.73e+04\n",
      "pay_0[T.Delay 2 Months]   5414.2894   2831.289      1.912      0.056    -134.935     1.1e+04\n",
      "pay_0[T.Delay 3 Months]  -7.099e+04   7381.645     -9.618      0.000   -8.55e+04   -5.65e+04\n",
      "pay_0[T.Delay 4 Months]  -2.221e+04   1.56e+04     -1.423      0.155   -5.28e+04    8369.045\n",
      "pay_0[T.Delay 5 Months]  -3745.1557   2.79e+04     -0.134      0.893   -5.84e+04    5.09e+04\n",
      "pay_0[T.Delay 6 Months]   1.782e+04    4.9e+04      0.364      0.716   -7.83e+04    1.14e+05\n",
      "pay_0[T.Delay 7 Months]   1.651e+04   8.14e+04      0.203      0.839   -1.43e+05    1.76e+05\n",
      "pay_0[T.Delay 8 Months]   5.863e+04   1.24e+05      0.471      0.638   -1.85e+05    3.03e+05\n",
      "pay_0[T.Delay 9+ Months]  2.041e-10   6.11e-10      0.334      0.739   -9.94e-10     1.4e-09\n",
      "pay_2[T.Delay 1 Month]    4.608e+04   2.31e+04      1.993      0.046     756.850    9.14e+04\n",
      "pay_2[T.Delay 2 Months]   4285.0444   2829.068      1.515      0.130   -1259.828    9829.917\n",
      "pay_2[T.Delay 3 Months]  -4.929e+04   7649.953     -6.444      0.000   -6.43e+04   -3.43e+04\n",
      "pay_2[T.Delay 4 Months]  -7.024e+04   1.46e+04     -4.808      0.000   -9.89e+04   -4.16e+04\n",
      "pay_2[T.Delay 5 Months]  -6.034e+04   3.27e+04     -1.847      0.065   -1.24e+05    3673.557\n",
      "pay_2[T.Delay 6 Months]  -3.363e+04   7.07e+04     -0.476      0.634   -1.72e+05    1.05e+05\n",
      "pay_2[T.Delay 7 Months]  -1.158e+05   1.21e+05     -0.954      0.340   -3.54e+05    1.22e+05\n",
      "pay_2[T.Delay 8 Months]  -4.117e+04   1.21e+05     -0.339      0.734   -2.79e+05    1.97e+05\n",
      "pay_2[T.Delay 9+ Months]          0          0        nan        nan           0           0\n",
      "age                       2335.8248     88.394     26.425      0.000    2162.576    2509.073\n",
      "============================================================================================\n"
     ]
    }
   ],
   "source": [
    "# Create the formula for the model\n",
    "formula = 'limit_bal ~ sex + education + marriage + age + pay_0 + pay_2'\n",
    "\n",
    "# Create the model\n",
    "esmap2_model = glm(formula, data = credit, family = sm.families.Gaussian()).fit()\n",
    "\n",
    "# Print the statistical summary\n",
    "print(esmap2_model.summary())"
   ]
  },
  {
   "cell_type": "markdown",
   "id": "8d78cdfb",
   "metadata": {},
   "source": [
    "There is not a significant increase in R2. Interesting, a 2 month delay in payment is still associated with an increase in credit limit; however, the p-value is now just over .05. There is now information to determine statistics for a 9+ month delay, although there is no statistical significance based on p-value and the confidence interval including 0. Also of note: a 1 month delay for the pay_2 column is associated with an increase in credit limit (p = .046, 95% CI 756.85-91400). This is expected as payment history is \"better\" until that point (e.g., those at a 1 month delay at pay_0 are already behind while those at a 1 month delay at pay_2 are \"just now\" behind on payment [e.g., better payment history])."
   ]
  },
  {
   "cell_type": "markdown",
   "id": "58c3ee80",
   "metadata": {},
   "source": [
    "Let's continue adding pay columns to determine impact"
   ]
  },
  {
   "cell_type": "code",
   "execution_count": 96,
   "id": "fa2cc79b",
   "metadata": {},
   "outputs": [
    {
     "name": "stdout",
     "output_type": "stream",
     "text": [
      "                 Generalized Linear Model Regression Results                  \n",
      "==============================================================================\n",
      "Dep. Variable:              limit_bal   No. Observations:                30000\n",
      "Model:                            GLM   Df Residuals:                    29968\n",
      "Model Family:                Gaussian   Df Model:                           31\n",
      "Link Function:               Identity   Scale:                      1.4666e+10\n",
      "Method:                          IRLS   Log-Likelihood:            -3.9368e+05\n",
      "Date:                Mon, 04 Aug 2025   Deviance:                   4.3952e+14\n",
      "Time:                        12:07:55   Pearson chi2:                 4.40e+14\n",
      "No. Iterations:                     3   Pseudo R-squ. (CS):             0.1383\n",
      "Covariance Type:            nonrobust                                         \n",
      "============================================================================================\n",
      "                               coef    std err          z      P>|z|      [0.025      0.975]\n",
      "--------------------------------------------------------------------------------------------\n",
      "Intercept                 1.518e+05   3812.678     39.807      0.000    1.44e+05    1.59e+05\n",
      "sex[T.Male]              -9972.0923   1443.207     -6.910      0.000   -1.28e+04   -7143.458\n",
      "education[T.University]  -6.808e+04   1579.245    -43.108      0.000   -7.12e+04    -6.5e+04\n",
      "education[T.High School] -1.025e+05   2154.080    -47.578      0.000   -1.07e+05   -9.83e+04\n",
      "education[T.Others]      -4.091e+04   5730.867     -7.138      0.000   -5.21e+04   -2.97e+04\n",
      "marriage[T.Others]       -7.683e+04   6827.984    -11.252      0.000   -9.02e+04   -6.34e+04\n",
      "marriage[T.Single]       -1.863e+04   1609.588    -11.573      0.000   -2.18e+04   -1.55e+04\n",
      "pay_0[T.Delay 1 Month]   -2.343e+04   3148.825     -7.441      0.000   -2.96e+04   -1.73e+04\n",
      "pay_0[T.Delay 2 Months]   6809.7084   2841.730      2.396      0.017    1240.020    1.24e+04\n",
      "pay_0[T.Delay 3 Months]  -6.794e+04   7385.145     -9.199      0.000   -8.24e+04   -5.35e+04\n",
      "pay_0[T.Delay 4 Months]  -2.472e+04   1.56e+04     -1.585      0.113   -5.53e+04    5854.170\n",
      "pay_0[T.Delay 5 Months]  -2479.0121   2.79e+04     -0.089      0.929   -5.72e+04    5.22e+04\n",
      "pay_0[T.Delay 6 Months]   1.746e+04    4.9e+04      0.357      0.721   -7.85e+04    1.13e+05\n",
      "pay_0[T.Delay 7 Months]   1.705e+04   8.13e+04      0.210      0.834   -1.42e+05    1.76e+05\n",
      "pay_0[T.Delay 8 Months]   5.864e+04   1.24e+05      0.472      0.637   -1.85e+05    3.02e+05\n",
      "pay_0[T.Delay 9+ Months] -8.078e-11    1.1e-10     -0.735      0.462   -2.96e-10    1.35e-10\n",
      "pay_2[T.Delay 1 Month]    3.143e+04   2.49e+04      1.260      0.208   -1.75e+04    8.03e+04\n",
      "pay_2[T.Delay 2 Months]   8322.4387   3147.391      2.644      0.008    2153.666    1.45e+04\n",
      "pay_2[T.Delay 3 Months]  -3.746e+04   7923.966     -4.728      0.000    -5.3e+04   -2.19e+04\n",
      "pay_2[T.Delay 4 Months]    383.2885    1.7e+04      0.023      0.982    -3.3e+04    3.37e+04\n",
      "pay_2[T.Delay 5 Months]   5345.9821   3.71e+04      0.144      0.885   -6.74e+04    7.81e+04\n",
      "pay_2[T.Delay 6 Months]   3128.3639   8.14e+04      0.038      0.969   -1.57e+05    1.63e+05\n",
      "pay_2[T.Delay 7 Months]  -2.218e+04    1.4e+05     -0.159      0.874   -2.96e+05    2.52e+05\n",
      "pay_2[T.Delay 8 Months]   5.645e+04   1.24e+05      0.457      0.648   -1.86e+05    2.99e+05\n",
      "pay_2[T.Delay 9+ Months] -3.452e-12   9.97e-11     -0.035      0.972   -1.99e-10    1.92e-10\n",
      "pay_3[T.Delay 1 Month]    1.173e+05   6.54e+04      1.793      0.073   -1.09e+04    2.46e+05\n",
      "pay_3[T.Delay 2 Months]  -5361.7581   2200.749     -2.436      0.015   -9675.148   -1048.368\n",
      "pay_3[T.Delay 3 Months]  -7.315e+04   9546.613     -7.663      0.000   -9.19e+04   -5.44e+04\n",
      "pay_3[T.Delay 4 Months]  -6.599e+04   1.78e+04     -3.706      0.000   -1.01e+05   -3.11e+04\n",
      "pay_3[T.Delay 5 Months]  -3.789e+04   4.05e+04     -0.936      0.349   -1.17e+05    4.15e+04\n",
      "pay_3[T.Delay 6 Months]  -9.421e+04      7e+04     -1.346      0.178   -2.31e+05     4.3e+04\n",
      "pay_3[T.Delay 7 Months]  -9.823e+04   2.39e+04     -4.112      0.000   -1.45e+05   -5.14e+04\n",
      "pay_3[T.Delay 8 Months]  -1.119e+05      7e+04     -1.599      0.110   -2.49e+05    2.53e+04\n",
      "pay_3[T.Delay 9+ Months]          0          0        nan        nan           0           0\n",
      "age                       2330.5241     88.286     26.397      0.000    2157.486    2503.562\n",
      "============================================================================================\n"
     ]
    }
   ],
   "source": [
    "# Create the formula for the model\n",
    "formula = 'limit_bal ~ sex + education + marriage + age + pay_0 + pay_2 + pay_3'\n",
    "\n",
    "# Create the model\n",
    "esmap3_model = glm(formula, data = credit, family = sm.families.Gaussian()).fit()\n",
    "\n",
    "# Print the statistical summary\n",
    "print(esmap3_model.summary())"
   ]
  },
  {
   "cell_type": "code",
   "execution_count": 97,
   "id": "67b3b8da",
   "metadata": {},
   "outputs": [
    {
     "name": "stdout",
     "output_type": "stream",
     "text": [
      "                 Generalized Linear Model Regression Results                  \n",
      "==============================================================================\n",
      "Dep. Variable:              limit_bal   No. Observations:                30000\n",
      "Model:                            GLM   Df Residuals:                    29960\n",
      "Model Family:                Gaussian   Df Model:                           39\n",
      "Link Function:               Identity   Scale:                      1.4652e+10\n",
      "Method:                          IRLS   Log-Likelihood:            -3.9367e+05\n",
      "Date:                Mon, 04 Aug 2025   Deviance:                   4.3898e+14\n",
      "Time:                        12:14:19   Pearson chi2:                 4.39e+14\n",
      "No. Iterations:                     3   Pseudo R-squ. (CS):             0.1395\n",
      "Covariance Type:            nonrobust                                         \n",
      "============================================================================================\n",
      "                               coef    std err          z      P>|z|      [0.025      0.975]\n",
      "--------------------------------------------------------------------------------------------\n",
      "Intercept                 1.518e+05   3812.358     39.819      0.000    1.44e+05    1.59e+05\n",
      "sex[T.Male]              -9740.6929   1443.057     -6.750      0.000   -1.26e+04   -6912.354\n",
      "education[T.University]  -6.797e+04   1579.403    -43.037      0.000   -7.11e+04   -6.49e+04\n",
      "education[T.High School] -1.022e+05   2154.820    -47.413      0.000   -1.06e+05   -9.79e+04\n",
      "education[T.Others]      -4.101e+04   5728.402     -7.158      0.000   -5.22e+04   -2.98e+04\n",
      "marriage[T.Others]       -7.666e+04   6825.316    -11.232      0.000      -9e+04   -6.33e+04\n",
      "marriage[T.Single]       -1.865e+04   1608.991    -11.592      0.000   -2.18e+04   -1.55e+04\n",
      "pay_0[T.Delay 1 Month]   -2.334e+04   3150.056     -7.408      0.000   -2.95e+04   -1.72e+04\n",
      "pay_0[T.Delay 2 Months]   7020.6133   2863.677      2.452      0.014    1407.910    1.26e+04\n",
      "pay_0[T.Delay 3 Months]  -5.927e+04   7737.832     -7.660      0.000   -7.44e+04   -4.41e+04\n",
      "pay_0[T.Delay 4 Months]  -2.216e+04   1.56e+04     -1.419      0.156   -5.28e+04    8443.629\n",
      "pay_0[T.Delay 5 Months]  -1884.5719   2.79e+04     -0.068      0.946   -5.65e+04    5.28e+04\n",
      "pay_0[T.Delay 6 Months]    1.72e+04   4.95e+04      0.347      0.728   -7.98e+04    1.14e+05\n",
      "pay_0[T.Delay 7 Months]   1.732e+04   8.13e+04      0.213      0.831   -1.42e+05    1.77e+05\n",
      "pay_0[T.Delay 8 Months]   5.899e+04   1.24e+05      0.475      0.635   -1.85e+05    3.03e+05\n",
      "pay_0[T.Delay 9+ Months]  3.444e-11   4.22e-10      0.082      0.935   -7.92e-10    8.61e-10\n",
      "pay_2[T.Delay 1 Month]    3.128e+04   2.49e+04      1.254      0.210   -1.76e+04    8.02e+04\n",
      "pay_2[T.Delay 2 Months]   8434.0843   3149.366      2.678      0.007    2261.441    1.46e+04\n",
      "pay_2[T.Delay 3 Months]  -3.749e+04   7937.269     -4.723      0.000    -5.3e+04   -2.19e+04\n",
      "pay_2[T.Delay 4 Months]  -7062.5731   1.71e+04     -0.414      0.679   -4.05e+04    2.64e+04\n",
      "pay_2[T.Delay 5 Months]   4633.5705   3.85e+04      0.120      0.904   -7.09e+04    8.02e+04\n",
      "pay_2[T.Delay 6 Months]   2.073e+04    8.3e+04      0.250      0.803   -1.42e+05    1.83e+05\n",
      "pay_2[T.Delay 7 Months]  -2.519e+04    1.5e+05     -0.168      0.866   -3.18e+05    2.68e+05\n",
      "pay_2[T.Delay 8 Months]   3.409e+04   1.44e+05      0.237      0.812   -2.48e+05    3.16e+05\n",
      "pay_2[T.Delay 9+ Months] -1.242e-11   1.07e-10     -0.116      0.908   -2.23e-10    1.98e-10\n",
      "pay_3[T.Delay 1 Month]    9.613e+04   8.91e+04      1.079      0.281   -7.85e+04    2.71e+05\n",
      "pay_3[T.Delay 2 Months]  -4083.2521   2557.356     -1.597      0.110   -9095.578     929.074\n",
      "pay_3[T.Delay 3 Months]  -6.225e+04   9881.813     -6.300      0.000   -8.16e+04   -4.29e+04\n",
      "pay_3[T.Delay 4 Months]  -8283.6216   2.13e+04     -0.389      0.698   -5.01e+04    3.35e+04\n",
      "pay_3[T.Delay 5 Months]   2567.8651    4.5e+04      0.057      0.955   -8.57e+04    9.08e+04\n",
      "pay_3[T.Delay 6 Months]   -7.23e+04   8.78e+04     -0.823      0.410   -2.44e+05    9.98e+04\n",
      "pay_3[T.Delay 7 Months]  -5.241e+04   3.26e+04     -1.609      0.108   -1.16e+05    1.14e+04\n",
      "pay_3[T.Delay 8 Months]  -4.534e+04   7.89e+04     -0.575      0.565      -2e+05    1.09e+05\n",
      "pay_3[T.Delay 9+ Months] -8.675e-12    3.2e-11     -0.271      0.787   -7.15e-11    5.41e-11\n",
      "pay_4[T.Delay 1 Month]    4.275e+04   1.21e+05      0.353      0.724   -1.95e+05     2.8e+05\n",
      "pay_4[T.Delay 2 Months]  -1278.8758   2308.965     -0.554      0.580   -5804.364    3246.612\n",
      "pay_4[T.Delay 3 Months]  -5.676e+04   1.05e+04     -5.398      0.000   -7.74e+04   -3.62e+04\n",
      "pay_4[T.Delay 4 Months]   -5.85e+04   1.92e+04     -3.043      0.002   -9.62e+04   -2.08e+04\n",
      "pay_4[T.Delay 5 Months]   -1.94e+04   3.45e+04     -0.562      0.574   -8.71e+04    4.83e+04\n",
      "pay_4[T.Delay 6 Months]  -2.384e+04   7.57e+04     -0.315      0.753   -1.72e+05    1.25e+05\n",
      "pay_4[T.Delay 7 Months]  -4.719e+04   2.25e+04     -2.098      0.036   -9.13e+04   -3104.766\n",
      "pay_4[T.Delay 8 Months]  -1.153e+05   9.65e+04     -1.195      0.232   -3.04e+05    7.38e+04\n",
      "pay_4[T.Delay 9+ Months]          0          0        nan        nan           0           0\n",
      "age                       2327.2436     88.258     26.369      0.000    2154.260    2500.227\n",
      "============================================================================================\n"
     ]
    }
   ],
   "source": [
    "# Create the formula for the model\n",
    "formula = 'limit_bal ~ sex + education + marriage + age + pay_0 + pay_2 + pay_3 + pay_4'\n",
    "\n",
    "# Create the model\n",
    "esmap4_model = glm(formula, data = credit, family = sm.families.Gaussian()).fit()\n",
    "\n",
    "# Print the statistical summary\n",
    "print(esmap4_model.summary())"
   ]
  },
  {
   "cell_type": "code",
   "execution_count": 98,
   "id": "8d17008d",
   "metadata": {},
   "outputs": [
    {
     "name": "stdout",
     "output_type": "stream",
     "text": [
      "                 Generalized Linear Model Regression Results                  \n",
      "==============================================================================\n",
      "Dep. Variable:              limit_bal   No. Observations:                30000\n",
      "Model:                            GLM   Df Residuals:                    29953\n",
      "Model Family:                Gaussian   Df Model:                           46\n",
      "Link Function:               Identity   Scale:                      1.4636e+10\n",
      "Method:                          IRLS   Log-Likelihood:            -3.9365e+05\n",
      "Date:                Mon, 04 Aug 2025   Deviance:                   4.3838e+14\n",
      "Time:                        12:15:21   Pearson chi2:                 4.38e+14\n",
      "No. Iterations:                     3   Pseudo R-squ. (CS):             0.1408\n",
      "Covariance Type:            nonrobust                                         \n",
      "============================================================================================\n",
      "                               coef    std err          z      P>|z|      [0.025      0.975]\n",
      "--------------------------------------------------------------------------------------------\n",
      "Intercept                 1.515e+05   3812.498     39.748      0.000    1.44e+05    1.59e+05\n",
      "sex[T.Male]              -9656.2135   1442.563     -6.694      0.000   -1.25e+04   -6828.842\n",
      "education[T.University]  -6.778e+04   1579.655    -42.909      0.000   -7.09e+04   -6.47e+04\n",
      "education[T.High School]  -1.02e+05   2155.332    -47.333      0.000   -1.06e+05   -9.78e+04\n",
      "education[T.Others]      -4.106e+04   5725.234     -7.172      0.000   -5.23e+04   -2.98e+04\n",
      "marriage[T.Others]       -7.691e+04   6822.639    -11.273      0.000   -9.03e+04   -6.35e+04\n",
      "marriage[T.Single]       -1.861e+04   1608.323    -11.568      0.000   -2.18e+04   -1.55e+04\n",
      "pay_0[T.Delay 1 Month]   -2.346e+04   3148.870     -7.451      0.000   -2.96e+04   -1.73e+04\n",
      "pay_0[T.Delay 2 Months]   7097.0764   2871.137      2.472      0.013    1469.751    1.27e+04\n",
      "pay_0[T.Delay 3 Months]  -5.682e+04   7761.987     -7.321      0.000    -7.2e+04   -4.16e+04\n",
      "pay_0[T.Delay 4 Months]  -2.011e+04   1.56e+04     -1.288      0.198   -5.07e+04    1.05e+04\n",
      "pay_0[T.Delay 5 Months]  -4235.8631   2.79e+04     -0.152      0.879   -5.89e+04    5.04e+04\n",
      "pay_0[T.Delay 6 Months]   2.096e+04   4.98e+04      0.421      0.674   -7.67e+04    1.19e+05\n",
      "pay_0[T.Delay 7 Months]   1.841e+04   8.15e+04      0.226      0.821   -1.41e+05    1.78e+05\n",
      "pay_0[T.Delay 8 Months]   5.895e+04   1.24e+05      0.475      0.635   -1.84e+05    3.02e+05\n",
      "pay_0[T.Delay 9+ Months] -9.188e-11   1.16e-10     -0.790      0.429    -3.2e-10    1.36e-10\n",
      "pay_2[T.Delay 1 Month]    3.109e+04   2.49e+04      1.248      0.212   -1.78e+04    7.99e+04\n",
      "pay_2[T.Delay 2 Months]   8605.6617   3154.606      2.728      0.006    2422.748    1.48e+04\n",
      "pay_2[T.Delay 3 Months]  -3.688e+04   7938.311     -4.646      0.000   -5.24e+04   -2.13e+04\n",
      "pay_2[T.Delay 4 Months]  -4953.6770   1.71e+04     -0.290      0.772   -3.84e+04    2.85e+04\n",
      "pay_2[T.Delay 5 Months]  -4071.0151   3.92e+04     -0.104      0.917   -8.09e+04    7.27e+04\n",
      "pay_2[T.Delay 6 Months]   2.095e+04    8.3e+04      0.252      0.801   -1.42e+05    1.84e+05\n",
      "pay_2[T.Delay 7 Months]   6581.9783   1.51e+05      0.044      0.965   -2.88e+05    3.02e+05\n",
      "pay_2[T.Delay 8 Months]   4.198e+04   1.51e+05      0.279      0.780   -2.53e+05    3.37e+05\n",
      "pay_2[T.Delay 9+ Months]  3.196e-11   2.08e-10      0.154      0.878   -3.75e-10    4.39e-10\n",
      "pay_3[T.Delay 1 Month]    9.609e+04   8.91e+04      1.079      0.281   -7.85e+04    2.71e+05\n",
      "pay_3[T.Delay 2 Months]  -4007.3173   2557.400     -1.567      0.117   -9019.729    1005.095\n",
      "pay_3[T.Delay 3 Months]  -5.745e+04   9947.351     -5.776      0.000   -7.69e+04    -3.8e+04\n",
      "pay_3[T.Delay 4 Months]  -1.797e+04   2.17e+04     -0.826      0.409   -6.06e+04    2.46e+04\n",
      "pay_3[T.Delay 5 Months]   5874.5005   4.52e+04      0.130      0.897   -8.27e+04    9.44e+04\n",
      "pay_3[T.Delay 6 Months]  -8.228e+04   8.99e+04     -0.915      0.360   -2.58e+05    9.39e+04\n",
      "pay_3[T.Delay 7 Months]  -4.695e+04   3.28e+04     -1.431      0.152   -1.11e+05    1.73e+04\n",
      "pay_3[T.Delay 8 Months]  -4.427e+04   9.41e+04     -0.470      0.638   -2.29e+05     1.4e+05\n",
      "pay_3[T.Delay 9+ Months]  7.406e-11    1.7e-10      0.436      0.663   -2.59e-10    4.07e-10\n",
      "pay_4[T.Delay 1 Month]    4.319e+04   1.21e+05      0.357      0.721   -1.94e+05     2.8e+05\n",
      "pay_4[T.Delay 2 Months]   -864.1950   2779.062     -0.311      0.756   -6311.056    4582.666\n",
      "pay_4[T.Delay 3 Months]  -4.028e+04   1.12e+04     -3.612      0.000   -6.21e+04   -1.84e+04\n",
      "pay_4[T.Delay 4 Months]  -2713.9106   2.23e+04     -0.122      0.903   -4.63e+04    4.09e+04\n",
      "pay_4[T.Delay 5 Months]   1.349e+04      4e+04      0.337      0.736    -6.5e+04     9.2e+04\n",
      "pay_4[T.Delay 6 Months]  -4.904e+04   9.16e+04     -0.535      0.592   -2.29e+05    1.31e+05\n",
      "pay_4[T.Delay 7 Months]  -5.661e+04   9.08e+04     -0.624      0.533   -2.35e+05    1.21e+05\n",
      "pay_4[T.Delay 8 Months]  -2.146e+04   1.55e+05     -0.138      0.890   -3.26e+05    2.83e+05\n",
      "pay_4[T.Delay 9+ Months] -4.068e-12   6.89e-11     -0.059      0.953   -1.39e-10    1.31e-10\n",
      "pay_5[T.Delay 1 Month]   -8.521e-12   9.91e-11     -0.086      0.932   -2.03e-10    1.86e-10\n",
      "pay_5[T.Delay 2 Months]    -52.9182   2492.528     -0.021      0.983   -4938.183    4832.346\n",
      "pay_5[T.Delay 3 Months]  -6.049e+04   1.07e+04     -5.672      0.000   -8.14e+04   -3.96e+04\n",
      "pay_5[T.Delay 4 Months]  -5.471e+04    1.9e+04     -2.875      0.004    -9.2e+04   -1.74e+04\n",
      "pay_5[T.Delay 5 Months]   1.202e+04   3.58e+04      0.335      0.737   -5.82e+04    8.23e+04\n",
      "pay_5[T.Delay 6 Months]   8.917e+04   1.03e+05      0.866      0.386   -1.13e+05    2.91e+05\n",
      "pay_5[T.Delay 7 Months]    863.6780   8.98e+04      0.010      0.992   -1.75e+05    1.77e+05\n",
      "pay_5[T.Delay 8 Months]  -1.714e+05   2.16e+05     -0.793      0.428   -5.95e+05    2.52e+05\n",
      "pay_5[T.Delay 9+ Months]          0          0        nan        nan           0           0\n",
      "age                       2330.6008     88.213     26.420      0.000    2157.706    2503.496\n",
      "============================================================================================\n"
     ]
    }
   ],
   "source": [
    "# Create the formula for the model\n",
    "formula = 'limit_bal ~ sex + education + marriage + age + pay_0 + pay_2 + pay_3 + pay_4 + pay_5'\n",
    "\n",
    "# Create the model\n",
    "esmap5_model = glm(formula, data = credit, family = sm.families.Gaussian()).fit()\n",
    "\n",
    "# Print the statistical summary\n",
    "print(esmap5_model.summary())"
   ]
  },
  {
   "cell_type": "code",
   "execution_count": 99,
   "id": "da174140",
   "metadata": {},
   "outputs": [
    {
     "name": "stdout",
     "output_type": "stream",
     "text": [
      "                 Generalized Linear Model Regression Results                  \n",
      "==============================================================================\n",
      "Dep. Variable:              limit_bal   No. Observations:                30000\n",
      "Model:                            GLM   Df Residuals:                    29946\n",
      "Model Family:                Gaussian   Df Model:                           53\n",
      "Link Function:               Identity   Scale:                      1.4623e+10\n",
      "Method:                          IRLS   Log-Likelihood:            -3.9363e+05\n",
      "Date:                Mon, 04 Aug 2025   Deviance:                   4.3789e+14\n",
      "Time:                        12:16:52   Pearson chi2:                 4.38e+14\n",
      "No. Iterations:                     3   Pseudo R-squ. (CS):             0.1419\n",
      "Covariance Type:            nonrobust                                         \n",
      "============================================================================================\n",
      "                               coef    std err          z      P>|z|      [0.025      0.975]\n",
      "--------------------------------------------------------------------------------------------\n",
      "Intercept                 1.524e+05   3815.124     39.952      0.000    1.45e+05     1.6e+05\n",
      "sex[T.Male]              -9569.5634   1442.044     -6.636      0.000   -1.24e+04   -6743.210\n",
      "education[T.University]  -6.779e+04   1579.110    -42.927      0.000   -7.09e+04   -6.47e+04\n",
      "education[T.High School] -1.021e+05   2154.836    -47.365      0.000   -1.06e+05   -9.78e+04\n",
      "education[T.Others]      -4.087e+04   5723.104     -7.141      0.000   -5.21e+04   -2.97e+04\n",
      "marriage[T.Others]       -7.703e+04   6820.715    -11.294      0.000   -9.04e+04   -6.37e+04\n",
      "marriage[T.Single]       -1.864e+04   1607.799    -11.595      0.000   -2.18e+04   -1.55e+04\n",
      "pay_0[T.Delay 1 Month]   -2.351e+04   3147.833     -7.469      0.000   -2.97e+04   -1.73e+04\n",
      "pay_0[T.Delay 2 Months]   7508.6848   2871.895      2.615      0.009    1879.875    1.31e+04\n",
      "pay_0[T.Delay 3 Months]  -5.562e+04   7783.581     -7.145      0.000   -7.09e+04   -4.04e+04\n",
      "pay_0[T.Delay 4 Months]   -1.97e+04   1.56e+04     -1.261      0.207   -5.03e+04    1.09e+04\n",
      "pay_0[T.Delay 5 Months]  -7644.5449   2.79e+04     -0.274      0.784   -6.23e+04     4.7e+04\n",
      "pay_0[T.Delay 6 Months]   1.551e+04   4.99e+04      0.311      0.756   -8.23e+04    1.13e+05\n",
      "pay_0[T.Delay 7 Months]   1.412e+04   8.15e+04      0.173      0.863   -1.46e+05    1.74e+05\n",
      "pay_0[T.Delay 8 Months]   5.873e+04   1.24e+05      0.473      0.636   -1.85e+05    3.02e+05\n",
      "pay_0[T.Delay 9+ Months]  1.805e-10   5.12e-10      0.353      0.724   -8.22e-10    1.18e-09\n",
      "pay_2[T.Delay 1 Month]    3.057e+04   2.49e+04      1.227      0.220   -1.83e+04    7.94e+04\n",
      "pay_2[T.Delay 2 Months]   9143.3733   3154.855      2.898      0.004    2959.970    1.53e+04\n",
      "pay_2[T.Delay 3 Months]  -3.828e+04   7955.434     -4.812      0.000   -5.39e+04   -2.27e+04\n",
      "pay_2[T.Delay 4 Months]  -2038.8780   1.71e+04     -0.119      0.905   -3.55e+04    3.15e+04\n",
      "pay_2[T.Delay 5 Months]  -2092.6627   3.93e+04     -0.053      0.957    -7.9e+04    7.49e+04\n",
      "pay_2[T.Delay 6 Months]   1.912e+04   8.31e+04      0.230      0.818   -1.44e+05    1.82e+05\n",
      "pay_2[T.Delay 7 Months]  -4.843e+04   1.55e+05     -0.312      0.755   -3.53e+05    2.56e+05\n",
      "pay_2[T.Delay 8 Months]    1.27e+05   1.59e+05      0.800      0.423   -1.84e+05    4.38e+05\n",
      "pay_2[T.Delay 9+ Months]  1.765e-11   2.59e-10      0.068      0.946   -4.89e-10    5.25e-10\n",
      "pay_3[T.Delay 1 Month]    9.598e+04    8.9e+04      1.078      0.281   -7.85e+04     2.7e+05\n",
      "pay_3[T.Delay 2 Months]  -3094.3778   2567.949     -1.205      0.228   -8127.466    1938.710\n",
      "pay_3[T.Delay 3 Months]   -5.58e+04   9964.672     -5.600      0.000   -7.53e+04   -3.63e+04\n",
      "pay_3[T.Delay 4 Months]  -2.392e+04   2.19e+04     -1.092      0.275   -6.69e+04     1.9e+04\n",
      "pay_3[T.Delay 5 Months]   5792.9179   4.55e+04      0.127      0.899   -8.35e+04    9.51e+04\n",
      "pay_3[T.Delay 6 Months]  -2.409e+04   9.97e+04     -0.242      0.809    -2.2e+05    1.71e+05\n",
      "pay_3[T.Delay 7 Months]  -5.475e+04   3.37e+04     -1.624      0.104   -1.21e+05    1.13e+04\n",
      "pay_3[T.Delay 8 Months]  -5.357e+04   9.84e+04     -0.544      0.586   -2.46e+05    1.39e+05\n",
      "pay_3[T.Delay 9+ Months] -4.634e-11   1.06e-10     -0.438      0.661   -2.54e-10    1.61e-10\n",
      "pay_4[T.Delay 1 Month]    4.488e+04   1.21e+05      0.371      0.711   -1.92e+05    2.82e+05\n",
      "pay_4[T.Delay 2 Months]   -724.3652   2778.264     -0.261      0.794   -6169.663    4720.932\n",
      "pay_4[T.Delay 3 Months]  -3.523e+04   1.13e+04     -3.129      0.002   -5.73e+04   -1.32e+04\n",
      "pay_4[T.Delay 4 Months]  -3868.0468   2.27e+04     -0.171      0.864   -4.83e+04    4.05e+04\n",
      "pay_4[T.Delay 5 Months]    1.28e+04   4.08e+04      0.314      0.754   -6.71e+04    9.27e+04\n",
      "pay_4[T.Delay 6 Months]  -1.137e+05   1.05e+05     -1.082      0.279    -3.2e+05    9.22e+04\n",
      "pay_4[T.Delay 7 Months]   4.291e+04   1.09e+05      0.395      0.693    -1.7e+05    2.56e+05\n",
      "pay_4[T.Delay 8 Months]   8.186e+04   1.63e+05      0.503      0.615   -2.37e+05    4.01e+05\n",
      "pay_4[T.Delay 9+ Months]  2.025e-11   5.44e-11      0.372      0.710   -8.63e-11    1.27e-10\n",
      "pay_5[T.Delay 1 Month]   -1.274e-10   1.14e-10     -1.118      0.263   -3.51e-10    9.59e-11\n",
      "pay_5[T.Delay 2 Months]   5975.8482   2945.140      2.029      0.042     203.479    1.17e+04\n",
      "pay_5[T.Delay 3 Months]  -4.441e+04   1.11e+04     -4.007      0.000   -6.61e+04   -2.27e+04\n",
      "pay_5[T.Delay 4 Months]  -1.015e+04   2.23e+04     -0.454      0.650   -5.39e+04    3.36e+04\n",
      "pay_5[T.Delay 5 Months]   4.618e+04   4.19e+04      1.101      0.271    -3.6e+04    1.28e+05\n",
      "pay_5[T.Delay 6 Months]   2.107e+04   1.15e+05      0.184      0.854   -2.04e+05    2.46e+05\n",
      "pay_5[T.Delay 7 Months]  -1.364e+05   1.19e+05     -1.150      0.250   -3.69e+05    9.61e+04\n",
      "pay_5[T.Delay 8 Months]  -6.075e+05    3.2e+05     -1.898      0.058   -1.23e+06       2e+04\n",
      "pay_5[T.Delay 9+ Months] -9.322e-11   5.16e-11     -1.808      0.071   -1.94e-10    7.84e-12\n",
      "pay_6[T.Delay 1 Month]     5.38e-12   1.06e-11      0.506      0.613   -1.55e-11    2.62e-11\n",
      "pay_6[T.Delay 2 Months]  -9239.8916   2419.571     -3.819      0.000    -1.4e+04   -4497.620\n",
      "pay_6[T.Delay 3 Months]  -4.736e+04   1.12e+04     -4.218      0.000   -6.94e+04   -2.54e+04\n",
      "pay_6[T.Delay 4 Months]  -4.729e+04   2.33e+04     -2.027      0.043    -9.3e+04   -1565.467\n",
      "pay_6[T.Delay 5 Months]  -1.582e+04   4.05e+04     -0.390      0.696   -9.53e+04    6.36e+04\n",
      "pay_6[T.Delay 6 Months]    3.73e+04   4.66e+04      0.800      0.424   -5.41e+04    1.29e+05\n",
      "pay_6[T.Delay 7 Months]    3.85e+04   6.41e+04      0.601      0.548   -8.71e+04    1.64e+05\n",
      "pay_6[T.Delay 8 Months]   3.406e+05   1.93e+05      1.768      0.077   -3.69e+04    7.18e+05\n",
      "pay_6[T.Delay 9+ Months]          0          0        nan        nan           0           0\n",
      "age                       2320.7229     88.207     26.310      0.000    2147.841    2493.605\n",
      "============================================================================================\n"
     ]
    }
   ],
   "source": [
    "# Create the formula for the model\n",
    "formula = 'limit_bal ~ sex + education + marriage + age + pay_0 + pay_2 + pay_3 + pay_4 + pay_5 + pay_6'\n",
    "\n",
    "# Create the model\n",
    "esmap6_model = glm(formula, data = credit, family = sm.families.Gaussian()).fit()\n",
    "\n",
    "# Print the statistical summary\n",
    "print(esmap6_model.summary())"
   ]
  },
  {
   "cell_type": "markdown",
   "id": "5eab235a",
   "metadata": {},
   "source": [
    "Interestingly, it seems the payment history provides little explaination for the variance of the credit limit. Even adding all the variables associated with payment history only provided a minor increase in R2. This indicates payment history is likely not as impactful as the remaining variables that haven't been included (statement balance and amount of last payment)."
   ]
  },
  {
   "cell_type": "markdown",
   "id": "20cda17d",
   "metadata": {},
   "source": [
    "Let's remove payment history from the model and focus on the amount of the last payment."
   ]
  },
  {
   "cell_type": "code",
   "execution_count": 100,
   "id": "fe0890b4",
   "metadata": {},
   "outputs": [
    {
     "name": "stdout",
     "output_type": "stream",
     "text": [
      "                 Generalized Linear Model Regression Results                  \n",
      "==============================================================================\n",
      "Dep. Variable:              limit_bal   No. Observations:                30000\n",
      "Model:                            GLM   Df Residuals:                    29991\n",
      "Model Family:                Gaussian   Df Model:                            8\n",
      "Link Function:               Identity   Scale:                      1.4363e+10\n",
      "Method:                          IRLS   Log-Likelihood:            -3.9338e+05\n",
      "Date:                Mon, 04 Aug 2025   Deviance:                   4.3075e+14\n",
      "Time:                        12:22:33   Pearson chi2:                 4.31e+14\n",
      "No. Iterations:                     3   Pseudo R-squ. (CS):             0.1583\n",
      "Covariance Type:            nonrobust                                         \n",
      "============================================================================================\n",
      "                               coef    std err          z      P>|z|      [0.025      0.975]\n",
      "--------------------------------------------------------------------------------------------\n",
      "Intercept                 1.423e+05   3740.786     38.041      0.000    1.35e+05     1.5e+05\n",
      "sex[T.Male]              -1.112e+04   1425.715     -7.800      0.000   -1.39e+04   -8326.051\n",
      "education[T.University]  -6.711e+04   1559.356    -43.039      0.000   -7.02e+04   -6.41e+04\n",
      "education[T.High School]  -1.01e+05   2129.598    -47.445      0.000   -1.05e+05   -9.69e+04\n",
      "education[T.Others]      -3.783e+04   5666.471     -6.677      0.000   -4.89e+04   -2.67e+04\n",
      "marriage[T.Others]       -8.036e+04   6754.175    -11.898      0.000   -9.36e+04   -6.71e+04\n",
      "marriage[T.Single]       -1.877e+04   1591.692    -11.792      0.000   -2.19e+04   -1.56e+04\n",
      "age                       2287.9085     87.315     26.203      0.000    2116.774    2459.043\n",
      "pay_amt1                     1.3817      0.042     33.012      0.000       1.300       1.464\n",
      "============================================================================================\n"
     ]
    }
   ],
   "source": [
    "# Create the formula for the model\n",
    "formula = 'limit_bal ~ sex + education + marriage + age + pay_amt1'\n",
    "\n",
    "# Create the model\n",
    "esmapmt_model = glm(formula, data = credit, family = sm.families.Gaussian()).fit()\n",
    "\n",
    "# Print the statistical summary\n",
    "print(esmapmt_model.summary())"
   ]
  },
  {
   "cell_type": "markdown",
   "id": "48f37c0a",
   "metadata": {},
   "source": [
    "That's a higher explaination in the variance (R2) compared to the model with the pay_0 variable. At first \"glance\" it appears that payment amount has a higher statistical impact than payment status. Each NT$1 increase in payment amount is associated with an NT$1.38 increase in credit limit (p < .001, 95% CI 1.30-1.464)."
   ]
  },
  {
   "cell_type": "markdown",
   "id": "3f188493",
   "metadata": {},
   "source": [
    "Let's add the next payment amount variable to see the impact on R2."
   ]
  },
  {
   "cell_type": "code",
   "execution_count": 101,
   "id": "61c36812",
   "metadata": {},
   "outputs": [
    {
     "name": "stdout",
     "output_type": "stream",
     "text": [
      "                 Generalized Linear Model Regression Results                  \n",
      "==============================================================================\n",
      "Dep. Variable:              limit_bal   No. Observations:                30000\n",
      "Model:                            GLM   Df Residuals:                    29990\n",
      "Model Family:                Gaussian   Df Model:                            9\n",
      "Link Function:               Identity   Scale:                      1.4136e+10\n",
      "Method:                          IRLS   Log-Likelihood:            -3.9314e+05\n",
      "Date:                Mon, 04 Aug 2025   Deviance:                   4.2393e+14\n",
      "Time:                        12:24:43   Pearson chi2:                 4.24e+14\n",
      "No. Iterations:                     3   Pseudo R-squ. (CS):             0.1740\n",
      "Covariance Type:            nonrobust                                         \n",
      "============================================================================================\n",
      "                               coef    std err          z      P>|z|      [0.025      0.975]\n",
      "--------------------------------------------------------------------------------------------\n",
      "Intercept                 1.397e+05   3712.962     37.636      0.000    1.32e+05    1.47e+05\n",
      "sex[T.Male]              -1.111e+04   1414.412     -7.856      0.000   -1.39e+04   -8339.569\n",
      "education[T.University]  -6.601e+04   1547.812    -42.646      0.000    -6.9e+04    -6.3e+04\n",
      "education[T.High School] -9.979e+04   2113.485    -47.214      0.000   -1.04e+05   -9.56e+04\n",
      "education[T.Others]      -3.843e+04   5621.616     -6.836      0.000   -4.94e+04   -2.74e+04\n",
      "marriage[T.Others]       -8.126e+04   6700.757    -12.127      0.000   -9.44e+04   -6.81e+04\n",
      "marriage[T.Single]       -1.847e+04   1579.131    -11.699      0.000   -2.16e+04   -1.54e+04\n",
      "age                       2264.6730     86.629     26.142      0.000    2094.883    2434.463\n",
      "pay_amt1                     1.1124      0.043     25.694      0.000       1.028       1.197\n",
      "pay_amt2                     0.6832      0.031     21.960      0.000       0.622       0.744\n",
      "============================================================================================\n"
     ]
    }
   ],
   "source": [
    "# Create the formula for the model\n",
    "formula = 'limit_bal ~ sex + education + marriage + age + pay_amt1 + pay_amt2'\n",
    "\n",
    "# Create the model\n",
    "esmapmt2_model = glm(formula, data = credit, family = sm.families.Gaussian()).fit()\n",
    "\n",
    "# Print the statistical summary\n",
    "print(esmapmt2_model.summary())"
   ]
  },
  {
   "cell_type": "markdown",
   "id": "085a22a9",
   "metadata": {},
   "source": [
    "Adding another payment amount variable has a bigger impact in variance explaination compared to payment history (pay_0, etc.). Let's continue adding payment amount variables to see each impact."
   ]
  },
  {
   "cell_type": "code",
   "execution_count": 102,
   "id": "c40b368d",
   "metadata": {},
   "outputs": [
    {
     "name": "stdout",
     "output_type": "stream",
     "text": [
      "                 Generalized Linear Model Regression Results                  \n",
      "==============================================================================\n",
      "Dep. Variable:              limit_bal   No. Observations:                30000\n",
      "Model:                            GLM   Df Residuals:                    29989\n",
      "Model Family:                Gaussian   Df Model:                           10\n",
      "Link Function:               Identity   Scale:                      1.3854e+10\n",
      "Method:                          IRLS   Log-Likelihood:            -3.9284e+05\n",
      "Date:                Mon, 04 Aug 2025   Deviance:                   4.1546e+14\n",
      "Time:                        12:34:45   Pearson chi2:                 4.15e+14\n",
      "No. Iterations:                     3   Pseudo R-squ. (CS):             0.1938\n",
      "Covariance Type:            nonrobust                                         \n",
      "============================================================================================\n",
      "                               coef    std err          z      P>|z|      [0.025      0.975]\n",
      "--------------------------------------------------------------------------------------------\n",
      "Intercept                 1.376e+05   3676.722     37.434      0.000     1.3e+05    1.45e+05\n",
      "sex[T.Male]               -1.13e+04   1400.250     -8.067      0.000    -1.4e+04   -8551.467\n",
      "education[T.University]  -6.466e+04   1533.268    -42.169      0.000   -6.77e+04   -6.17e+04\n",
      "education[T.High School] -9.759e+04   2094.179    -46.601      0.000   -1.02e+05   -9.35e+04\n",
      "education[T.Others]      -4.013e+04   5565.676     -7.211      0.000    -5.1e+04   -2.92e+04\n",
      "marriage[T.Others]       -8.169e+04   6633.594    -12.314      0.000   -9.47e+04   -6.87e+04\n",
      "marriage[T.Single]       -1.859e+04   1563.304    -11.891      0.000   -2.17e+04   -1.55e+04\n",
      "age                       2209.9938     85.789     25.761      0.000    2041.850    2378.138\n",
      "pay_amt1                     0.9029      0.044     20.666      0.000       0.817       0.989\n",
      "pay_amt2                     0.5403      0.031     17.241      0.000       0.479       0.602\n",
      "pay_amt3                     1.0055      0.041     24.730      0.000       0.926       1.085\n",
      "============================================================================================\n"
     ]
    }
   ],
   "source": [
    "# Create the formula for the model\n",
    "formula = 'limit_bal ~ sex + education + marriage + age + pay_amt1 + pay_amt2 + pay_amt3'\n",
    "\n",
    "# Create the model\n",
    "esmapmt3_model = glm(formula, data = credit, family = sm.families.Gaussian()).fit()\n",
    "\n",
    "# Print the statistical summary\n",
    "print(esmapmt3_model.summary())"
   ]
  },
  {
   "cell_type": "code",
   "execution_count": 103,
   "id": "d566891e",
   "metadata": {},
   "outputs": [
    {
     "name": "stdout",
     "output_type": "stream",
     "text": [
      "                 Generalized Linear Model Regression Results                  \n",
      "==============================================================================\n",
      "Dep. Variable:              limit_bal   No. Observations:                30000\n",
      "Model:                            GLM   Df Residuals:                    29988\n",
      "Model Family:                Gaussian   Df Model:                           11\n",
      "Link Function:               Identity   Scale:                      1.3608e+10\n",
      "Method:                          IRLS   Log-Likelihood:            -3.9257e+05\n",
      "Date:                Mon, 04 Aug 2025   Deviance:                   4.0807e+14\n",
      "Time:                        12:35:28   Pearson chi2:                 4.08e+14\n",
      "No. Iterations:                     3   Pseudo R-squ. (CS):             0.2114\n",
      "Covariance Type:            nonrobust                                         \n",
      "============================================================================================\n",
      "                               coef    std err          z      P>|z|      [0.025      0.975]\n",
      "--------------------------------------------------------------------------------------------\n",
      "Intercept                 1.343e+05   3646.747     36.828      0.000    1.27e+05    1.41e+05\n",
      "sex[T.Male]              -1.128e+04   1387.766     -8.130      0.000    -1.4e+04   -8561.883\n",
      "education[T.University]  -6.377e+04   1520.077    -41.950      0.000   -6.67e+04   -6.08e+04\n",
      "education[T.High School] -9.628e+04   2076.274    -46.370      0.000      -1e+05   -9.22e+04\n",
      "education[T.Others]       -3.89e+04   5516.307     -7.053      0.000   -4.97e+04   -2.81e+04\n",
      "marriage[T.Others]       -8.145e+04   6574.460    -12.389      0.000   -9.43e+04   -6.86e+04\n",
      "marriage[T.Single]       -1.819e+04   1549.461    -11.740      0.000   -2.12e+04   -1.52e+04\n",
      "age                       2191.2850     85.028     25.771      0.000    2024.633    2357.937\n",
      "pay_amt1                     0.7757      0.044     17.774      0.000       0.690       0.861\n",
      "pay_amt2                     0.4669      0.031     14.955      0.000       0.406       0.528\n",
      "pay_amt3                     0.8601      0.041     21.092      0.000       0.780       0.940\n",
      "pay_amt4                     1.0444      0.045     23.302      0.000       0.957       1.132\n",
      "============================================================================================\n"
     ]
    }
   ],
   "source": [
    "# Create the formula for the model\n",
    "formula = 'limit_bal ~ sex + education + marriage + age + pay_amt1 + pay_amt2 + pay_amt3 + pay_amt4'\n",
    "\n",
    "# Create the model\n",
    "esmapmt4_model = glm(formula, data = credit, family = sm.families.Gaussian()).fit()\n",
    "\n",
    "# Print the statistical summary\n",
    "print(esmapmt4_model.summary())"
   ]
  },
  {
   "cell_type": "code",
   "execution_count": 104,
   "id": "ff351f69",
   "metadata": {},
   "outputs": [
    {
     "name": "stdout",
     "output_type": "stream",
     "text": [
      "                 Generalized Linear Model Regression Results                  \n",
      "==============================================================================\n",
      "Dep. Variable:              limit_bal   No. Observations:                30000\n",
      "Model:                            GLM   Df Residuals:                    29987\n",
      "Model Family:                Gaussian   Df Model:                           12\n",
      "Link Function:               Identity   Scale:                      1.3297e+10\n",
      "Method:                          IRLS   Log-Likelihood:            -3.9222e+05\n",
      "Date:                Mon, 04 Aug 2025   Deviance:                   3.9874e+14\n",
      "Time:                        12:36:02   Pearson chi2:                 3.99e+14\n",
      "No. Iterations:                     3   Pseudo R-squ. (CS):             0.2339\n",
      "Covariance Type:            nonrobust                                         \n",
      "============================================================================================\n",
      "                               coef    std err          z      P>|z|      [0.025      0.975]\n",
      "--------------------------------------------------------------------------------------------\n",
      "Intercept                 1.317e+05   3606.191     36.526      0.000    1.25e+05    1.39e+05\n",
      "sex[T.Male]               -1.12e+04   1371.835     -8.161      0.000   -1.39e+04   -8506.946\n",
      "education[T.University]  -6.289e+04   1502.991    -41.841      0.000   -6.58e+04   -5.99e+04\n",
      "education[T.High School] -9.425e+04   2053.855    -45.890      0.000   -9.83e+04   -9.02e+04\n",
      "education[T.Others]      -3.865e+04   5452.974     -7.088      0.000   -4.93e+04    -2.8e+04\n",
      "marriage[T.Others]       -8.089e+04   6499.003    -12.447      0.000   -9.36e+04   -6.82e+04\n",
      "marriage[T.Single]       -1.846e+04   1531.702    -12.050      0.000   -2.15e+04   -1.55e+04\n",
      "age                       2141.3009     84.073     25.470      0.000    1976.521    2306.081\n",
      "pay_amt1                     0.6980      0.043     16.142      0.000       0.613       0.783\n",
      "pay_amt2                     0.3719      0.031     11.972      0.000       0.311       0.433\n",
      "pay_amt3                     0.7683      0.040     18.990      0.000       0.689       0.848\n",
      "pay_amt4                     0.9340      0.045     20.989      0.000       0.847       1.021\n",
      "pay_amt5                     1.1927      0.045     26.490      0.000       1.104       1.281\n",
      "============================================================================================\n"
     ]
    }
   ],
   "source": [
    "# Create the formula for the model\n",
    "formula = 'limit_bal ~ sex + education + marriage + age + pay_amt1 + pay_amt2 + pay_amt3 + pay_amt4 + pay_amt5'\n",
    "\n",
    "# Create the model\n",
    "esmapmt5_model = glm(formula, data = credit, family = sm.families.Gaussian()).fit()\n",
    "\n",
    "# Print the statistical summary\n",
    "print(esmapmt5_model.summary())"
   ]
  },
  {
   "cell_type": "code",
   "execution_count": 105,
   "id": "8500e5b7",
   "metadata": {},
   "outputs": [
    {
     "name": "stdout",
     "output_type": "stream",
     "text": [
      "                 Generalized Linear Model Regression Results                  \n",
      "==============================================================================\n",
      "Dep. Variable:              limit_bal   No. Observations:                30000\n",
      "Model:                            GLM   Df Residuals:                    29986\n",
      "Model Family:                Gaussian   Df Model:                           13\n",
      "Link Function:               Identity   Scale:                      1.3047e+10\n",
      "Method:                          IRLS   Log-Likelihood:            -3.9194e+05\n",
      "Date:                Mon, 04 Aug 2025   Deviance:                   3.9122e+14\n",
      "Time:                        12:36:37   Pearson chi2:                 3.91e+14\n",
      "No. Iterations:                     3   Pseudo R-squ. (CS):             0.2523\n",
      "Covariance Type:            nonrobust                                         \n",
      "============================================================================================\n",
      "                               coef    std err          z      P>|z|      [0.025      0.975]\n",
      "--------------------------------------------------------------------------------------------\n",
      "Intercept                 1.295e+05   3573.291     36.244      0.000    1.23e+05    1.37e+05\n",
      "sex[T.Male]              -1.119e+04   1358.868     -8.235      0.000   -1.39e+04   -8526.322\n",
      "education[T.University]  -6.203e+04   1489.213    -41.652      0.000   -6.49e+04   -5.91e+04\n",
      "education[T.High School] -9.262e+04   2035.574    -45.502      0.000   -9.66e+04   -8.86e+04\n",
      "education[T.Others]      -3.957e+04   5401.566     -7.326      0.000   -5.02e+04    -2.9e+04\n",
      "marriage[T.Others]       -7.896e+04   6438.076    -12.264      0.000   -9.16e+04   -6.63e+04\n",
      "marriage[T.Single]       -1.847e+04   1517.224    -12.172      0.000   -2.14e+04   -1.55e+04\n",
      "age                       2112.4857     83.287     25.364      0.000    1949.246    2275.725\n",
      "pay_amt1                     0.5875      0.043     13.638      0.000       0.503       0.672\n",
      "pay_amt2                     0.3212      0.031     10.414      0.000       0.261       0.382\n",
      "pay_amt3                     0.6934      0.040     17.251      0.000       0.615       0.772\n",
      "pay_amt4                     0.8405      0.044     18.994      0.000       0.754       0.927\n",
      "pay_amt5                     1.0880      0.045     24.281      0.000       1.000       1.176\n",
      "pay_amt6                     0.9264      0.039     24.001      0.000       0.851       1.002\n",
      "============================================================================================\n"
     ]
    }
   ],
   "source": [
    "# Create the formula for the model\n",
    "formula = 'limit_bal ~ sex + education + marriage + age + pay_amt1 + pay_amt2 + pay_amt3 + pay_amt4 + pay_amt5 + pay_amt6'\n",
    "\n",
    "# Create the model\n",
    "esmapmt6_model = glm(formula, data = credit, family = sm.families.Gaussian()).fit()\n",
    "\n",
    "# Print the statistical summary\n",
    "print(esmapmt6_model.summary())"
   ]
  },
  {
   "cell_type": "markdown",
   "id": "34487b74",
   "metadata": {},
   "source": [
    "Much better explaination of variance compared to payment history. All variables remained statistically significant in each of the payment amount models (all variables had a p < .001 and none of the 95% CI included 0). However, there is still much explainability that is missing as the R2 was only 0.2523 (25.23%)."
   ]
  },
  {
   "cell_type": "code",
   "execution_count": null,
   "id": "2b2c0e07",
   "metadata": {},
   "outputs": [],
   "source": []
  },
  {
   "cell_type": "markdown",
   "id": "a18df4af",
   "metadata": {},
   "source": [
    "Let's create a model with pay_0 and pay_amt1 to see the impact of payment history and payment amount."
   ]
  },
  {
   "cell_type": "code",
   "execution_count": 106,
   "id": "264397de",
   "metadata": {},
   "outputs": [
    {
     "name": "stdout",
     "output_type": "stream",
     "text": [
      "                 Generalized Linear Model Regression Results                  \n",
      "==============================================================================\n",
      "Dep. Variable:              limit_bal   No. Observations:                30000\n",
      "Model:                            GLM   Df Residuals:                    29983\n",
      "Model Family:                Gaussian   Df Model:                           16\n",
      "Link Function:               Identity   Scale:                      1.4248e+10\n",
      "Method:                          IRLS   Log-Likelihood:            -3.9326e+05\n",
      "Date:                Mon, 04 Aug 2025   Deviance:                   4.2719e+14\n",
      "Time:                        12:40:47   Pearson chi2:                 4.27e+14\n",
      "No. Iterations:                     3   Pseudo R-squ. (CS):             0.1665\n",
      "Covariance Type:            nonrobust                                         \n",
      "============================================================================================\n",
      "                               coef    std err          z      P>|z|      [0.025      0.975]\n",
      "--------------------------------------------------------------------------------------------\n",
      "Intercept                 1.437e+05   3758.876     38.222      0.000    1.36e+05    1.51e+05\n",
      "sex[T.Male]              -1.025e+04   1421.511     -7.213      0.000    -1.3e+04   -7467.467\n",
      "education[T.University]  -6.633e+04   1555.643    -42.637      0.000   -6.94e+04   -6.33e+04\n",
      "education[T.High School] -1.003e+05   2122.219    -47.283      0.000   -1.05e+05   -9.62e+04\n",
      "education[T.Others]      -3.912e+04   5645.588     -6.930      0.000   -5.02e+04   -2.81e+04\n",
      "marriage[T.Others]       -7.893e+04   6728.672    -11.731      0.000   -9.21e+04   -6.57e+04\n",
      "marriage[T.Single]       -1.865e+04   1586.000    -11.757      0.000   -2.18e+04   -1.55e+04\n",
      "pay_0[T.Delay 1 Month]   -1.697e+04   2142.177     -7.923      0.000   -2.12e+04   -1.28e+04\n",
      "pay_0[T.Delay 2 Months]   9932.3185   1827.628      5.435      0.000    6350.233    1.35e+04\n",
      "pay_0[T.Delay 3 Months]  -6.842e+04   6712.507    -10.193      0.000   -8.16e+04   -5.53e+04\n",
      "pay_0[T.Delay 4 Months]  -6.855e+04   1.37e+04     -4.995      0.000   -9.54e+04   -4.16e+04\n",
      "pay_0[T.Delay 5 Months]  -6.496e+04   2.34e+04     -2.772      0.006   -1.11e+05    -1.9e+04\n",
      "pay_0[T.Delay 6 Months]  -3.438e+04    3.6e+04     -0.955      0.340   -1.05e+05    3.62e+04\n",
      "pay_0[T.Delay 7 Months]  -8579.8408   3.98e+04     -0.216      0.829   -8.66e+04    6.94e+04\n",
      "pay_0[T.Delay 8 Months]  -4.863e+04   2.74e+04     -1.775      0.076   -1.02e+05    5070.715\n",
      "pay_0[T.Delay 9+ Months]  4.357e-11   1.45e-10      0.301      0.764    -2.4e-10    3.28e-10\n",
      "age                       2266.3684     87.004     26.049      0.000    2095.843    2436.894\n",
      "pay_amt1                     1.3479      0.042     32.225      0.000       1.266       1.430\n",
      "============================================================================================\n"
     ]
    }
   ],
   "source": [
    "# Create the formula for the model\n",
    "formula = 'limit_bal ~ sex + education + marriage + age + pay_amt1 + pay_0'\n",
    "\n",
    "# Create the model\n",
    "esmapaypmt_model = glm(formula, data = credit, family = sm.families.Gaussian()).fit()\n",
    "\n",
    "# Print the statistical summary\n",
    "print(esmapaypmt_model.summary())"
   ]
  },
  {
   "cell_type": "markdown",
   "id": "d85e906e",
   "metadata": {},
   "source": [
    "As expected, there is more explainability in the variance (R2 = 0.1665). A payment history with a delay of 2 months is still associated with an increase in credit limit and is statistically significant (p < .001, 95% CI 6350.233-13500)."
   ]
  },
  {
   "cell_type": "markdown",
   "id": "994d641a",
   "metadata": {},
   "source": [
    "Let's add the next pay and pay_amt variables."
   ]
  },
  {
   "cell_type": "code",
   "execution_count": 107,
   "id": "56ef8ddb",
   "metadata": {},
   "outputs": [
    {
     "name": "stdout",
     "output_type": "stream",
     "text": [
      "                 Generalized Linear Model Regression Results                  \n",
      "==============================================================================\n",
      "Dep. Variable:              limit_bal   No. Observations:                30000\n",
      "Model:                            GLM   Df Residuals:                    29974\n",
      "Model Family:                Gaussian   Df Model:                           25\n",
      "Link Function:               Identity   Scale:                      1.3991e+10\n",
      "Method:                          IRLS   Log-Likelihood:            -3.9298e+05\n",
      "Date:                Mon, 04 Aug 2025   Deviance:                   4.1937e+14\n",
      "Time:                        12:44:20   Pearson chi2:                 4.19e+14\n",
      "No. Iterations:                     3   Pseudo R-squ. (CS):             0.1846\n",
      "Covariance Type:            nonrobust                                         \n",
      "============================================================================================\n",
      "                               coef    std err          z      P>|z|      [0.025      0.975]\n",
      "--------------------------------------------------------------------------------------------\n",
      "Intercept                 1.408e+05   3728.034     37.774      0.000    1.34e+05    1.48e+05\n",
      "sex[T.Male]              -9985.0161   1409.097     -7.086      0.000   -1.27e+04   -7223.237\n",
      "education[T.University]  -6.474e+04   1543.581    -41.942      0.000   -6.78e+04   -6.17e+04\n",
      "education[T.High School] -9.834e+04   2105.915    -46.696      0.000   -1.02e+05   -9.42e+04\n",
      "education[T.Others]      -3.935e+04   5595.660     -7.032      0.000   -5.03e+04   -2.84e+04\n",
      "marriage[T.Others]       -7.959e+04   6668.599    -11.935      0.000   -9.27e+04   -6.65e+04\n",
      "marriage[T.Single]       -1.829e+04   1571.922    -11.635      0.000   -2.14e+04   -1.52e+04\n",
      "pay_0[T.Delay 1 Month]   -2.405e+04   3072.196     -7.830      0.000   -3.01e+04    -1.8e+04\n",
      "pay_0[T.Delay 2 Months]   1427.9088   2765.020      0.516      0.606   -3991.430    6847.248\n",
      "pay_0[T.Delay 3 Months]  -7.045e+04   7200.686     -9.784      0.000   -8.46e+04   -5.63e+04\n",
      "pay_0[T.Delay 4 Months]  -2.305e+04   1.52e+04     -1.515      0.130   -5.29e+04    6772.726\n",
      "pay_0[T.Delay 5 Months]  -4427.4236   2.72e+04     -0.163      0.871   -5.77e+04    4.88e+04\n",
      "pay_0[T.Delay 6 Months]   1.777e+04   4.78e+04      0.371      0.710    -7.6e+04    1.11e+05\n",
      "pay_0[T.Delay 7 Months]   2.041e+04   7.94e+04      0.257      0.797   -1.35e+05    1.76e+05\n",
      "pay_0[T.Delay 8 Months]   5.717e+04   1.21e+05      0.471      0.638   -1.81e+05    2.95e+05\n",
      "pay_0[T.Delay 9+ Months]  4.675e-10    1.5e-09      0.311      0.756   -2.48e-09    3.41e-09\n",
      "pay_2[T.Delay 1 Month]    3.238e+04   2.26e+04      1.434      0.151   -1.19e+04    7.66e+04\n",
      "pay_2[T.Delay 2 Months]   1.237e+04   2771.835      4.462      0.000    6934.980    1.78e+04\n",
      "pay_2[T.Delay 3 Months]  -3.897e+04   7467.348     -5.218      0.000   -5.36e+04   -2.43e+04\n",
      "pay_2[T.Delay 4 Months]  -5.942e+04   1.43e+04     -4.169      0.000   -8.74e+04   -3.15e+04\n",
      "pay_2[T.Delay 5 Months]  -5.001e+04   3.19e+04     -1.570      0.116   -1.12e+05    1.24e+04\n",
      "pay_2[T.Delay 6 Months]  -2.652e+04   6.89e+04     -0.385      0.701   -1.62e+05    1.09e+05\n",
      "pay_2[T.Delay 7 Months]  -1.032e+05   1.18e+05     -0.872      0.383   -3.35e+05    1.29e+05\n",
      "pay_2[T.Delay 8 Months]  -3.191e+04   1.18e+05     -0.270      0.787   -2.64e+05       2e+05\n",
      "pay_2[T.Delay 9+ Months]  1.321e-12   4.41e-12      0.299      0.765   -7.33e-12    9.97e-12\n",
      "age                       2228.2014     86.264     25.830      0.000    2059.127    2397.276\n",
      "pay_amt1                     1.0980      0.043     25.313      0.000       1.013       1.183\n",
      "pay_amt2                     0.6691      0.031     21.593      0.000       0.608       0.730\n",
      "============================================================================================\n"
     ]
    }
   ],
   "source": [
    "# Create the formula for the model\n",
    "formula = 'limit_bal ~ sex + education + marriage + age + pay_amt1 + pay_0 + pay_amt2 + pay_2'\n",
    "\n",
    "# Create the model\n",
    "esmapaypmt2_model = glm(formula, data = credit, family = sm.families.Gaussian()).fit()\n",
    "\n",
    "# Print the statistical summary\n",
    "print(esmapaypmt2_model.summary())"
   ]
  },
  {
   "cell_type": "code",
   "execution_count": 108,
   "id": "a836e5e0",
   "metadata": {},
   "outputs": [
    {
     "name": "stdout",
     "output_type": "stream",
     "text": [
      "                 Generalized Linear Model Regression Results                  \n",
      "==============================================================================\n",
      "Dep. Variable:              limit_bal   No. Observations:                30000\n",
      "Model:                            GLM   Df Residuals:                    29965\n",
      "Model Family:                Gaussian   Df Model:                           34\n",
      "Link Function:               Identity   Scale:                      1.3683e+10\n",
      "Method:                          IRLS   Log-Likelihood:            -3.9264e+05\n",
      "Date:                Mon, 04 Aug 2025   Deviance:                   4.1002e+14\n",
      "Time:                        12:51:05   Pearson chi2:                 4.10e+14\n",
      "No. Iterations:                     3   Pseudo R-squ. (CS):             0.2066\n",
      "Covariance Type:            nonrobust                                         \n",
      "============================================================================================\n",
      "                               coef    std err          z      P>|z|      [0.025      0.975]\n",
      "--------------------------------------------------------------------------------------------\n",
      "Intercept                 1.383e+05   3694.501     37.435      0.000    1.31e+05    1.46e+05\n",
      "sex[T.Male]              -9989.2113   1394.028     -7.166      0.000   -1.27e+04   -7256.967\n",
      "education[T.University]  -6.306e+04   1529.225    -41.236      0.000   -6.61e+04   -6.01e+04\n",
      "education[T.High School] -9.581e+04   2085.664    -45.935      0.000   -9.99e+04   -9.17e+04\n",
      "education[T.Others]       -4.11e+04   5536.003     -7.424      0.000    -5.2e+04   -3.03e+04\n",
      "marriage[T.Others]        -7.95e+04   6595.431    -12.054      0.000   -9.24e+04   -6.66e+04\n",
      "marriage[T.Single]       -1.823e+04   1554.777    -11.726      0.000   -2.13e+04   -1.52e+04\n",
      "pay_0[T.Delay 1 Month]   -2.186e+04   3043.886     -7.183      0.000   -2.78e+04   -1.59e+04\n",
      "pay_0[T.Delay 2 Months]   2860.5961   2748.243      1.041      0.298   -2525.861    8247.054\n",
      "pay_0[T.Delay 3 Months]  -6.568e+04   7134.267     -9.207      0.000   -7.97e+04   -5.17e+04\n",
      "pay_0[T.Delay 4 Months]  -2.377e+04   1.51e+04     -1.577      0.115   -5.33e+04    5763.168\n",
      "pay_0[T.Delay 5 Months]  -1242.1178   2.69e+04     -0.046      0.963   -5.41e+04    5.16e+04\n",
      "pay_0[T.Delay 6 Months]   1.929e+04   4.73e+04      0.408      0.683   -7.34e+04    1.12e+05\n",
      "pay_0[T.Delay 7 Months]    2.32e+04   7.85e+04      0.295      0.768   -1.31e+05    1.77e+05\n",
      "pay_0[T.Delay 8 Months]   5.902e+04    1.2e+05      0.492      0.623   -1.76e+05    2.94e+05\n",
      "pay_0[T.Delay 9+ Months]  3.726e-08   3.86e-07      0.096      0.923    -7.2e-07    7.95e-07\n",
      "pay_2[T.Delay 1 Month]    1.604e+04   2.41e+04      0.665      0.506   -3.12e+04    6.33e+04\n",
      "pay_2[T.Delay 2 Months]   1.311e+04   3054.255      4.293      0.000    7125.290    1.91e+04\n",
      "pay_2[T.Delay 3 Months]  -3.244e+04   7660.533     -4.235      0.000   -4.75e+04   -1.74e+04\n",
      "pay_2[T.Delay 4 Months]   6380.3375   1.64e+04      0.388      0.698   -2.59e+04    3.86e+04\n",
      "pay_2[T.Delay 5 Months]    1.18e+04   3.58e+04      0.329      0.742   -5.85e+04    8.21e+04\n",
      "pay_2[T.Delay 6 Months]   4498.7194   7.87e+04      0.057      0.954    -1.5e+05    1.59e+05\n",
      "pay_2[T.Delay 7 Months]  -1.658e+04   1.35e+05     -0.123      0.902   -2.81e+05    2.48e+05\n",
      "pay_2[T.Delay 8 Months]   5.287e+04   1.19e+05      0.443      0.658   -1.81e+05    2.87e+05\n",
      "pay_2[T.Delay 9+ Months]  8.189e-09   8.46e-08      0.097      0.923   -1.58e-07    1.74e-07\n",
      "pay_3[T.Delay 1 Month]    1.293e+05   6.32e+04      2.045      0.041    5404.288    2.53e+05\n",
      "pay_3[T.Delay 2 Months]   -144.6983   2135.087     -0.068      0.946   -4329.392    4039.996\n",
      "pay_3[T.Delay 3 Months]  -6.661e+04   9225.080     -7.220      0.000   -8.47e+04   -4.85e+04\n",
      "pay_3[T.Delay 4 Months]  -6.066e+04   1.72e+04     -3.526      0.000   -9.44e+04   -2.69e+04\n",
      "pay_3[T.Delay 5 Months]  -3.064e+04   3.91e+04     -0.783      0.433   -1.07e+05     4.6e+04\n",
      "pay_3[T.Delay 6 Months]  -8.544e+04   6.76e+04     -1.263      0.206   -2.18e+05    4.71e+04\n",
      "pay_3[T.Delay 7 Months]  -8.553e+04   2.31e+04     -3.706      0.000   -1.31e+05   -4.03e+04\n",
      "pay_3[T.Delay 8 Months]  -1.075e+05   6.76e+04     -1.589      0.112    -2.4e+05    2.51e+04\n",
      "pay_3[T.Delay 9+ Months] -1.983e-10    1.9e-09     -0.104      0.917   -3.92e-09    3.52e-09\n",
      "age                       2167.4360     85.351     25.394      0.000    2000.151    2334.721\n",
      "pay_amt1                     0.8978      0.044     20.539      0.000       0.812       0.984\n",
      "pay_amt2                     0.5259      0.031     16.799      0.000       0.465       0.587\n",
      "pay_amt3                     0.9882      0.040     24.429      0.000       0.909       1.067\n",
      "============================================================================================\n"
     ]
    }
   ],
   "source": [
    "# Create the formula for the model\n",
    "formula = 'limit_bal ~ sex + education + marriage + age + pay_amt1 + pay_0 + pay_amt2 + pay_2 + pay_amt3 + pay_3'\n",
    "\n",
    "# Create the model\n",
    "esmapaypmt3_model = glm(formula, data = credit, family = sm.families.Gaussian()).fit()\n",
    "\n",
    "# Print the statistical summary\n",
    "print(esmapaypmt3_model.summary())"
   ]
  },
  {
   "cell_type": "code",
   "execution_count": 109,
   "id": "4a83b638",
   "metadata": {},
   "outputs": [
    {
     "name": "stdout",
     "output_type": "stream",
     "text": [
      "                 Generalized Linear Model Regression Results                  \n",
      "==============================================================================\n",
      "Dep. Variable:              limit_bal   No. Observations:                30000\n",
      "Model:                            GLM   Df Residuals:                    29956\n",
      "Model Family:                Gaussian   Df Model:                           43\n",
      "Link Function:               Identity   Scale:                      1.3429e+10\n",
      "Method:                          IRLS   Log-Likelihood:            -3.9236e+05\n",
      "Date:                Mon, 04 Aug 2025   Deviance:                   4.0229e+14\n",
      "Time:                        12:51:48   Pearson chi2:                 4.02e+14\n",
      "No. Iterations:                     3   Pseudo R-squ. (CS):             0.2251\n",
      "Covariance Type:            nonrobust                                         \n",
      "============================================================================================\n",
      "                               coef    std err          z      P>|z|      [0.025      0.975]\n",
      "--------------------------------------------------------------------------------------------\n",
      "Intercept                 1.343e+05   3665.526     36.639      0.000    1.27e+05    1.41e+05\n",
      "sex[T.Male]              -9759.3705   1381.561     -7.064      0.000   -1.25e+04   -7051.561\n",
      "education[T.University]   -6.19e+04   1516.575    -40.817      0.000   -6.49e+04   -5.89e+04\n",
      "education[T.High School] -9.401e+04   2068.962    -45.439      0.000   -9.81e+04      -9e+04\n",
      "education[T.Others]      -3.969e+04   5484.986     -7.237      0.000   -5.04e+04   -2.89e+04\n",
      "marriage[T.Others]       -7.896e+04   6534.554    -12.083      0.000   -9.18e+04   -6.62e+04\n",
      "marriage[T.Single]       -1.779e+04   1540.567    -11.547      0.000   -2.08e+04   -1.48e+04\n",
      "pay_0[T.Delay 1 Month]   -2.041e+04   3018.959     -6.761      0.000   -2.63e+04   -1.45e+04\n",
      "pay_0[T.Delay 2 Months]   2553.2318   2745.632      0.930      0.352   -2828.109    7934.573\n",
      "pay_0[T.Delay 3 Months]  -5.594e+04   7409.138     -7.550      0.000   -7.05e+04   -4.14e+04\n",
      "pay_0[T.Delay 4 Months]  -1.896e+04   1.49e+04     -1.268      0.205   -4.83e+04    1.03e+04\n",
      "pay_0[T.Delay 5 Months]   -526.8036   2.67e+04     -0.020      0.984   -5.29e+04    5.18e+04\n",
      "pay_0[T.Delay 6 Months]   2.139e+04   4.74e+04      0.451      0.652   -7.15e+04    1.14e+05\n",
      "pay_0[T.Delay 7 Months]   2.441e+04   7.78e+04      0.314      0.754   -1.28e+05    1.77e+05\n",
      "pay_0[T.Delay 8 Months]   6.061e+04   1.19e+05      0.510      0.610   -1.73e+05    2.94e+05\n",
      "pay_0[T.Delay 9+ Months]  1.305e-07   1.22e-05      0.011      0.991   -2.37e-05     2.4e-05\n",
      "pay_2[T.Delay 1 Month]    1.531e+04   2.39e+04      0.641      0.522   -3.15e+04    6.22e+04\n",
      "pay_2[T.Delay 2 Months]   1.171e+04   3029.158      3.865      0.000    5769.270    1.76e+04\n",
      "pay_2[T.Delay 3 Months]  -3.249e+04   7605.814     -4.272      0.000   -4.74e+04   -1.76e+04\n",
      "pay_2[T.Delay 4 Months]  -3487.9201   1.63e+04     -0.213      0.831   -3.55e+04    2.85e+04\n",
      "pay_2[T.Delay 5 Months]   7526.4029   3.69e+04      0.204      0.838   -6.48e+04    7.98e+04\n",
      "pay_2[T.Delay 6 Months]   2.036e+04   7.95e+04      0.256      0.798   -1.35e+05    1.76e+05\n",
      "pay_2[T.Delay 7 Months]  -3.045e+04   1.43e+05     -0.213      0.832   -3.11e+05     2.5e+05\n",
      "pay_2[T.Delay 8 Months]   4.099e+04   1.38e+05      0.298      0.766   -2.29e+05    3.11e+05\n",
      "pay_2[T.Delay 9+ Months] -3.279e-09   3.08e-07     -0.011      0.992   -6.07e-07    6.01e-07\n",
      "pay_3[T.Delay 1 Month]    8.992e+04   8.53e+04      1.054      0.292   -7.73e+04    2.57e+05\n",
      "pay_3[T.Delay 2 Months]  -2852.0969   2457.164     -1.161      0.246   -7668.051    1963.857\n",
      "pay_3[T.Delay 3 Months]  -6.133e+04   9464.364     -6.481      0.000   -7.99e+04   -4.28e+04\n",
      "pay_3[T.Delay 4 Months]  -7890.3691   2.04e+04     -0.387      0.699   -4.79e+04    3.21e+04\n",
      "pay_3[T.Delay 5 Months]   5637.1367   4.31e+04      0.131      0.896   -7.89e+04    9.02e+04\n",
      "pay_3[T.Delay 6 Months]  -5.858e+04   8.41e+04     -0.697      0.486   -2.23e+05    1.06e+05\n",
      "pay_3[T.Delay 7 Months]  -4.328e+04   3.12e+04     -1.388      0.165   -1.04e+05    1.78e+04\n",
      "pay_3[T.Delay 8 Months]  -4.709e+04   7.55e+04     -0.624      0.533   -1.95e+05    1.01e+05\n",
      "pay_3[T.Delay 9+ Months] -1.699e-09   1.61e-07     -0.011      0.992   -3.18e-07    3.14e-07\n",
      "pay_4[T.Delay 1 Month]    5.086e+04   1.16e+05      0.439      0.661   -1.76e+05    2.78e+05\n",
      "pay_4[T.Delay 2 Months]   6920.7419   2219.140      3.119      0.002    2571.308    1.13e+04\n",
      "pay_4[T.Delay 3 Months]  -4.704e+04   1.01e+04     -4.670      0.000   -6.68e+04   -2.73e+04\n",
      "pay_4[T.Delay 4 Months]  -4.972e+04   1.84e+04     -2.701      0.007   -8.58e+04   -1.36e+04\n",
      "pay_4[T.Delay 5 Months]  -1.094e+04   3.31e+04     -0.331      0.741   -7.57e+04    5.38e+04\n",
      "pay_4[T.Delay 6 Months]  -2.896e+04   7.25e+04     -0.400      0.689   -1.71e+05    1.13e+05\n",
      "pay_4[T.Delay 7 Months]  -3.775e+04   2.15e+04     -1.753      0.080      -8e+04    4459.902\n",
      "pay_4[T.Delay 8 Months]  -9.829e+04   9.24e+04     -1.064      0.287   -2.79e+05    8.27e+04\n",
      "pay_4[T.Delay 9+ Months] -6.497e-12   4.15e-10     -0.016      0.988   -8.19e-10    8.06e-10\n",
      "age                       2140.4077     84.578     25.307      0.000    1974.638    2306.178\n",
      "pay_amt1                     0.7752      0.044     17.759      0.000       0.690       0.861\n",
      "pay_amt2                     0.4554      0.031     14.612      0.000       0.394       0.517\n",
      "pay_amt3                     0.8539      0.041     21.005      0.000       0.774       0.934\n",
      "pay_amt4                     1.0273      0.045     23.048      0.000       0.940       1.115\n",
      "============================================================================================\n"
     ]
    }
   ],
   "source": [
    "# Create the formula for the model\n",
    "formula = 'limit_bal ~ sex + education + marriage + age + pay_amt1 + pay_0 + pay_amt2 + pay_2 + pay_amt3 + pay_3 + pay_amt4 + pay_4'\n",
    "\n",
    "# Create the model\n",
    "esmapaypmt4_model = glm(formula, data = credit, family = sm.families.Gaussian()).fit()\n",
    "\n",
    "# Print the statistical summary\n",
    "print(esmapaypmt4_model.summary())"
   ]
  },
  {
   "cell_type": "code",
   "execution_count": 110,
   "id": "24f8d3d3",
   "metadata": {},
   "outputs": [
    {
     "name": "stdout",
     "output_type": "stream",
     "text": [
      "                 Generalized Linear Model Regression Results                  \n",
      "==============================================================================\n",
      "Dep. Variable:              limit_bal   No. Observations:                30000\n",
      "Model:                            GLM   Df Residuals:                    29948\n",
      "Model Family:                Gaussian   Df Model:                           51\n",
      "Link Function:               Identity   Scale:                      1.3107e+10\n",
      "Method:                          IRLS   Log-Likelihood:            -3.9199e+05\n",
      "Date:                Mon, 04 Aug 2025   Deviance:                   3.9254e+14\n",
      "Time:                        12:52:32   Pearson chi2:                 3.93e+14\n",
      "No. Iterations:                     3   Pseudo R-squ. (CS):             0.2488\n",
      "Covariance Type:            nonrobust                                         \n",
      "============================================================================================\n",
      "                               coef    std err          z      P>|z|      [0.025      0.975]\n",
      "--------------------------------------------------------------------------------------------\n",
      "Intercept                 1.305e+05   3626.110     35.995      0.000    1.23e+05    1.38e+05\n",
      "sex[T.Male]              -9596.1652   1365.203     -7.029      0.000   -1.23e+04   -6920.416\n",
      "education[T.University]  -6.063e+04   1499.956    -40.423      0.000   -6.36e+04   -5.77e+04\n",
      "education[T.High School] -9.158e+04   2047.428    -44.727      0.000   -9.56e+04   -8.76e+04\n",
      "education[T.Others]      -3.917e+04   5418.957     -7.229      0.000   -4.98e+04   -2.86e+04\n",
      "marriage[T.Others]       -7.834e+04   6456.893    -12.133      0.000    -9.1e+04   -6.57e+04\n",
      "marriage[T.Single]       -1.791e+04   1522.257    -11.766      0.000   -2.09e+04   -1.49e+04\n",
      "pay_0[T.Delay 1 Month]   -1.855e+04   2984.081     -6.217      0.000   -2.44e+04   -1.27e+04\n",
      "pay_0[T.Delay 2 Months]   1907.3501   2721.218      0.701      0.483   -3426.140    7240.840\n",
      "pay_0[T.Delay 3 Months]  -5.118e+04   7347.259     -6.965      0.000   -6.56e+04   -3.68e+04\n",
      "pay_0[T.Delay 4 Months]  -2.462e+04   1.48e+04     -1.666      0.096   -5.36e+04    4346.775\n",
      "pay_0[T.Delay 5 Months]  -1062.2546   2.64e+04     -0.040      0.968   -5.28e+04    5.07e+04\n",
      "pay_0[T.Delay 6 Months]   8253.5748   4.72e+04      0.175      0.861   -8.42e+04    1.01e+05\n",
      "pay_0[T.Delay 7 Months]   2.886e+04   7.72e+04      0.374      0.708   -1.22e+05     1.8e+05\n",
      "pay_0[T.Delay 8 Months]   6.254e+04   1.18e+05      0.532      0.595   -1.68e+05    2.93e+05\n",
      "pay_0[T.Delay 9+ Months] -4.983e-06   3.04e-05     -0.164      0.870   -6.47e-05    5.47e-05\n",
      "pay_2[T.Delay 1 Month]    1.381e+04   2.36e+04      0.585      0.559   -3.25e+04    6.01e+04\n",
      "pay_2[T.Delay 2 Months]   1.074e+04   2999.395      3.580      0.000    4860.583    1.66e+04\n",
      "pay_2[T.Delay 3 Months]  -3.214e+04   7519.319     -4.274      0.000   -4.69e+04   -1.74e+04\n",
      "pay_2[T.Delay 4 Months]  -3591.6861   1.62e+04     -0.222      0.824   -3.53e+04    2.81e+04\n",
      "pay_2[T.Delay 5 Months]    855.9806   3.71e+04      0.023      0.982   -7.18e+04    7.36e+04\n",
      "pay_2[T.Delay 6 Months]   1.418e+04   7.85e+04      0.181      0.857    -1.4e+05    1.68e+05\n",
      "pay_2[T.Delay 7 Months]  -4117.3956   1.42e+05     -0.029      0.977   -2.83e+05    2.75e+05\n",
      "pay_2[T.Delay 8 Months]   3.724e+04   1.43e+05      0.261      0.794   -2.42e+05    3.17e+05\n",
      "pay_2[T.Delay 9+ Months] -1.633e-07   9.98e-07     -0.164      0.870   -2.12e-06    1.79e-06\n",
      "pay_3[T.Delay 1 Month]    9.626e+04   8.43e+04      1.142      0.254    -6.9e+04    2.61e+05\n",
      "pay_3[T.Delay 2 Months]  -2668.0139   2428.951     -1.098      0.272   -7428.669    2092.642\n",
      "pay_3[T.Delay 3 Months]  -5.416e+04   9417.669     -5.751      0.000   -7.26e+04   -3.57e+04\n",
      "pay_3[T.Delay 4 Months]   -1.78e+04   2.06e+04     -0.865      0.387   -5.81e+04    2.25e+04\n",
      "pay_3[T.Delay 5 Months]   1.003e+04   4.27e+04      0.235      0.815   -7.38e+04    9.38e+04\n",
      "pay_3[T.Delay 6 Months]  -6.722e+04   8.51e+04     -0.790      0.429   -2.34e+05    9.95e+04\n",
      "pay_3[T.Delay 7 Months]  -3.562e+04    3.1e+04     -1.148      0.251   -9.65e+04    2.52e+04\n",
      "pay_3[T.Delay 8 Months]  -4.707e+04   8.91e+04     -0.528      0.597   -2.22e+05    1.28e+05\n",
      "pay_3[T.Delay 9+ Months]  8.678e-09   5.33e-08      0.163      0.871   -9.58e-08    1.13e-07\n",
      "pay_4[T.Delay 1 Month]    3.884e+04   1.15e+05      0.339      0.735   -1.86e+05    2.63e+05\n",
      "pay_4[T.Delay 2 Months]   3604.8527   2636.900      1.367      0.172   -1563.376    8773.082\n",
      "pay_4[T.Delay 3 Months]  -3.667e+04   1.06e+04     -3.473      0.001   -5.74e+04    -1.6e+04\n",
      "pay_4[T.Delay 4 Months]   2543.2550   2.11e+04      0.121      0.904   -3.87e+04    4.38e+04\n",
      "pay_4[T.Delay 5 Months]    2.13e+04   3.79e+04      0.562      0.574    -5.3e+04    9.56e+04\n",
      "pay_4[T.Delay 6 Months]  -4.362e+04   8.67e+04     -0.503      0.615   -2.14e+05    1.26e+05\n",
      "pay_4[T.Delay 7 Months]  -3.711e+04   8.59e+04     -0.432      0.666   -2.05e+05    1.31e+05\n",
      "pay_4[T.Delay 8 Months]  -1.006e+04   1.47e+05     -0.068      0.945   -2.98e+05    2.78e+05\n",
      "pay_4[T.Delay 9+ Months]  2.183e-08   1.33e-07      0.164      0.870   -2.39e-07    2.83e-07\n",
      "pay_5[T.Delay 1 Month]    3.285e-09      2e-08      0.164      0.869   -3.59e-08    4.25e-08\n",
      "pay_5[T.Delay 2 Months]   7456.8930   2367.602      3.150      0.002    2816.478    1.21e+04\n",
      "pay_5[T.Delay 3 Months]  -5.106e+04   1.01e+04     -5.057      0.000   -7.08e+04   -3.13e+04\n",
      "pay_5[T.Delay 4 Months]   -4.79e+04    1.8e+04     -2.660      0.008   -8.32e+04   -1.26e+04\n",
      "pay_5[T.Delay 5 Months]    1.14e+04   3.39e+04      0.336      0.737   -5.51e+04    7.79e+04\n",
      "pay_5[T.Delay 6 Months]   7.148e+04   9.74e+04      0.734      0.463    -1.2e+05    2.62e+05\n",
      "pay_5[T.Delay 7 Months]  -4824.5952    8.5e+04     -0.057      0.955   -1.71e+05    1.62e+05\n",
      "pay_5[T.Delay 8 Months]  -1.448e+05   2.04e+05     -0.708      0.479   -5.46e+05    2.56e+05\n",
      "pay_5[T.Delay 9+ Months]          0          0        nan        nan           0           0\n",
      "age                       2091.8857     83.585     25.027      0.000    1928.062    2255.710\n",
      "pay_amt1                     0.7010      0.043     16.221      0.000       0.616       0.786\n",
      "pay_amt2                     0.3617      0.031     11.671      0.000       0.301       0.422\n",
      "pay_amt3                     0.7674      0.040     19.039      0.000       0.688       0.846\n",
      "pay_amt4                     0.9289      0.044     20.935      0.000       0.842       1.016\n",
      "pay_amt5                     1.1794      0.045     26.339      0.000       1.092       1.267\n",
      "============================================================================================\n"
     ]
    }
   ],
   "source": [
    "# Create the formula for the model\n",
    "formula = 'limit_bal ~ sex + education + marriage + age + pay_amt1 + pay_0 + pay_amt2 + pay_2 + pay_amt3 + pay_3 + pay_amt4 + pay_4 + pay_amt5 + pay_5'\n",
    "\n",
    "# Create the model\n",
    "esmapaypmt5_model = glm(formula, data = credit, family = sm.families.Gaussian()).fit()\n",
    "\n",
    "# Print the statistical summary\n",
    "print(esmapaypmt5_model.summary())"
   ]
  },
  {
   "cell_type": "code",
   "execution_count": 111,
   "id": "e3e3be67",
   "metadata": {},
   "outputs": [
    {
     "name": "stdout",
     "output_type": "stream",
     "text": [
      "                 Generalized Linear Model Regression Results                  \n",
      "==============================================================================\n",
      "Dep. Variable:              limit_bal   No. Observations:                30000\n",
      "Model:                            GLM   Df Residuals:                    29940\n",
      "Model Family:                Gaussian   Df Model:                           59\n",
      "Link Function:               Identity   Scale:                      1.2858e+10\n",
      "Method:                          IRLS   Log-Likelihood:            -3.9170e+05\n",
      "Date:                Mon, 04 Aug 2025   Deviance:                   3.8497e+14\n",
      "Time:                        12:53:01   Pearson chi2:                 3.85e+14\n",
      "No. Iterations:                     3   Pseudo R-squ. (CS):             0.2674\n",
      "Covariance Type:            nonrobust                                         \n",
      "============================================================================================\n",
      "                               coef    std err          z      P>|z|      [0.025      0.975]\n",
      "--------------------------------------------------------------------------------------------\n",
      "Intercept                 1.281e+05   3598.284     35.596      0.000    1.21e+05    1.35e+05\n",
      "sex[T.Male]              -9541.2300   1352.281     -7.056      0.000   -1.22e+04   -6890.808\n",
      "education[T.University]  -5.969e+04   1486.331    -40.162      0.000   -6.26e+04   -5.68e+04\n",
      "education[T.High School] -8.987e+04   2029.678    -44.279      0.000   -9.39e+04   -8.59e+04\n",
      "education[T.Others]      -3.997e+04   5367.679     -7.446      0.000   -5.05e+04   -2.94e+04\n",
      "marriage[T.Others]       -7.646e+04   6396.787    -11.953      0.000    -8.9e+04   -6.39e+04\n",
      "marriage[T.Single]       -1.796e+04   1507.899    -11.909      0.000   -2.09e+04    -1.5e+04\n",
      "pay_0[T.Delay 1 Month]   -1.697e+04   2956.719     -5.739      0.000   -2.28e+04   -1.12e+04\n",
      "pay_0[T.Delay 2 Months]   1842.2590   2697.294      0.683      0.495   -3444.341    7128.859\n",
      "pay_0[T.Delay 3 Months]  -4.922e+04   7300.686     -6.742      0.000   -6.35e+04   -3.49e+04\n",
      "pay_0[T.Delay 4 Months]   -2.52e+04   1.47e+04     -1.720      0.085   -5.39e+04    3514.255\n",
      "pay_0[T.Delay 5 Months]  -2.206e+04   2.62e+04     -0.843      0.399   -7.34e+04    2.92e+04\n",
      "pay_0[T.Delay 6 Months]   5984.8392   4.68e+04      0.128      0.898   -8.58e+04    9.78e+04\n",
      "pay_0[T.Delay 7 Months]   1.459e+04   7.65e+04      0.191      0.849   -1.35e+05    1.64e+05\n",
      "pay_0[T.Delay 8 Months]   6.352e+04   1.16e+05      0.546      0.585   -1.65e+05    2.92e+05\n",
      "pay_0[T.Delay 9+ Months]  1.742e-06   1.46e-06      1.195      0.232   -1.12e-06     4.6e-06\n",
      "pay_2[T.Delay 1 Month]    9902.7462   2.34e+04      0.423      0.672   -3.59e+04    5.57e+04\n",
      "pay_2[T.Delay 2 Months]   1.021e+04   2972.451      3.436      0.001    4387.709     1.6e+04\n",
      "pay_2[T.Delay 3 Months]  -3.374e+04   7467.084     -4.519      0.000   -4.84e+04   -1.91e+04\n",
      "pay_2[T.Delay 4 Months]  -1532.7926    1.6e+04     -0.096      0.924    -3.3e+04    2.99e+04\n",
      "pay_2[T.Delay 5 Months]   9122.5727   3.68e+04      0.248      0.804    -6.3e+04    8.13e+04\n",
      "pay_2[T.Delay 6 Months]   1.539e+04    7.8e+04      0.197      0.844   -1.37e+05    1.68e+05\n",
      "pay_2[T.Delay 7 Months]  -4.693e+04   1.46e+05     -0.322      0.747   -3.32e+05    2.38e+05\n",
      "pay_2[T.Delay 8 Months]   9.567e+04   1.49e+05      0.643      0.520   -1.96e+05    3.87e+05\n",
      "pay_2[T.Delay 9+ Months]  9.754e-07   8.17e-07      1.194      0.232   -6.25e-07    2.58e-06\n",
      "pay_3[T.Delay 1 Month]    1.025e+05   8.35e+04      1.228      0.220   -6.11e+04    2.66e+05\n",
      "pay_3[T.Delay 2 Months]  -2039.7561   2416.672     -0.844      0.399   -6776.345    2696.833\n",
      "pay_3[T.Delay 3 Months]  -5.162e+04   9348.227     -5.522      0.000   -6.99e+04   -3.33e+04\n",
      "pay_3[T.Delay 4 Months]  -2.745e+04   2.05e+04     -1.336      0.181   -6.77e+04    1.28e+04\n",
      "pay_3[T.Delay 5 Months]   9031.5962   4.27e+04      0.211      0.833   -7.47e+04    9.27e+04\n",
      "pay_3[T.Delay 6 Months]  -2.519e+04   9.35e+04     -0.269      0.788   -2.08e+05    1.58e+05\n",
      "pay_3[T.Delay 7 Months]  -3.989e+04   3.16e+04     -1.262      0.207   -1.02e+05    2.21e+04\n",
      "pay_3[T.Delay 8 Months]  -5.229e+04   9.23e+04     -0.567      0.571   -2.33e+05    1.29e+05\n",
      "pay_3[T.Delay 9+ Months] -3.664e-06   3.07e-06     -1.195      0.232   -9.68e-06    2.35e-06\n",
      "pay_4[T.Delay 1 Month]   -9.674e+04   1.14e+05     -0.852      0.394   -3.19e+05    1.26e+05\n",
      "pay_4[T.Delay 2 Months]   3788.7954   2612.077      1.450      0.147   -1330.782    8908.373\n",
      "pay_4[T.Delay 3 Months]  -3.078e+04   1.06e+04     -2.915      0.004   -5.15e+04   -1.01e+04\n",
      "pay_4[T.Delay 4 Months]   4454.5705   2.12e+04      0.210      0.834   -3.72e+04    4.61e+04\n",
      "pay_4[T.Delay 5 Months]    2.05e+04   3.82e+04      0.536      0.592   -5.44e+04    9.54e+04\n",
      "pay_4[T.Delay 6 Months]  -8.971e+04   9.85e+04     -0.911      0.363   -2.83e+05    1.03e+05\n",
      "pay_4[T.Delay 7 Months]   3.755e+04   1.02e+05      0.369      0.712   -1.62e+05    2.37e+05\n",
      "pay_4[T.Delay 8 Months]   6.871e+04   1.53e+05      0.450      0.653    -2.3e+05    3.68e+05\n",
      "pay_4[T.Delay 9+ Months] -3.015e-07   2.52e-07     -1.196      0.232   -7.96e-07    1.93e-07\n",
      "pay_5[T.Delay 1 Month]    3.741e-08    3.1e-08      1.208      0.227   -2.33e-08    9.81e-08\n",
      "pay_5[T.Delay 2 Months]   7287.7313   2770.685      2.630      0.009    1857.288    1.27e+04\n",
      "pay_5[T.Delay 3 Months]  -4.323e+04   1.04e+04     -4.158      0.000   -6.36e+04   -2.29e+04\n",
      "pay_5[T.Delay 4 Months]  -1.104e+04   2.09e+04     -0.527      0.598   -5.21e+04       3e+04\n",
      "pay_5[T.Delay 5 Months]   3.972e+04   3.93e+04      1.010      0.313   -3.74e+04    1.17e+05\n",
      "pay_5[T.Delay 6 Months]   2.213e+04   1.08e+05      0.206      0.837   -1.89e+05    2.33e+05\n",
      "pay_5[T.Delay 7 Months]  -1.112e+05   1.11e+05     -0.999      0.318   -3.29e+05    1.07e+05\n",
      "pay_5[T.Delay 8 Months]  -4.754e+05      3e+05     -1.584      0.113   -1.06e+06    1.13e+05\n",
      "pay_5[T.Delay 9+ Months]  1.298e-08   1.08e-08      1.204      0.228   -8.14e-09    3.41e-08\n",
      "pay_6[T.Delay 1 Month]     1.75e-08   1.47e-08      1.190      0.234   -1.13e-08    4.63e-08\n",
      "pay_6[T.Delay 2 Months]    896.4747   2280.320      0.393      0.694   -3572.870    5365.819\n",
      "pay_6[T.Delay 3 Months]  -3.423e+04   1.05e+04     -3.250      0.001   -5.49e+04   -1.36e+04\n",
      "pay_6[T.Delay 4 Months]   -3.64e+04   2.19e+04     -1.664      0.096   -7.93e+04    6477.990\n",
      "pay_6[T.Delay 5 Months]  -9550.8923    3.8e+04     -0.251      0.802   -8.41e+04     6.5e+04\n",
      "pay_6[T.Delay 6 Months]   3.024e+04   4.37e+04      0.692      0.489   -5.54e+04    1.16e+05\n",
      "pay_6[T.Delay 7 Months]   3.598e+04   6.01e+04      0.599      0.549   -8.18e+04    1.54e+05\n",
      "pay_6[T.Delay 8 Months]   2.617e+05   1.81e+05      1.449      0.147   -9.23e+04    6.16e+05\n",
      "pay_6[T.Delay 9+ Months]          0          0        nan        nan           0           0\n",
      "age                       2056.9360     82.824     24.835      0.000    1894.605    2219.267\n",
      "pay_amt1                     0.5917      0.043     13.748      0.000       0.507       0.676\n",
      "pay_amt2                     0.3126      0.031     10.160      0.000       0.252       0.373\n",
      "pay_amt3                     0.6942      0.040     17.340      0.000       0.616       0.773\n",
      "pay_amt4                     0.8385      0.044     19.006      0.000       0.752       0.925\n",
      "pay_amt5                     1.0778      0.045     24.090      0.000       0.990       1.165\n",
      "pay_amt6                     0.9203      0.038     23.920      0.000       0.845       0.996\n",
      "============================================================================================\n"
     ]
    }
   ],
   "source": [
    "# Create the formula for the model\n",
    "formula = 'limit_bal ~ sex + education + marriage + age + pay_amt1 + pay_0 + pay_amt2 + pay_2 + pay_amt3 + pay_3 + pay_amt4 + pay_4 + pay_amt5 + pay_5 + pay_amt6 + pay_6'\n",
    "\n",
    "# Create the model\n",
    "esmapaypmt6_model = glm(formula, data = credit, family = sm.families.Gaussian()).fit()\n",
    "\n",
    "# Print the statistical summary\n",
    "print(esmapaypmt6_model.summary())"
   ]
  },
  {
   "cell_type": "markdown",
   "id": "518421b2",
   "metadata": {},
   "source": [
    "Not much difference in R2 with all payment history and payment amount variables included when compared to the models with only payment history or payment amount (pay_6 = )"
   ]
  },
  {
   "cell_type": "markdown",
   "id": "fc30ae7b",
   "metadata": {},
   "source": [
    "### Code Not Used:"
   ]
  },
  {
   "cell_type": "code",
   "execution_count": 72,
   "id": "888fdb5f",
   "metadata": {},
   "outputs": [],
   "source": [
    "# Define the categories\n",
    "cat_dict = {\n",
    "    'education': ['Graduate', 'University', 'High School', 'Others'],\n",
    "    'sex': ['Male', 'Female'],\n",
    "    'marriage': ['Married', 'Single', 'Others'],\n",
    "    'pay_0': ['Pay Duly', 'Delay One Month', 'Delay Two Months', 'Delay Three Months', 'Delay Four Months', 'Delay Five Months', 'Delay Six Months', 'Delay Seven Months', 'Delay Eight Months', 'Delay Nine Months'],\n",
    "    'pay_2': ['Pay Duly', 'Delay One Month', 'Delay Two Months', 'Delay Three Months', 'Delay Four Months', 'Delay Five Months', 'Delay Six Months', 'Delay Seven Months', 'Delay Eight Months', 'Delay Nine Months'],\n",
    "    'pay_3': ['Pay Duly', 'Delay One Month', 'Delay Two Months', 'Delay Three Months', 'Delay Four Months', 'Delay Five Months', 'Delay Six Months', 'Delay Seven Months', 'Delay Eight Months', 'Delay Nine Months'],\n",
    "    'pay_4': ['Pay Duly', 'Delay One Month', 'Delay Two Months', 'Delay Three Months', 'Delay Four Months', 'Delay Five Months', 'Delay Six Months', 'Delay Seven Months', 'Delay Eight Months', 'Delay Nine Months'],\n",
    "    'pay_5': ['Pay Duly', 'Delay One Month', 'Delay Two Months', 'Delay Three Months', 'Delay Four Months', 'Delay Five Months', 'Delay Six Months', 'Delay Seven Months', 'Delay Eight Months', 'Delay Nine Months'],\n",
    "    'pay_6': ['Pay Duly', 'Delay One Month', 'Delay Two Months', 'Delay Three Months', 'Delay Four Months', 'Delay Five Months', 'Delay Six Months', 'Delay Seven Months', 'Delay Eight Months', 'Delay Nine Months']\n",
    "}\n",
    "\n",
    "# Convert to categorical using a loop\n",
    "for col in cat_cols:\n",
    "    if col in cat_dict:\n",
    "        credit[col] = pd.Categorical(\n",
    "            credit[col],\n",
    "            categories=cat_dict[col]\n",
    "        )\n",
    "\n",
    "\n",
    "\n"
   ]
  }
 ],
 "metadata": {
  "kernelspec": {
   "display_name": "Python 3",
   "language": "python",
   "name": "python3"
  },
  "language_info": {
   "codemirror_mode": {
    "name": "ipython",
    "version": 3
   },
   "file_extension": ".py",
   "mimetype": "text/x-python",
   "name": "python",
   "nbconvert_exporter": "python",
   "pygments_lexer": "ipython3",
   "version": "3.12.3"
  }
 },
 "nbformat": 4,
 "nbformat_minor": 5
}
