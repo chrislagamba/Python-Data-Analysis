{
 "cells": [
  {
   "cell_type": "markdown",
   "id": "23f1982b",
   "metadata": {},
   "source": [
    "Per the UCI Machine Learning Repository, the following is the description of each of the variables:\n",
    "* X1: Amount of the given credit (NT dollar): it includes both the individual consumer credit and his/her family (supplementary) credit.\n",
    "* X2: Gender (1 = male; 2 = female).\n",
    "* X3: Education (1 = graduate school; 2 = university; 3 = high school; 4 = others).\n",
    "* X4: Marital status (1 = married; 2 = single; 3 = others).\n",
    "* X5: Age (year).\n",
    "* X6 - X11: History of past payment. We tracked the past monthly payment records (from April to September, 2005) as follows: \n",
    "    - X6 = the repayment status in September, 2005\n",
    "    - X7 = the repayment status in August, 2005; . . .\n",
    "    - X11 = the repayment status in April, 2005. \n",
    "    - The measurement scale for the repayment status is: \n",
    "        - -1 = pay duly\n",
    "        - 1 = payment delay for one month\n",
    "        - 2 = payment delay for two months; . . .\n",
    "        - 8 = payment delay for eight months\n",
    "        - 9 = payment delay for nine months and above.\n",
    "* X12-X17: Amount of bill statement (NT dollar)\n",
    "    - X12 = amount of bill statement in September, 2005\n",
    "    - X13 = amount of bill statement in August, 2005; . . .\n",
    "    - X17 = amount of bill statement in April, 2005. \n",
    "* X18-X23: Amount of previous payment (NT dollar).\n",
    "    - X18 = amount paid in September, 2005\n",
    "    - X19 = amount paid in August, 2005 . . .\n",
    "    - X23 = amount paid in April, 2005.\n",
    "\n",
    "Based on the descriptions, payment history is available for 6 months (April - September). Repayment status is available for 9+ months depending on the debtor.\n",
    "\n",
    "There are some interesting variables (education level, marital status, etc.) that can be explored to determine their effects on payment history."
   ]
  },
  {
   "cell_type": "code",
   "execution_count": 99,
   "id": "b4269936",
   "metadata": {},
   "outputs": [],
   "source": [
    "# Load the necessary libraries\n",
    "\n",
    "import pandas as pd\n",
    "import numpy as np\n",
    "import matplotlib.pyplot as plt"
   ]
  },
  {
   "cell_type": "code",
   "execution_count": 100,
   "id": "6200ccc1",
   "metadata": {},
   "outputs": [],
   "source": [
    "# Load the dataset\n",
    "\n",
    "credit = pd.read_excel('/home/bruce/Desktop/coding-projects/Other Datasets/default of credit card clients.xls', header=1)"
   ]
  },
  {
   "cell_type": "markdown",
   "id": "27d311c6",
   "metadata": {},
   "source": [
    "Dataset is loaded without issues. Will complete an initial inspection of the dataset to determine datatypes, missing, etc."
   ]
  },
  {
   "cell_type": "code",
   "execution_count": 101,
   "id": "e9e2ff1c",
   "metadata": {},
   "outputs": [
    {
     "data": {
      "text/html": [
       "<div>\n",
       "<style scoped>\n",
       "    .dataframe tbody tr th:only-of-type {\n",
       "        vertical-align: middle;\n",
       "    }\n",
       "\n",
       "    .dataframe tbody tr th {\n",
       "        vertical-align: top;\n",
       "    }\n",
       "\n",
       "    .dataframe thead th {\n",
       "        text-align: right;\n",
       "    }\n",
       "</style>\n",
       "<table border=\"1\" class=\"dataframe\">\n",
       "  <thead>\n",
       "    <tr style=\"text-align: right;\">\n",
       "      <th></th>\n",
       "      <th>ID</th>\n",
       "      <th>LIMIT_BAL</th>\n",
       "      <th>SEX</th>\n",
       "      <th>EDUCATION</th>\n",
       "      <th>MARRIAGE</th>\n",
       "      <th>AGE</th>\n",
       "      <th>PAY_0</th>\n",
       "      <th>PAY_2</th>\n",
       "      <th>PAY_3</th>\n",
       "      <th>PAY_4</th>\n",
       "      <th>...</th>\n",
       "      <th>BILL_AMT4</th>\n",
       "      <th>BILL_AMT5</th>\n",
       "      <th>BILL_AMT6</th>\n",
       "      <th>PAY_AMT1</th>\n",
       "      <th>PAY_AMT2</th>\n",
       "      <th>PAY_AMT3</th>\n",
       "      <th>PAY_AMT4</th>\n",
       "      <th>PAY_AMT5</th>\n",
       "      <th>PAY_AMT6</th>\n",
       "      <th>default payment next month</th>\n",
       "    </tr>\n",
       "  </thead>\n",
       "  <tbody>\n",
       "    <tr>\n",
       "      <th>0</th>\n",
       "      <td>1</td>\n",
       "      <td>20000</td>\n",
       "      <td>2</td>\n",
       "      <td>2</td>\n",
       "      <td>1</td>\n",
       "      <td>24</td>\n",
       "      <td>2</td>\n",
       "      <td>2</td>\n",
       "      <td>-1</td>\n",
       "      <td>-1</td>\n",
       "      <td>...</td>\n",
       "      <td>0</td>\n",
       "      <td>0</td>\n",
       "      <td>0</td>\n",
       "      <td>0</td>\n",
       "      <td>689</td>\n",
       "      <td>0</td>\n",
       "      <td>0</td>\n",
       "      <td>0</td>\n",
       "      <td>0</td>\n",
       "      <td>1</td>\n",
       "    </tr>\n",
       "    <tr>\n",
       "      <th>1</th>\n",
       "      <td>2</td>\n",
       "      <td>120000</td>\n",
       "      <td>2</td>\n",
       "      <td>2</td>\n",
       "      <td>2</td>\n",
       "      <td>26</td>\n",
       "      <td>-1</td>\n",
       "      <td>2</td>\n",
       "      <td>0</td>\n",
       "      <td>0</td>\n",
       "      <td>...</td>\n",
       "      <td>3272</td>\n",
       "      <td>3455</td>\n",
       "      <td>3261</td>\n",
       "      <td>0</td>\n",
       "      <td>1000</td>\n",
       "      <td>1000</td>\n",
       "      <td>1000</td>\n",
       "      <td>0</td>\n",
       "      <td>2000</td>\n",
       "      <td>1</td>\n",
       "    </tr>\n",
       "    <tr>\n",
       "      <th>2</th>\n",
       "      <td>3</td>\n",
       "      <td>90000</td>\n",
       "      <td>2</td>\n",
       "      <td>2</td>\n",
       "      <td>2</td>\n",
       "      <td>34</td>\n",
       "      <td>0</td>\n",
       "      <td>0</td>\n",
       "      <td>0</td>\n",
       "      <td>0</td>\n",
       "      <td>...</td>\n",
       "      <td>14331</td>\n",
       "      <td>14948</td>\n",
       "      <td>15549</td>\n",
       "      <td>1518</td>\n",
       "      <td>1500</td>\n",
       "      <td>1000</td>\n",
       "      <td>1000</td>\n",
       "      <td>1000</td>\n",
       "      <td>5000</td>\n",
       "      <td>0</td>\n",
       "    </tr>\n",
       "    <tr>\n",
       "      <th>3</th>\n",
       "      <td>4</td>\n",
       "      <td>50000</td>\n",
       "      <td>2</td>\n",
       "      <td>2</td>\n",
       "      <td>1</td>\n",
       "      <td>37</td>\n",
       "      <td>0</td>\n",
       "      <td>0</td>\n",
       "      <td>0</td>\n",
       "      <td>0</td>\n",
       "      <td>...</td>\n",
       "      <td>28314</td>\n",
       "      <td>28959</td>\n",
       "      <td>29547</td>\n",
       "      <td>2000</td>\n",
       "      <td>2019</td>\n",
       "      <td>1200</td>\n",
       "      <td>1100</td>\n",
       "      <td>1069</td>\n",
       "      <td>1000</td>\n",
       "      <td>0</td>\n",
       "    </tr>\n",
       "    <tr>\n",
       "      <th>4</th>\n",
       "      <td>5</td>\n",
       "      <td>50000</td>\n",
       "      <td>1</td>\n",
       "      <td>2</td>\n",
       "      <td>1</td>\n",
       "      <td>57</td>\n",
       "      <td>-1</td>\n",
       "      <td>0</td>\n",
       "      <td>-1</td>\n",
       "      <td>0</td>\n",
       "      <td>...</td>\n",
       "      <td>20940</td>\n",
       "      <td>19146</td>\n",
       "      <td>19131</td>\n",
       "      <td>2000</td>\n",
       "      <td>36681</td>\n",
       "      <td>10000</td>\n",
       "      <td>9000</td>\n",
       "      <td>689</td>\n",
       "      <td>679</td>\n",
       "      <td>0</td>\n",
       "    </tr>\n",
       "  </tbody>\n",
       "</table>\n",
       "<p>5 rows × 25 columns</p>\n",
       "</div>"
      ],
      "text/plain": [
       "   ID  LIMIT_BAL  SEX  EDUCATION  MARRIAGE  AGE  PAY_0  PAY_2  PAY_3  PAY_4  \\\n",
       "0   1      20000    2          2         1   24      2      2     -1     -1   \n",
       "1   2     120000    2          2         2   26     -1      2      0      0   \n",
       "2   3      90000    2          2         2   34      0      0      0      0   \n",
       "3   4      50000    2          2         1   37      0      0      0      0   \n",
       "4   5      50000    1          2         1   57     -1      0     -1      0   \n",
       "\n",
       "   ...  BILL_AMT4  BILL_AMT5  BILL_AMT6  PAY_AMT1  PAY_AMT2  PAY_AMT3  \\\n",
       "0  ...          0          0          0         0       689         0   \n",
       "1  ...       3272       3455       3261         0      1000      1000   \n",
       "2  ...      14331      14948      15549      1518      1500      1000   \n",
       "3  ...      28314      28959      29547      2000      2019      1200   \n",
       "4  ...      20940      19146      19131      2000     36681     10000   \n",
       "\n",
       "   PAY_AMT4  PAY_AMT5  PAY_AMT6  default payment next month  \n",
       "0         0         0         0                           1  \n",
       "1      1000         0      2000                           1  \n",
       "2      1000      1000      5000                           0  \n",
       "3      1100      1069      1000                           0  \n",
       "4      9000       689       679                           0  \n",
       "\n",
       "[5 rows x 25 columns]"
      ]
     },
     "execution_count": 101,
     "metadata": {},
     "output_type": "execute_result"
    }
   ],
   "source": [
    "# Check the head of the dataset\n",
    "credit.head()"
   ]
  },
  {
   "cell_type": "code",
   "execution_count": 102,
   "id": "0bdb1a66",
   "metadata": {},
   "outputs": [
    {
     "data": {
      "text/plain": [
       "ID                            0\n",
       "LIMIT_BAL                     0\n",
       "SEX                           0\n",
       "EDUCATION                     0\n",
       "MARRIAGE                      0\n",
       "AGE                           0\n",
       "PAY_0                         0\n",
       "PAY_2                         0\n",
       "PAY_3                         0\n",
       "PAY_4                         0\n",
       "PAY_5                         0\n",
       "PAY_6                         0\n",
       "BILL_AMT1                     0\n",
       "BILL_AMT2                     0\n",
       "BILL_AMT3                     0\n",
       "BILL_AMT4                     0\n",
       "BILL_AMT5                     0\n",
       "BILL_AMT6                     0\n",
       "PAY_AMT1                      0\n",
       "PAY_AMT2                      0\n",
       "PAY_AMT3                      0\n",
       "PAY_AMT4                      0\n",
       "PAY_AMT5                      0\n",
       "PAY_AMT6                      0\n",
       "default payment next month    0\n",
       "dtype: int64"
      ]
     },
     "execution_count": 102,
     "metadata": {},
     "output_type": "execute_result"
    }
   ],
   "source": [
    "# Verify there is no missing data\n",
    "credit.isna().sum()"
   ]
  },
  {
   "cell_type": "code",
   "execution_count": 103,
   "id": "fcc5183e",
   "metadata": {},
   "outputs": [
    {
     "data": {
      "text/plain": [
       "ID                            int64\n",
       "LIMIT_BAL                     int64\n",
       "SEX                           int64\n",
       "EDUCATION                     int64\n",
       "MARRIAGE                      int64\n",
       "AGE                           int64\n",
       "PAY_0                         int64\n",
       "PAY_2                         int64\n",
       "PAY_3                         int64\n",
       "PAY_4                         int64\n",
       "PAY_5                         int64\n",
       "PAY_6                         int64\n",
       "BILL_AMT1                     int64\n",
       "BILL_AMT2                     int64\n",
       "BILL_AMT3                     int64\n",
       "BILL_AMT4                     int64\n",
       "BILL_AMT5                     int64\n",
       "BILL_AMT6                     int64\n",
       "PAY_AMT1                      int64\n",
       "PAY_AMT2                      int64\n",
       "PAY_AMT3                      int64\n",
       "PAY_AMT4                      int64\n",
       "PAY_AMT5                      int64\n",
       "PAY_AMT6                      int64\n",
       "default payment next month    int64\n",
       "dtype: object"
      ]
     },
     "execution_count": 103,
     "metadata": {},
     "output_type": "execute_result"
    }
   ],
   "source": [
    "# Verify datatypes\n",
    "credit.dtypes"
   ]
  },
  {
   "cell_type": "markdown",
   "id": "ecdb6b44",
   "metadata": {},
   "source": [
    "The following variables need to be changed:\n",
    "* X2, X3, X4 = categorical\n",
    "* X6-X11 = categorical"
   ]
  },
  {
   "cell_type": "markdown",
   "id": "023cfb5d",
   "metadata": {},
   "source": [
    "Initial inspection completed. Time to preprocess the data."
   ]
  },
  {
   "cell_type": "code",
   "execution_count": 104,
   "id": "2b05dbb4",
   "metadata": {},
   "outputs": [
    {
     "data": {
      "text/plain": [
       "Index(['id', 'limit_bal', 'sex', 'education', 'marriage', 'age', 'pay_0',\n",
       "       'pay_2', 'pay_3', 'pay_4', 'pay_5', 'pay_6', 'bill_amt1', 'bill_amt2',\n",
       "       'bill_amt3', 'bill_amt4', 'bill_amt5', 'bill_amt6', 'pay_amt1',\n",
       "       'pay_amt2', 'pay_amt3', 'pay_amt4', 'pay_amt5', 'pay_amt6',\n",
       "       'default payment next month'],\n",
       "      dtype='object')"
      ]
     },
     "execution_count": 104,
     "metadata": {},
     "output_type": "execute_result"
    }
   ],
   "source": [
    "# Convert column names to lowercase to avoid errors\n",
    "credit.columns = credit.columns.str.lower()\n",
    "credit.columns"
   ]
  },
  {
   "cell_type": "code",
   "execution_count": 105,
   "id": "5fdc8267",
   "metadata": {},
   "outputs": [
    {
     "data": {
      "text/plain": [
       "id                               int64\n",
       "limit_bal                        int64\n",
       "sex                           category\n",
       "education                     category\n",
       "marriage                      category\n",
       "age                              int64\n",
       "pay_0                         category\n",
       "pay_2                         category\n",
       "pay_3                         category\n",
       "pay_4                         category\n",
       "pay_5                         category\n",
       "pay_6                         category\n",
       "bill_amt1                        int64\n",
       "bill_amt2                        int64\n",
       "bill_amt3                        int64\n",
       "bill_amt4                        int64\n",
       "bill_amt5                        int64\n",
       "bill_amt6                        int64\n",
       "pay_amt1                         int64\n",
       "pay_amt2                         int64\n",
       "pay_amt3                         int64\n",
       "pay_amt4                         int64\n",
       "pay_amt5                         int64\n",
       "pay_amt6                         int64\n",
       "default payment next month       int64\n",
       "dtype: object"
      ]
     },
     "execution_count": 105,
     "metadata": {},
     "output_type": "execute_result"
    }
   ],
   "source": [
    "## Convert sex, education, marriage, pay_0, pay_2, pay_3, pay_4, pay_5, pay_6 to categorical and verify change\n",
    "\n",
    "# Define mapping for categorical variables\n",
    "education_map = {1: 'Graduate', 2: 'University', 3: 'High School', 4: 'Others'}\n",
    "gender_map = {1: 'Male', 2: 'Female'}\n",
    "marriage_map = {1: 'Married', 2: 'Single', 3: 'Others'}\n",
    "pay_map = {\n",
    "    -1: 'Pay Duly',\n",
    "    1: 'Delay 1 Month',\n",
    "    2: 'Delay 2 Months',\n",
    "    3: 'Delay 3 Months',\n",
    "    4: 'Delay 4 Months',\n",
    "    5: 'Delay 5 Months',\n",
    "    6: 'Delay 6 Months',\n",
    "    7: 'Delay 7 Months',\n",
    "    8: 'Delay 8 Months',\n",
    "    9: 'Delay 9+ Months'\n",
    "}\n",
    "\n",
    "# Define category lists\n",
    "education_cats = ['Graduate', 'University', 'High School', 'Others']\n",
    "gender_cats = ['Male', 'Female']\n",
    "marriage_cats = ['Married', 'Single', 'Others']\n",
    "pay_cats = [\n",
    "    'Pay Duly',\n",
    "    'Delay 1 Month',\n",
    "    'Delay 2 Months',\n",
    "    'Delay 3 Months',\n",
    "    'Delay 4 Months',\n",
    "    'Delay 5 Months',\n",
    "    'Delay 6 Months',\n",
    "    'Delay 7 Months',\n",
    "    'Delay 8 Months',\n",
    "    'Delay 9+ Months'\n",
    "]\n",
    "\n",
    "# Apply mapping and categorical conversion in one step\n",
    "credit['sex'] = credit['sex'].map(gender_map).astype('category')\n",
    "\n",
    "credit['education'] = pd.Categorical(\n",
    "    credit['education'].map(education_map),\n",
    "    categories=education_cats,\n",
    "    ordered=True\n",
    ")\n",
    "\n",
    "credit['marriage'] = credit['marriage'].map(marriage_map).astype('category')\n",
    "\n",
    "# For pay columns: map AND convert with explicit categories/order\n",
    "for pay_col in ['pay_0', 'pay_2', 'pay_3', 'pay_4', 'pay_5', 'pay_6']:\n",
    "    credit[pay_col] = pd.Categorical(\n",
    "        credit[pay_col].map(pay_map),\n",
    "        categories=pay_cats,\n",
    "        ordered=True\n",
    "    )\n",
    "\n",
    "# Verify change to categorical\n",
    "credit.dtypes"
   ]
  },
  {
   "cell_type": "code",
   "execution_count": 106,
   "id": "60ba9c83",
   "metadata": {},
   "outputs": [
    {
     "name": "stdout",
     "output_type": "stream",
     "text": [
      "Education categories: ['Graduate', 'University', 'High School', 'Others']\n",
      "Marriage categories: ['Married', 'Others', 'Single']\n",
      "Gender categories: ['Female', 'Male']\n",
      "Pay_0 categories: ['Pay Duly', 'Delay 1 Month', 'Delay 2 Months', 'Delay 3 Months', 'Delay 4 Months', 'Delay 5 Months', 'Delay 6 Months', 'Delay 7 Months', 'Delay 8 Months', 'Delay 9+ Months']\n"
     ]
    }
   ],
   "source": [
    "# Verify categories\n",
    "print(\"Education categories:\", credit['education'].cat.categories.tolist())\n",
    "print(\"Marriage categories:\", credit['marriage'].cat.categories.tolist())\n",
    "print(\"Gender categories:\", credit['sex'].cat.categories.tolist())\n",
    "print(\"Pay_0 categories:\", credit['pay_0'].cat.categories.tolist())"
   ]
  },
  {
   "cell_type": "code",
   "execution_count": 107,
   "id": "b3c806ef",
   "metadata": {},
   "outputs": [
    {
     "data": {
      "text/plain": [
       "id                                0\n",
       "limit_bal                         0\n",
       "sex                               0\n",
       "education                       345\n",
       "marriage                         54\n",
       "age                               0\n",
       "pay_0                         17496\n",
       "pay_2                         19512\n",
       "pay_3                         19849\n",
       "pay_4                         20803\n",
       "pay_5                         21493\n",
       "pay_6                         21181\n",
       "bill_amt1                         0\n",
       "bill_amt2                         0\n",
       "bill_amt3                         0\n",
       "bill_amt4                         0\n",
       "bill_amt5                         0\n",
       "bill_amt6                         0\n",
       "pay_amt1                          0\n",
       "pay_amt2                          0\n",
       "pay_amt3                          0\n",
       "pay_amt4                          0\n",
       "pay_amt5                          0\n",
       "pay_amt6                          0\n",
       "default payment next month        0\n",
       "dtype: int64"
      ]
     },
     "execution_count": 107,
     "metadata": {},
     "output_type": "execute_result"
    }
   ],
   "source": [
    "# Verify no data was \"lost\" during conversion\n",
    "credit.isna().sum()"
   ]
  },
  {
   "cell_type": "markdown",
   "id": "67a77f23",
   "metadata": {},
   "source": [
    "## NEED TO ASSESS THE NA'S IDENTIFIED ABOVE"
   ]
  },
  {
   "cell_type": "markdown",
   "id": "fc30ae7b",
   "metadata": {},
   "source": [
    "### Code Not Used:"
   ]
  },
  {
   "cell_type": "code",
   "execution_count": 72,
   "id": "888fdb5f",
   "metadata": {},
   "outputs": [],
   "source": [
    "# Define the categories\n",
    "cat_dict = {\n",
    "    'education': ['Graduate', 'University', 'High School', 'Others'],\n",
    "    'sex': ['Male', 'Female'],\n",
    "    'marriage': ['Married', 'Single', 'Others'],\n",
    "    'pay_0': ['Pay Duly', 'Delay One Month', 'Delay Two Months', 'Delay Three Months', 'Delay Four Months', 'Delay Five Months', 'Delay Six Months', 'Delay Seven Months', 'Delay Eight Months', 'Delay Nine Months'],\n",
    "    'pay_2': ['Pay Duly', 'Delay One Month', 'Delay Two Months', 'Delay Three Months', 'Delay Four Months', 'Delay Five Months', 'Delay Six Months', 'Delay Seven Months', 'Delay Eight Months', 'Delay Nine Months'],\n",
    "    'pay_3': ['Pay Duly', 'Delay One Month', 'Delay Two Months', 'Delay Three Months', 'Delay Four Months', 'Delay Five Months', 'Delay Six Months', 'Delay Seven Months', 'Delay Eight Months', 'Delay Nine Months'],\n",
    "    'pay_4': ['Pay Duly', 'Delay One Month', 'Delay Two Months', 'Delay Three Months', 'Delay Four Months', 'Delay Five Months', 'Delay Six Months', 'Delay Seven Months', 'Delay Eight Months', 'Delay Nine Months'],\n",
    "    'pay_5': ['Pay Duly', 'Delay One Month', 'Delay Two Months', 'Delay Three Months', 'Delay Four Months', 'Delay Five Months', 'Delay Six Months', 'Delay Seven Months', 'Delay Eight Months', 'Delay Nine Months'],\n",
    "    'pay_6': ['Pay Duly', 'Delay One Month', 'Delay Two Months', 'Delay Three Months', 'Delay Four Months', 'Delay Five Months', 'Delay Six Months', 'Delay Seven Months', 'Delay Eight Months', 'Delay Nine Months']\n",
    "}\n",
    "\n",
    "# Convert to categorical using a loop\n",
    "for col in cat_cols:\n",
    "    if col in cat_dict:\n",
    "        credit[col] = pd.Categorical(\n",
    "            credit[col],\n",
    "            categories=cat_dict[col]\n",
    "        )\n",
    "\n",
    "\n",
    "\n"
   ]
  }
 ],
 "metadata": {
  "kernelspec": {
   "display_name": "Python 3",
   "language": "python",
   "name": "python3"
  },
  "language_info": {
   "codemirror_mode": {
    "name": "ipython",
    "version": 3
   },
   "file_extension": ".py",
   "mimetype": "text/x-python",
   "name": "python",
   "nbconvert_exporter": "python",
   "pygments_lexer": "ipython3",
   "version": "3.13.5"
  }
 },
 "nbformat": 4,
 "nbformat_minor": 5
}
